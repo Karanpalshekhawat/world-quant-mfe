{
 "cells": [
  {
   "cell_type": "code",
   "execution_count": 1,
   "id": "b474086c",
   "metadata": {},
   "outputs": [],
   "source": [
    "import matplotlib.pyplot as plt\n",
    "import numpy as np\n",
    "from numpy.random import rand, seed"
   ]
  },
  {
   "cell_type": "code",
   "execution_count": 2,
   "id": "9f7c8dd8",
   "metadata": {},
   "outputs": [
    {
     "name": "stdout",
     "output_type": "stream",
     "text": [
      "[ 0.47143516 -1.19097569]\n"
     ]
    }
   ],
   "source": [
    "# EXAMPLE OF A STATIONARY k-BANDIT PROBLEM\n",
    "# Parameters\n",
    "NK = 2\n",
    "seed(1234)\n",
    "\n",
    "# Initialize actual distribution of each bandit\n",
    "NMEANS = np.random.normal(loc=0.0, scale=1.0, size=NK)\n",
    "\n",
    "print(NMEANS)"
   ]
  },
  {
   "cell_type": "code",
   "execution_count": 3,
   "id": "4896247b",
   "metadata": {},
   "outputs": [],
   "source": [
    "seed(1234)\n",
    "def optimal_action(qvalue, eps):\n",
    "    \"\"\"\n",
    "    Determines what is the action to take given a measure of past\n",
    "    expected rewards across actions. With probability eps the action\n",
    "    is not the greedy one\n",
    "    \"\"\"\n",
    "    nactions = qvalue.shape[0]\n",
    "    action_hat = np.where(qvalue == np.max(qvalue))\n",
    "\n",
    "    if rand() <= eps:\n",
    "        randnum = rand()\n",
    "        for aa in range(nactions):\n",
    "            if randnum < (aa + 1) / nactions:\n",
    "                break\n",
    "    elif action_hat[0].shape[0] > 1:\n",
    "        # Randomize action when ties\n",
    "        randnum = rand()\n",
    "        for aa in range(action_hat[0].shape[0]):\n",
    "            if randnum < (aa + 1) / action_hat[0].shape[0]:\n",
    "                break\n",
    "        aa = action_hat[0][aa]\n",
    "    else:\n",
    "        aa = np.argmax(qvalue)\n",
    "\n",
    "    return aa"
   ]
  },
  {
   "cell_type": "code",
   "execution_count": 13,
   "id": "1ab8927b",
   "metadata": {},
   "outputs": [],
   "source": [
    "seed(1234)\n",
    "def reward_update(action, reward, qvalue_old, alpha):\n",
    "    qvalue_new = qvalue_old.copy()\n",
    "\n",
    "    qvalue_new[action] = qvalue_old[action] + alpha * (reward - qvalue_old[action])\n",
    "\n",
    "    return qvalue_new"
   ]
  },
  {
   "cell_type": "code",
   "execution_count": 5,
   "id": "eea0fab0",
   "metadata": {},
   "outputs": [],
   "source": [
    "qvalue = np.zeros((NK))\n",
    "nchoices = np.zeros((NK))\n",
    "epsilon = 0.1"
   ]
  },
  {
   "cell_type": "code",
   "execution_count": 6,
   "id": "99467ca5",
   "metadata": {},
   "outputs": [],
   "source": [
    "seed(1234)\n",
    "aa_opt = optimal_action(qvalue, epsilon)\n",
    "reward = np.random.normal(loc=NMEANS[aa_opt], scale=1.0)\n",
    "nchoices[aa_opt] += 1  # update with avg. number of times aa_opt was chosen\n",
    "qvalue = reward_update(aa_opt, reward, qvalue, 1 / nchoices[aa_opt])"
   ]
  },
  {
   "cell_type": "code",
   "execution_count": 7,
   "id": "dec978bf",
   "metadata": {},
   "outputs": [],
   "source": [
    "seed(1234)\n",
    "aa_opt = optimal_action(qvalue, epsilon)\n",
    "reward = np.random.normal(loc=NMEANS[aa_opt], scale=1.0)\n",
    "nchoices[aa_opt] += 1  # update with avg. number of times aa_opt was chosen\n",
    "qvalue = reward_update(aa_opt, reward, qvalue, 1 / nchoices[aa_opt])"
   ]
  },
  {
   "cell_type": "code",
   "execution_count": 8,
   "id": "be860936",
   "metadata": {},
   "outputs": [],
   "source": [
    "seed(1234)\n",
    "aa_opt = optimal_action(qvalue, epsilon)\n",
    "reward = np.random.normal(loc=NMEANS[aa_opt], scale=1.0)\n",
    "nchoices[aa_opt] += 1  # update with avg. number of times aa_opt was chosen\n",
    "qvalue = reward_update(aa_opt, reward, qvalue, 1 / nchoices[aa_opt])"
   ]
  },
  {
   "cell_type": "code",
   "execution_count": 9,
   "id": "94e0eee0",
   "metadata": {},
   "outputs": [
    {
     "data": {
      "text/plain": [
       "array([-0.56219613, -0.99143786])"
      ]
     },
     "execution_count": 9,
     "metadata": {},
     "output_type": "execute_result"
    }
   ],
   "source": [
    "qvalue"
   ]
  },
  {
   "cell_type": "code",
   "execution_count": 10,
   "id": "aeecd851",
   "metadata": {},
   "outputs": [
    {
     "data": {
      "text/plain": [
       "array([1., 2.])"
      ]
     },
     "execution_count": 10,
     "metadata": {},
     "output_type": "execute_result"
    }
   ],
   "source": [
    "nchoices"
   ]
  },
  {
   "cell_type": "code",
   "execution_count": 11,
   "id": "912aac1f",
   "metadata": {},
   "outputs": [],
   "source": [
    "seed(1234)\n",
    "qvalue = np.zeros((NK))\n",
    "nchoices = np.zeros((NK))\n",
    "EPSILON = 0\n",
    "ALPHA = 0.25"
   ]
  },
  {
   "cell_type": "code",
   "execution_count": 12,
   "id": "6c5fcdd7",
   "metadata": {},
   "outputs": [],
   "source": [
    "aa_opt = optimal_action(qvalue, EPSILON)\n",
    "reward = np.random.normal(loc=NMEANS[aa_opt], scale=1.0)\n",
    "nchoices[aa_opt] += 1 \n",
    "qvalue = reward_update(aa_opt, reward, qvalue, ALPHA)"
   ]
  },
  {
   "cell_type": "code",
   "execution_count": 7,
   "id": "50e28ed5",
   "metadata": {},
   "outputs": [],
   "source": [
    "seed(1234)\n",
    "def optimal_action(qvalue, eps):\n",
    "    \"\"\"\n",
    "    Determines what is the action to take given a measure of past\n",
    "    expected rewards across actions. With probability eps the action\n",
    "    is not the greedy one\n",
    "    \"\"\"\n",
    "    nactions = qvalue.shape[0]\n",
    "    action_hat = np.where(qvalue == np.max(qvalue))\n",
    "\n",
    "    if rand() <= eps:\n",
    "        randnum = rand()\n",
    "        for aa in range(nactions):\n",
    "            if randnum < (aa + 1) / nactions:\n",
    "                break\n",
    "    elif action_hat[0].shape[0] > 1:\n",
    "        # Randomize action when ties\n",
    "        randnum = rand()\n",
    "        for aa in range(action_hat[0].shape[0]):\n",
    "            if randnum < (aa + 1) / action_hat[0].shape[0]:\n",
    "                break\n",
    "        aa = action_hat[0][aa]\n",
    "    else:\n",
    "        aa = np.argmax(qvalue)\n",
    "\n",
    "    return aa\n",
    "\n",
    "def reward_update(action, reward, qvalue_old, alpha):\n",
    "    qvalue_new = qvalue_old.copy()\n",
    "\n",
    "    qvalue_new[action] = qvalue_old[action] + alpha * (reward - qvalue_old[action])\n",
    "\n",
    "    return qvalue_new\n",
    "\n",
    "NK = 2\n",
    "\n",
    "# Initialize actual distribution of each bandit\n",
    "NMEANS = np.random.normal(loc=0.0, scale=1.0, size=NK)\n",
    "\n",
    "qvalue = np.zeros((NK))\n",
    "nchoices = np.zeros((NK))\n",
    "epsilon = 0.75\n",
    "aa_opt = optimal_action(qvalue, epsilon)\n",
    "reward = np.random.normal(loc=NMEANS[aa_opt], scale=1.0)\n",
    "nchoices[aa_opt] += 1  # update with avg. number of times aa_opt was chosen\n",
    "qvalue = reward_update(aa_opt, reward, qvalue, 1 / nchoices[aa_opt])\n",
    "#2\n",
    "aa_opt = optimal_action(qvalue, epsilon)\n",
    "reward = np.random.normal(loc=NMEANS[aa_opt], scale=1.0)\n",
    "nchoices[aa_opt] += 1  # update with avg. number of times aa_opt was chosen\n",
    "qvalue = reward_update(aa_opt, reward, qvalue, 1 / nchoices[aa_opt])\n",
    "#3\n",
    "aa_opt = optimal_action(qvalue, epsilon)\n",
    "reward = np.random.normal(loc=NMEANS[aa_opt], scale=1.0)\n",
    "nchoices[aa_opt] += 1  # update with avg. number of times aa_opt was chosen\n",
    "qvalue = reward_update(aa_opt, reward, qvalue, 1 / nchoices[aa_opt])"
   ]
  },
  {
   "cell_type": "code",
   "execution_count": 8,
   "id": "724a7195",
   "metadata": {},
   "outputs": [
    {
     "data": {
      "text/plain": [
       "array([ 0.14082834, -1.10768859])"
      ]
     },
     "execution_count": 8,
     "metadata": {},
     "output_type": "execute_result"
    }
   ],
   "source": [
    "qvalue"
   ]
  },
  {
   "cell_type": "code",
   "execution_count": 24,
   "id": "fa5e9af8",
   "metadata": {},
   "outputs": [],
   "source": [
    "seed(1234)\n",
    "def optimal_action(qvalue, eps):\n",
    "    \"\"\"\n",
    "    Determines what is the action to take given a measure of past\n",
    "    expected rewards across actions. With probability eps the action\n",
    "    is not the greedy one\n",
    "    \"\"\"\n",
    "    nactions = qvalue.shape[0]\n",
    "    action_hat = np.where(qvalue == np.max(qvalue))\n",
    "\n",
    "    if rand() <= eps:\n",
    "        randnum = rand()\n",
    "        for aa in range(nactions):\n",
    "            if randnum < (aa + 1) / nactions:\n",
    "                break\n",
    "    elif action_hat[0].shape[0] > 1:\n",
    "        # Randomize action when ties\n",
    "        randnum = rand()\n",
    "        for aa in range(action_hat[0].shape[0]):\n",
    "            if randnum < (aa + 1) / action_hat[0].shape[0]:\n",
    "                break\n",
    "        aa = action_hat[0][aa]\n",
    "    else:\n",
    "        aa = np.argmax(qvalue)\n",
    "\n",
    "    return aa\n",
    "\n",
    "def reward_update(action, reward, qvalue_old, alpha):\n",
    "    qvalue_new = qvalue_old.copy()\n",
    "\n",
    "    qvalue_new[action] = qvalue_old[action] + alpha * (reward - qvalue_old[action])\n",
    "\n",
    "    return qvalue_new\n",
    "\n",
    "NK = 2\n",
    "\n",
    "# Initialize actual distribution of each bandit\n",
    "NMEANS = np.random.normal(loc=0.0, scale=1.0, size=NK)\n",
    "\n",
    "qvalue = np.zeros((NK))\n",
    "nchoices = np.zeros((NK))\n",
    "EPSILON = 0.25\n",
    "ALPHA = 0.25\n",
    "#1\n",
    "aa_opt = optimal_action(qvalue, EPSILON)\n",
    "reward = np.random.normal(loc=NMEANS[aa_opt], scale=1.0)\n",
    "nchoices[aa_opt] += 1 \n",
    "qvalue = reward_update(aa_opt, reward, qvalue, ALPHA)\n",
    "#2\n",
    "aa_opt = optimal_action(qvalue, EPSILON)\n",
    "reward = np.random.normal(loc=NMEANS[aa_opt], scale=1.0)\n",
    "nchoices[aa_opt] += 1 \n",
    "qvalue = reward_update(aa_opt, reward, qvalue, ALPHA)\n",
    "#3\n",
    "aa_opt = optimal_action(qvalue, EPSILON)\n",
    "reward = np.random.normal(loc=NMEANS[aa_opt], scale=1.0)\n",
    "nchoices[aa_opt] += 1 \n",
    "qvalue = reward_update(aa_opt, reward, qvalue, ALPHA)"
   ]
  },
  {
   "cell_type": "code",
   "execution_count": 25,
   "id": "1dc4b9b8",
   "metadata": {},
   "outputs": [
    {
     "data": {
      "text/plain": [
       "array([ 0.37652003, -0.47789111])"
      ]
     },
     "execution_count": 25,
     "metadata": {},
     "output_type": "execute_result"
    }
   ],
   "source": [
    "qvalue"
   ]
  },
  {
   "cell_type": "code",
   "execution_count": 22,
   "id": "5b3aa4ff",
   "metadata": {},
   "outputs": [],
   "source": [
    "seed(1234)\n",
    "def optimal_action(qvalue, eps):\n",
    "    \"\"\"\n",
    "    Determines what is the action to take given a measure of past\n",
    "    expected rewards across actions. With probability eps the action\n",
    "    is not the greedy one\n",
    "    \"\"\"\n",
    "    nactions = qvalue.shape[0]\n",
    "    action_hat = np.where(qvalue == np.max(qvalue))\n",
    "\n",
    "    if rand() <= eps:\n",
    "        randnum = rand()\n",
    "        for aa in range(nactions):\n",
    "            if randnum < (aa + 1) / nactions:\n",
    "                break\n",
    "    elif action_hat[0].shape[0] > 1:\n",
    "        # Randomize action when ties\n",
    "        randnum = rand()\n",
    "        for aa in range(action_hat[0].shape[0]):\n",
    "            if randnum < (aa + 1) / action_hat[0].shape[0]:\n",
    "                break\n",
    "        aa = action_hat[0][aa]\n",
    "    else:\n",
    "        aa = np.argmax(qvalue)\n",
    "\n",
    "    return aa\n",
    "\n",
    "def reward_update(action, reward, qvalue_old, alpha):\n",
    "    qvalue_new = qvalue_old.copy()\n",
    "\n",
    "    qvalue_new[action] = qvalue_old[action] + alpha * (reward - qvalue_old[action])\n",
    "\n",
    "    return qvalue_new\n",
    "\n",
    "NK = 2\n",
    "\n",
    "# Initialize actual distribution of each bandit\n",
    "NMEANS = np.random.normal(loc=0.0, scale=0.5, size=NK)\n",
    "\n",
    "qvalue = np.zeros((NK))\n",
    "nchoices = np.zeros((NK))\n",
    "epsilon = 0.0\n",
    "aa_opt = optimal_action(qvalue, epsilon)\n",
    "reward = np.random.normal(loc=NMEANS[aa_opt], scale=0.5)\n",
    "nchoices[aa_opt] += 1  # update with avg. number of times aa_opt was chosen\n",
    "qvalue = reward_update(aa_opt, reward, qvalue, 1 / nchoices[aa_opt])\n",
    "#2\n",
    "aa_opt = optimal_action(qvalue, epsilon)\n",
    "reward = np.random.normal(loc=NMEANS[aa_opt], scale=0.5)\n",
    "nchoices[aa_opt] += 1  # update with avg. number of times aa_opt was chosen\n",
    "qvalue = reward_update(aa_opt, reward, qvalue, 1 / nchoices[aa_opt])\n",
    "#3\n",
    "aa_opt = optimal_action(qvalue, epsilon)\n",
    "reward = np.random.normal(loc=NMEANS[aa_opt], scale=0.5)\n",
    "nchoices[aa_opt] += 1  # update with avg. number of times aa_opt was chosen\n",
    "qvalue = reward_update(aa_opt, reward, qvalue, 1 / nchoices[aa_opt])"
   ]
  },
  {
   "cell_type": "code",
   "execution_count": 23,
   "id": "a00ce910",
   "metadata": {},
   "outputs": [
    {
     "data": {
      "text/plain": [
       "array([ 0.46143241, -0.95578221])"
      ]
     },
     "execution_count": 23,
     "metadata": {},
     "output_type": "execute_result"
    }
   ],
   "source": [
    "qvalue"
   ]
  },
  {
   "cell_type": "code",
   "execution_count": 17,
   "id": "74b2e55c",
   "metadata": {},
   "outputs": [
    {
     "data": {
      "text/plain": [
       "1"
      ]
     },
     "execution_count": 17,
     "metadata": {},
     "output_type": "execute_result"
    }
   ],
   "source": [
    "aa_opt"
   ]
  },
  {
   "cell_type": "code",
   "execution_count": null,
   "id": "9ed17689",
   "metadata": {},
   "outputs": [],
   "source": []
  }
 ],
 "metadata": {
  "kernelspec": {
   "display_name": "Python 3 (ipykernel)",
   "language": "python",
   "name": "python3"
  },
  "language_info": {
   "codemirror_mode": {
    "name": "ipython",
    "version": 3
   },
   "file_extension": ".py",
   "mimetype": "text/x-python",
   "name": "python",
   "nbconvert_exporter": "python",
   "pygments_lexer": "ipython3",
   "version": "3.10.6"
  }
 },
 "nbformat": 4,
 "nbformat_minor": 5
}
