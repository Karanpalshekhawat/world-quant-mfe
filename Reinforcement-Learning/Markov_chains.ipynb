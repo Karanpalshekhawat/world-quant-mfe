{
 "cells": [
  {
   "cell_type": "code",
   "execution_count": 1,
   "id": "e923712a",
   "metadata": {},
   "outputs": [],
   "source": [
    "import matplotlib.pyplot as plt\n",
    "import numpy as np\n",
    "from numpy.random import rand, seed"
   ]
  },
  {
   "cell_type": "markdown",
   "id": "ad3c2e12",
   "metadata": {},
   "source": [
    "Define Probability Transition matrix with rows as all possible states"
   ]
  },
  {
   "cell_type": "code",
   "execution_count": 2,
   "id": "658a9157",
   "metadata": {},
   "outputs": [],
   "source": [
    "N_STATES = 2 # suppose only 2 possible states\n",
    "S = np.zeros((2, 1))\n",
    "P = np.zeros((2, 2))\n",
    "\n",
    "S[0] = -1\n",
    "S[1] = 1\n",
    "\n",
    "P[0, 0] = 0.55\n",
    "P[0, 1] = 1.0 - P[0, 0]\n",
    "P[1, 1] = 0.55\n",
    "P[1, 0] = 1.0 - P[1, 1]"
   ]
  },
  {
   "cell_type": "code",
   "execution_count": 4,
   "id": "f34c96c7",
   "metadata": {},
   "outputs": [
    {
     "name": "stdout",
     "output_type": "stream",
     "text": [
      "State vector:\n",
      " [[-1.]\n",
      " [ 1.]]\n",
      "Transition matrix:\n",
      " [[0.55 0.45]\n",
      " [0.45 0.55]]\n",
      "Conditional mean vector:\n",
      " [[-0.1]\n",
      " [ 0.1]]\n"
     ]
    }
   ],
   "source": [
    "# Display the state vector\n",
    "print(\"State vector:\\n\", S)\n",
    "# Display the transition matrix\n",
    "print(\"Transition matrix:\\n\", P)\n",
    "# Display the conditional mean vector\n",
    "S_condmean = np.dot(P, S)  # expectation of St+1 if St = i\n",
    "print(\"Conditional mean vector:\\n\", S_condmean)"
   ]
  },
  {
   "cell_type": "code",
   "execution_count": 8,
   "id": "39ce6cdc",
   "metadata": {},
   "outputs": [],
   "source": [
    "np.set_printoptions(precision=3, suppress=True)"
   ]
  },
  {
   "cell_type": "markdown",
   "id": "f09f64ad",
   "metadata": {},
   "source": [
    "Suppose that a process  𝑋𝑡\n",
    "  is such that  𝑋𝑡=𝑋𝑡−1+𝑠𝑡\n",
    " , where  𝑠𝑡\n",
    "  is the Markov process above. Let's simulate the process for some arbitrary parameters."
   ]
  },
  {
   "cell_type": "code",
   "execution_count": 23,
   "id": "e344ac3c",
   "metadata": {},
   "outputs": [],
   "source": [
    "LEN_HIST = 50\n",
    "states = np.zeros((LEN_HIST, 2), np.int8)\n",
    "Xarray = np.zeros(LEN_HIST)\n",
    "Psim = np.zeros((2, 2))"
   ]
  },
  {
   "cell_type": "code",
   "execution_count": 13,
   "id": "02fea718",
   "metadata": {},
   "outputs": [],
   "source": [
    "S_DICT = dict([(\"1\",0,),\n",
    "        (\"2\", 1),])\n",
    "S_VAL = dict([(\"1\",-1,),\n",
    "        (\"2\", 1),])"
   ]
  },
  {
   "cell_type": "code",
   "execution_count": 17,
   "id": "43dc9c40",
   "metadata": {},
   "outputs": [],
   "source": [
    "# Generate sequence of uniform random numbers\n",
    "randarray = rand(LEN_HIST)\n",
    "# Initialize process s_0, say at state 1 (0 in Python's vector notation)\n",
    "states[0, :] = (S_DICT[\"1\"], S_VAL[\"1\"])\n",
    "Xarray[0] = 75  # states[0]"
   ]
  },
  {
   "cell_type": "markdown",
   "id": "13ba4d70",
   "metadata": {},
   "source": [
    "Monte-carlo exercise to simulate and find P using the actual randomely generated transition"
   ]
  },
  {
   "cell_type": "code",
   "execution_count": 25,
   "id": "7260a934",
   "metadata": {},
   "outputs": [],
   "source": [
    "for tt in range(1, LEN_HIST):\n",
    "    if P[states[tt - 1, 0], states[tt - 1, 0]] > randarray[tt]:\n",
    "        states[tt, :] = states[tt - 1, :]\n",
    "    else:\n",
    "        if states[tt - 1, 0] == S_DICT[\"1\"]:\n",
    "            states[tt, :] = [S_DICT[\"2\"], S_VAL[\"2\"]]\n",
    "        else:\n",
    "            states[tt, :] = [S_DICT[\"1\"], S_VAL[\"1\"]]\n",
    "    Xarray[tt] = Xarray[tt - 1] + states[tt, 1]\n",
    "    Psim[states[tt - 1, 0], states[tt, 0]] = (\n",
    "        1.0 + Psim[states[tt - 1, 0], states[tt, 0]]\n",
    "    )"
   ]
  },
  {
   "cell_type": "code",
   "execution_count": 27,
   "id": "7fc013cf",
   "metadata": {},
   "outputs": [
    {
     "name": "stdout",
     "output_type": "stream",
     "text": [
      "[[0.435 0.565]\n",
      " [0.462 0.538]]\n"
     ]
    }
   ],
   "source": [
    "# Compute estimated transition matrix from the Monte Carlo exercise\n",
    "Pest = (Psim.T / np.sum(Psim, axis=1)).T\n",
    "\n",
    "print(Pest)"
   ]
  },
  {
   "cell_type": "code",
   "execution_count": 44,
   "id": "f9e1f48a",
   "metadata": {},
   "outputs": [],
   "source": [
    "from numpy import linalg as LA\n",
    "eigenvalues, eigenvectors = LA.eig(np.array([[0.1, 0.9], [0.25, 0.75]]))"
   ]
  },
  {
   "cell_type": "code",
   "execution_count": 45,
   "id": "f2bcb425",
   "metadata": {},
   "outputs": [
    {
     "data": {
      "text/plain": [
       "array([-0.15,  1.  ])"
      ]
     },
     "execution_count": 45,
     "metadata": {},
     "output_type": "execute_result"
    }
   ],
   "source": [
    "eigenvalues"
   ]
  },
  {
   "cell_type": "code",
   "execution_count": 48,
   "id": "aab3be10",
   "metadata": {},
   "outputs": [
    {
     "data": {
      "text/plain": [
       "array([[-0.964, -0.707],\n",
       "       [ 0.268, -0.707]])"
      ]
     },
     "execution_count": 48,
     "metadata": {},
     "output_type": "execute_result"
    }
   ],
   "source": [
    "eigenvectors"
   ]
  },
  {
   "cell_type": "code",
   "execution_count": 50,
   "id": "75778072",
   "metadata": {},
   "outputs": [
    {
     "data": {
      "text/plain": [
       "array([[0.167, 0.833],\n",
       "       [0.167, 0.833]])"
      ]
     },
     "execution_count": 50,
     "metadata": {},
     "output_type": "execute_result"
    }
   ],
   "source": [
    "P = np.array([[0.5, 0.5], [0.1, 0.9]]) \n",
    "P40 = np.linalg.matrix_power(P, 100)\n",
    "P40"
   ]
  },
  {
   "cell_type": "code",
   "execution_count": 49,
   "id": "67b76636",
   "metadata": {},
   "outputs": [
    {
     "name": "stdout",
     "output_type": "stream",
     "text": [
      "[[0.508 0.312 0.18 ]\n",
      " [0.347 0.334 0.319]\n",
      " [0.    0.    1.   ]]\n",
      "[[0.003 0.002 0.995]\n",
      " [0.002 0.002 0.996]\n",
      " [0.    0.    1.   ]]\n",
      "Default time: 27.663124335812967\n"
     ]
    }
   ],
   "source": [
    "# seed random number generator\n",
    "seed(12345)\n",
    "\n",
    "np.set_printoptions(precision=3, suppress=True)\n",
    "\n",
    "P0 = np.array(\n",
    "    [\n",
    "        [0.9, 0.09, 0.01],\n",
    "        [0.1, 0.85, 0.05],\n",
    "        [0,0,1]\n",
    "    ]\n",
    ")\n",
    "\n",
    "# Normalize transition matrix, ignoring NR type\n",
    "P = P0[:, 0 : P0.shape[1]]  # noQA E203\n",
    "P = (P.T / np.sum(P, axis=1)).T\n",
    "\n",
    "# Verify where the ratings process converges given these estimates\n",
    "P10 = np.linalg.matrix_power(P, 10)\n",
    "print(P10)\n",
    "\n",
    "P40 = np.linalg.matrix_power(P, 200)\n",
    "print(P40)\n",
    "\n",
    "# SAMPLING FROM THE MARKOV CHAIN\n",
    "# Simulate how long it takes a firm to default starting with some current rating\n",
    "RATINGS = dict(\n",
    "    [\n",
    "        (\"Investment\", 0),\n",
    "        (\"Speculative\", 1),\n",
    "        (\"D\", 2),\n",
    "    ]\n",
    ")\n",
    "CURR_RATING = \"Speculative\"\n",
    "\n",
    "N_HISTORIES = 1000\n",
    "LEN_HIST = 100\n",
    "histories = np.zeros((N_HISTORIES, LEN_HIST), np.int8)\n",
    "histories[:, 0] = RATINGS[CURR_RATING]\n",
    "randarray = rand(N_HISTORIES, LEN_HIST)\n",
    "\n",
    "default_time = np.zeros(N_HISTORIES)\n",
    "default_sum = 0\n",
    "\n",
    "for i in range(0, N_HISTORIES):\n",
    "    for j in range(1, LEN_HIST):\n",
    "        for r in RATINGS:\n",
    "            if randarray[i, j] < np.cumsum(P[histories[i, j - 1], :])[RATINGS[r]]:\n",
    "                histories[i, j] = RATINGS[r]\n",
    "                break\n",
    "        if histories[i, j] == RATINGS[\"D\"]:\n",
    "            break\n",
    "    # Compute the average time to default\n",
    "    if np.max(histories[i, :]) == RATINGS[\"D\"]:\n",
    "        where_default = np.where((histories[i, :] == RATINGS[\"D\"]))\n",
    "        default_time[i] = where_default[0][0]\n",
    "        default_sum += 1\n",
    "    else:\n",
    "        default_time[i] = 0.0\n",
    "\n",
    "print(\"Default time:\", np.sum(default_time) / default_sum)"
   ]
  },
  {
   "cell_type": "code",
   "execution_count": null,
   "id": "c3d27b07",
   "metadata": {},
   "outputs": [],
   "source": []
  }
 ],
 "metadata": {
  "kernelspec": {
   "display_name": "Python 3 (ipykernel)",
   "language": "python",
   "name": "python3"
  },
  "language_info": {
   "codemirror_mode": {
    "name": "ipython",
    "version": 3
   },
   "file_extension": ".py",
   "mimetype": "text/x-python",
   "name": "python",
   "nbconvert_exporter": "python",
   "pygments_lexer": "ipython3",
   "version": "3.10.6"
  }
 },
 "nbformat": 4,
 "nbformat_minor": 5
}
