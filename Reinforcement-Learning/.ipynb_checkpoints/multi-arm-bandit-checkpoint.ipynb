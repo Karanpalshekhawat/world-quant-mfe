{
 "cells": [
  {
   "cell_type": "code",
   "execution_count": 1,
   "id": "b5aab622",
   "metadata": {},
   "outputs": [],
   "source": [
    "import matplotlib.pyplot as plt\n",
    "import numpy as np\n",
    "from numpy.random import rand, seed"
   ]
  },
  {
   "cell_type": "code",
   "execution_count": 31,
   "id": "554ff905",
   "metadata": {},
   "outputs": [
    {
     "name": "stdout",
     "output_type": "stream",
     "text": [
      "[ 0.47143516 -1.19097569]\n"
     ]
    }
   ],
   "source": [
    "# EXAMPLE OF A STATIONARY k-BANDIT PROBLEM\n",
    "# Parameters\n",
    "NK = 2\n",
    "ITEMAX = 4\n",
    "EPSILON_M = [0.0, 0.1]\n",
    "NEPISODES = 1000\n",
    "\n",
    "seed(1234)\n",
    "\n",
    "# Initialize actual distribution of each bandit\n",
    "NMEANS = np.random.normal(loc=0.0, scale=1.0, size=NK)\n",
    "\n",
    "print(NMEANS)"
   ]
  },
  {
   "cell_type": "code",
   "execution_count": 2,
   "id": "ea451233",
   "metadata": {},
   "outputs": [],
   "source": [
    "def optimal_action(qvalue, eps):\n",
    "    \"\"\"\n",
    "    Determines what is the action to take given a measure of past\n",
    "    expected rewards across actions. With probability eps the action\n",
    "    is not the greedy one\n",
    "    \"\"\"\n",
    "    nactions = qvalue.shape[0]\n",
    "    action_hat = np.where(qvalue == np.max(qvalue))\n",
    "\n",
    "    if rand() <= eps:\n",
    "        randnum = rand()\n",
    "        for aa in range(nactions):\n",
    "            if randnum < (aa + 1) / nactions:\n",
    "                break\n",
    "    elif action_hat[0].shape[0] > 1:\n",
    "        # Randomize action when ties\n",
    "        randnum = rand()\n",
    "        for aa in range(action_hat[0].shape[0]):\n",
    "            if randnum < (aa + 1) / action_hat[0].shape[0]:\n",
    "                break\n",
    "        aa = action_hat[0][aa]\n",
    "    else:\n",
    "        aa = np.argmax(qvalue)\n",
    "\n",
    "    return aa"
   ]
  },
  {
   "cell_type": "code",
   "execution_count": 3,
   "id": "2582fda8",
   "metadata": {},
   "outputs": [],
   "source": [
    "def reward_update(action, reward, qvalue_old, alpha):\n",
    "    qvalue_new = qvalue_old.copy()\n",
    "\n",
    "    qvalue_new[action] = qvalue_old[action] + alpha * (reward - qvalue_old[action])\n",
    "\n",
    "    return qvalue_new"
   ]
  },
  {
   "cell_type": "code",
   "execution_count": 34,
   "id": "05020068",
   "metadata": {},
   "outputs": [],
   "source": [
    "EPSILON = 0.1\n",
    "ALPHA = 0.2\n",
    "\n",
    "seed(1234)\n",
    "\n",
    "reward_avg = np.zeros((ITEMAX, 2))\n",
    "optimal_avg = np.zeros((ITEMAX, 2))"
   ]
  },
  {
   "cell_type": "code",
   "execution_count": 23,
   "id": "f44b61f3",
   "metadata": {},
   "outputs": [],
   "source": [
    "NEPISODES = 3\n",
    "# For stationary\n",
    "for ee in range(2):\n",
    "    epsilon = EPSILON_M[ee]\n",
    "    for run in range(NEPISODES):\n",
    "        # Initialize q function and actions record\n",
    "        qvalue = np.zeros((NK))\n",
    "        nchoices = np.zeros((NK))\n",
    "        for tt in range(ITEMAX):\n",
    "            aa_opt = optimal_action(qvalue, epsilon)\n",
    "            reward = np.random.normal(loc=NMEANS[aa_opt], scale=1.0)\n",
    "            nchoices[aa_opt] += 1  # update with avg. number of times aa_opt was chosen\n",
    "            qvalue = reward_update(aa_opt, reward, qvalue, 1 / nchoices[aa_opt])\n",
    "            reward_avg[tt, ee] += reward / NEPISODES\n",
    "            optimal_avg[tt, ee] += (aa_opt == np.argmax(NMEANS)) / NEPISODES"
   ]
  },
  {
   "cell_type": "code",
   "execution_count": 46,
   "id": "a761b9f4",
   "metadata": {},
   "outputs": [],
   "source": [
    "qvalue = np.zeros((NK))\n",
    "nchoices = np.zeros((NK))\n",
    "epsilon = 0.1"
   ]
  },
  {
   "cell_type": "code",
   "execution_count": 51,
   "id": "5d555e97",
   "metadata": {},
   "outputs": [],
   "source": [
    "seed(1234)\n",
    "for tt in range(ITEMAX):\n",
    "    aa_opt = optimal_action(qvalue, epsilon)\n",
    "    reward = np.random.normal(loc=NMEANS[aa_opt], scale=1.0)\n",
    "    nchoices[aa_opt] += 1  # update with avg. number of times aa_opt was chosen\n",
    "    qvalue = reward_update(aa_opt, reward, qvalue, 1 / nchoices[aa_opt])\n",
    "    reward_avg[tt, ee] += reward / NEPISODES\n",
    "    optimal_avg[tt, ee] += (aa_opt == np.argmax(NMEANS)) / NEPISODES"
   ]
  },
  {
   "cell_type": "code",
   "execution_count": 52,
   "id": "8d91bffc",
   "metadata": {},
   "outputs": [
    {
     "data": {
      "text/plain": [
       "array([ 0.14104231, -0.49943311])"
      ]
     },
     "execution_count": 52,
     "metadata": {},
     "output_type": "execute_result"
    }
   ],
   "source": [
    "qvalue"
   ]
  },
  {
   "cell_type": "code",
   "execution_count": null,
   "id": "7e3d1470",
   "metadata": {},
   "outputs": [],
   "source": []
  }
 ],
 "metadata": {
  "kernelspec": {
   "display_name": "Python 3 (ipykernel)",
   "language": "python",
   "name": "python3"
  },
  "language_info": {
   "codemirror_mode": {
    "name": "ipython",
    "version": 3
   },
   "file_extension": ".py",
   "mimetype": "text/x-python",
   "name": "python",
   "nbconvert_exporter": "python",
   "pygments_lexer": "ipython3",
   "version": "3.10.6"
  }
 },
 "nbformat": 4,
 "nbformat_minor": 5
}
