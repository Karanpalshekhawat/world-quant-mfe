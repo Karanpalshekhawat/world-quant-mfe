{
 "cells": [
  {
   "cell_type": "markdown",
   "id": "4e7ff3d1",
   "metadata": {},
   "source": [
    "Trinomial model is extension of binomial but it itroduces an extra set of variable but if we follow the same equation that we used to solve binomial model, we will realise that it does not give you a unique set of solution i.e. 3 unknowns but 2 equation (1 on the martigale condition and other is the probbaility summation to 1).\n",
    "\n",
    "We have to find a way to come up with the third set of equation to get one unique solution. \n",
    "\n",
    "Why do we care about unique solution?\n",
    "\n",
    "Otherwise it may results in non market completeness i.e. for market completeness sake (I did not understand it correctly, will try to study later), they add another equation. \n",
    "\n",
    "Now, you can use multiple method to get this market completeness (like adding an extra risky asset). Most common method is the matching volatility approach i.e. we can get Var(S (t)), and equate it with expectation of variance of S(t+1)."
   ]
  },
  {
   "cell_type": "code",
   "execution_count": 3,
   "id": "973a209f",
   "metadata": {},
   "outputs": [],
   "source": [
    "import numpy as np\n",
    "import pandas as pd"
   ]
  },
  {
   "cell_type": "code",
   "execution_count": 4,
   "id": "78c3b48d",
   "metadata": {},
   "outputs": [],
   "source": [
    "def _gen_stock_vec(nb, up):\n",
    "    s0 = 100\n",
    "    down = 1 / up\n",
    "    vec_u = up * np.ones(nb)\n",
    "    np.cumprod(vec_u, out=vec_u)  # Computing u, u^2, u^3....u^nb\n",
    "\n",
    "    vec_d = down * np.ones(nb)\n",
    "    np.cumprod(vec_d, out=vec_d)  # Computing d, d^2, d^3....d^nb\n",
    "\n",
    "    res = np.concatenate(\n",
    "        (vec_d[::-1], [1.0], vec_u)\n",
    "    )  # putting together the last period tree underlyings\n",
    "    res *= s0\n",
    "    return res"
   ]
  },
  {
   "cell_type": "markdown",
   "id": "25865c69",
   "metadata": {},
   "source": [
    "Terminal value finding code"
   ]
  },
  {
   "cell_type": "code",
   "execution_count": 5,
   "id": "680562d1",
   "metadata": {},
   "outputs": [
    {
     "name": "stdout",
     "output_type": "stream",
     "text": [
      "[ 48.22530864  57.87037037  69.44444444  83.33333333 100.\n",
      " 120.         144.         172.8        207.36      ]\n",
      "[ 57.87037037  69.44444444  83.33333333 100.         120.\n",
      " 144.         172.8       ]\n",
      "[ 69.44444444  83.33333333 100.         120.         144.        ]\n",
      "[ 83.33333333 100.         120.        ]\n",
      "[100.]\n"
     ]
    }
   ],
   "source": [
    "nb = 5\n",
    "for i in range(1, nb + 1):\n",
    "    vec_stock = _gen_stock_vec(nb - i, 1.2)\n",
    "    print(vec_stock)\n",
    "# terminal values for a particular nb"
   ]
  },
  {
   "cell_type": "markdown",
   "id": "56776387",
   "metadata": {},
   "source": [
    "###  Matching underlying volatility to the parameters in the tree"
   ]
  },
  {
   "cell_type": "code",
   "execution_count": 11,
   "id": "0e7f5f5e",
   "metadata": {},
   "outputs": [],
   "source": [
    "def _gen_stock_vec_matching_vol(nb, h, sigma):\n",
    "    s0 = 100\n",
    "    sigma = sigma # volatility\n",
    "    up = np.exp(sigma * np.sqrt(2 * h)) # matching the volatility\n",
    "    down = 1 / up  # down movement to force a \"recombining tree\"\n",
    "\n",
    "    vec_u = up * np.ones(nb)\n",
    "    np.cumprod(vec_u, out=vec_u)  # Computing u, u^2, u^3....u^nb\n",
    "\n",
    "    vec_d = down * np.ones(nb)\n",
    "    np.cumprod(vec_d, out=vec_d)  # Computing d, d^2, d^3....d^nb\n",
    "\n",
    "    res = np.concatenate(\n",
    "        (vec_d[::-1], [1.0], vec_u)\n",
    "    )  # putting together the last period tree underlyings\n",
    "    res *= s0\n",
    "    return res"
   ]
  },
  {
   "cell_type": "code",
   "execution_count": 8,
   "id": "fa32d40a",
   "metadata": {},
   "outputs": [
    {
     "name": "stdout",
     "output_type": "stream",
     "text": [
      "[ 61.26889168  78.27444773 100.         127.75561233 163.21496482]\n",
      "[ 78.27444773 100.         127.75561233]\n",
      "[100.]\n"
     ]
    }
   ],
   "source": [
    "nb = 3  # 3-steps in 1 \"year\" (assuming parameters are all annualized)\n",
    "h = 1 / nb\n",
    "for i in range(1, nb + 1):\n",
    "    vec_stock = _gen_stock_vec_matching_vol(nb - i, h)\n",
    "    print(vec_stock)"
   ]
  },
  {
   "cell_type": "code",
   "execution_count": 26,
   "id": "ca5bd32f",
   "metadata": {},
   "outputs": [],
   "source": [
    "def price(\n",
    "    nb_steps, opt_type\n",
    "):  # For now, the only input to the function is the number of steps for the tree, N.\n",
    "    # Define parameters\n",
    "    r = 0\n",
    "    sigma = 0.3\n",
    "    T = 1\n",
    "    K = 90\n",
    "    h = T / nb_steps  # This would be our 'dt' from previous examples\n",
    "    discount = np.exp(-r * h)  # Define discount factor for simplicity later on\n",
    "\n",
    "    # Define risk-neutral probabilities:\n",
    "    pu = (\n",
    "        (np.exp(r * h / 2) - np.exp(-sigma * np.sqrt(h / 2)))\n",
    "        / (np.exp(sigma * np.sqrt(h / 2)) - np.exp(-sigma * np.sqrt(h / 2)))\n",
    "    ) ** 2\n",
    "    pd = (\n",
    "        (-np.exp(r * h / 2) + np.exp(sigma * np.sqrt(h / 2)))\n",
    "        / (np.exp(sigma * np.sqrt(h / 2)) - np.exp(-sigma * np.sqrt(h / 2)))\n",
    "    ) ** 2\n",
    "    pm = 1 - pu - pd\n",
    "    print(pu, pd, pm)\n",
    "    # This would be our underlying evolution (Note we are using the function from before!)\n",
    "    s = _gen_stock_vec_matching_vol(nb_steps, h, sigma=sigma)\n",
    "\n",
    "    # Define Payoff (in this case, European Call Option)\n",
    "    if opt_type == \"C\":\n",
    "        final_payoff = np.maximum(s - K, 0)\n",
    "    else:\n",
    "        final_payoff = np.maximum(K - s, 0)\n",
    "    nxt_vec_prices = final_payoff\n",
    "\n",
    "    # Proceed with iterations for the calculation of payoffs\n",
    "    for i in range(1, nb_steps + 1):\n",
    "        vec_stock = _gen_stock_vec_matching_vol(nb_steps - i, h, sigma=sigma)\n",
    "        expectation = np.zeros(vec_stock.size)\n",
    "\n",
    "        for j in range(expectation.size):\n",
    "            tmp = nxt_vec_prices[j] * pd\n",
    "            tmp += nxt_vec_prices[j + 1] * pm\n",
    "            tmp += nxt_vec_prices[j + 2] * pu\n",
    "\n",
    "            expectation[j] = tmp\n",
    "        # Discount option payoff!\n",
    "        nxt_vec_prices = discount * expectation\n",
    "\n",
    "    return nxt_vec_prices[\n",
    "        0\n",
    "    ]  # Notice here we only 'return' the expected discounted value of the option at t=0, that is, the price of the call option!"
   ]
  },
  {
   "cell_type": "code",
   "execution_count": 28,
   "id": "1bd0b847",
   "metadata": {},
   "outputs": [
    {
     "name": "stdout",
     "output_type": "stream",
     "text": [
      "0.19995651425667543 0.30562656562099344 0.49441692012233107\n",
      " Price of the Euro Call Option is  17.510739480221844\n"
     ]
    }
   ],
   "source": [
    "print(\" Price of the Euro Call Option is \", price(1, \"C\"))"
   ]
  },
  {
   "cell_type": "markdown",
   "id": "20247e13",
   "metadata": {},
   "source": [
    "Using object oriented programming approach"
   ]
  },
  {
   "cell_type": "code",
   "execution_count": 14,
   "id": "e44ddf50",
   "metadata": {},
   "outputs": [],
   "source": [
    "class TrinomialModel(object):  # Here we start defining our 'class' --> Trinomial Model!\n",
    "    # First, a method to initialize our `TrinomialModel` algorithm!\n",
    "    def __init__(self, S0, r, sigma, mat):\n",
    "        self.__s0 = S0\n",
    "        self.__r = r\n",
    "        self.__sigma = sigma\n",
    "        self.__T = mat\n",
    "\n",
    "    # Second, we build a method (function) to compute the risk-neutral probabilities!\n",
    "    def __compute_probs(self):\n",
    "        self.__pu = (\n",
    "            (\n",
    "                np.exp(self.__r * self.__h / 2)\n",
    "                - np.exp(-self.__sigma * np.sqrt(self.__h / 2))\n",
    "            )\n",
    "            / (\n",
    "                np.exp(self.__sigma * np.sqrt(self.__h / 2))\n",
    "                - np.exp(-self.__sigma * np.sqrt(self.__h / 2))\n",
    "            )\n",
    "        ) ** 2\n",
    "        self.__pd = (\n",
    "            (\n",
    "                -np.exp(self.__r * self.__h / 2)\n",
    "                + np.exp(self.__sigma * np.sqrt(self.__h / 2))\n",
    "            )\n",
    "            / (\n",
    "                np.exp(self.__sigma * np.sqrt(self.__h / 2))\n",
    "                - np.exp(-self.__sigma * np.sqrt(self.__h / 2))\n",
    "            )\n",
    "        ) ** 2\n",
    "        self.__pm = 1 - self.__pu - self.__pd\n",
    "\n",
    "        assert 0 <= self.__pu <= 1.0, \"p_u should lie in [0, 1] given %s\" % self.__pu\n",
    "        assert 0 <= self.__pd <= 1.0, \"p_d should lie in [0, 1] given %s\" % self.__pd\n",
    "        assert 0 <= self.__pm <= 1.0, \"p_m should lie in [0, 1] given %s\" % self.__pm\n",
    "\n",
    "    # Third, this method checks whether the given parameters are alright and that we have a 'recombining tree'!\n",
    "    def __check_up_value(self, up):\n",
    "        if up is None:\n",
    "            up = np.exp(self.__sigma * np.sqrt(2 * self.__h))\n",
    "\n",
    "        assert up > 0.0, \"up should be non negative\"\n",
    "\n",
    "        down = 1 / up\n",
    "\n",
    "        assert down < up, \"up <= 1. / up = down\"\n",
    "\n",
    "        self.__up = up\n",
    "        self.__down = down\n",
    "\n",
    "    # Four, we use this method to compute underlying stock price path\n",
    "    def __gen_stock_vec(self, nb):\n",
    "        vec_u = self.__up * np.ones(nb)\n",
    "        np.cumprod(vec_u, out=vec_u)\n",
    "\n",
    "        vec_d = self.__down * np.ones(nb)\n",
    "        np.cumprod(vec_d, out=vec_d)\n",
    "\n",
    "        res = np.concatenate((vec_d[::-1], [1.0], vec_u))\n",
    "        res *= self.__s0\n",
    "\n",
    "        return res\n",
    "\n",
    "    # Fifth, we declare a Payoff method to be completed afterwards depending on the instrument we are pricing!\n",
    "    def payoff(self, stock_vec):\n",
    "        raise NotImplementedError()\n",
    "\n",
    "    # Sixth, compute current prices!\n",
    "    def compute_current_price(self, crt_vec_stock, nxt_vec_prices):\n",
    "        expectation = np.zeros(crt_vec_stock.size)\n",
    "        for i in range(expectation.size):\n",
    "            tmp = nxt_vec_prices[i] * self.__pd\n",
    "            tmp += nxt_vec_prices[i + 1] * self.__pm\n",
    "            tmp += nxt_vec_prices[i + 2] * self.__pu\n",
    "\n",
    "            expectation[i] = tmp\n",
    "\n",
    "        return self.__discount * expectation\n",
    "\n",
    "    # Seventh, Option pricing!\n",
    "    def price(self, nb_steps, up=None):\n",
    "        assert nb_steps > 0, \"nb_steps shoud be > 0\"\n",
    "\n",
    "        nb_steps = int(nb_steps)\n",
    "\n",
    "        self.__h = self.__T / nb_steps\n",
    "        self.__check_up_value(up)\n",
    "        self.__compute_probs()\n",
    "\n",
    "        self.__discount = np.exp(-self.__r * self.__h)\n",
    "\n",
    "        final_vec_stock = self.__gen_stock_vec(nb_steps)\n",
    "        final_payoff = self.payoff(final_vec_stock)\n",
    "        nxt_vec_prices = final_payoff\n",
    "\n",
    "        for i in range(1, nb_steps + 1):\n",
    "            vec_stock = self.__gen_stock_vec(nb_steps - i)\n",
    "            nxt_vec_prices = self.compute_current_price(vec_stock, nxt_vec_prices)\n",
    "\n",
    "        return nxt_vec_prices[0]"
   ]
  },
  {
   "cell_type": "code",
   "execution_count": 15,
   "id": "cf11472c",
   "metadata": {},
   "outputs": [],
   "source": [
    "class TrinomialCall(TrinomialModel):\n",
    "    def __init__(self, S0, r, sigma, mat, K):\n",
    "        super(TrinomialCall, self).__init__(S0, r, sigma, mat)\n",
    "        self.__K = K\n",
    "\n",
    "    def payoff(self, s):\n",
    "        return np.maximum(s - self.__K, 0.0)"
   ]
  },
  {
   "cell_type": "code",
   "execution_count": 16,
   "id": "990bc223",
   "metadata": {},
   "outputs": [],
   "source": [
    "class TrinomialPut(TrinomialModel):\n",
    "    def __init__(self, S0, r, sigma, mat, K):\n",
    "        super(TrinomialCall, self).__init__(S0, r, sigma, mat)\n",
    "        self.__K = K\n",
    "\n",
    "    def payoff(self, s):\n",
    "        return np.maximum(self.__K - s, 0.0)"
   ]
  },
  {
   "cell_type": "code",
   "execution_count": 17,
   "id": "39a3f930",
   "metadata": {},
   "outputs": [],
   "source": [
    "tree = TrinomialCall(100.0, 0.0, 0.3, 1.0, 90.0)"
   ]
  },
  {
   "cell_type": "code",
   "execution_count": 20,
   "id": "cd6c47f4",
   "metadata": {},
   "outputs": [
    {
     "data": {
      "text/plain": [
       "17.50162310051333"
      ]
     },
     "execution_count": 20,
     "metadata": {},
     "output_type": "execute_result"
    }
   ],
   "source": [
    "tree.price(2)"
   ]
  },
  {
   "cell_type": "code",
   "execution_count": null,
   "id": "e2c8acbf",
   "metadata": {},
   "outputs": [],
   "source": []
  }
 ],
 "metadata": {
  "kernelspec": {
   "display_name": "Python 3 (ipykernel)",
   "language": "python",
   "name": "python3"
  },
  "language_info": {
   "codemirror_mode": {
    "name": "ipython",
    "version": 3
   },
   "file_extension": ".py",
   "mimetype": "text/x-python",
   "name": "python",
   "nbconvert_exporter": "python",
   "pygments_lexer": "ipython3",
   "version": "3.10.6"
  }
 },
 "nbformat": 4,
 "nbformat_minor": 5
}
