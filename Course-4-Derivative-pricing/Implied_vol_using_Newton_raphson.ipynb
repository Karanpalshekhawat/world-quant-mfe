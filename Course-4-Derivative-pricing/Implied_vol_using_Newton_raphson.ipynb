{
 "cells": [
  {
   "cell_type": "code",
   "execution_count": 1,
   "id": "6b2fa448",
   "metadata": {},
   "outputs": [],
   "source": [
    "from datetime import date\n",
    "\n",
    "import matplotlib.pyplot as plt\n",
    "import yfinance as yf\n",
    "import numpy as np\n",
    "\n",
    "from scipy.stats import norm"
   ]
  },
  {
   "cell_type": "code",
   "execution_count": 2,
   "id": "abbd5e98",
   "metadata": {},
   "outputs": [
    {
     "data": {
      "text/html": [
       "<div>\n",
       "<style scoped>\n",
       "    .dataframe tbody tr th:only-of-type {\n",
       "        vertical-align: middle;\n",
       "    }\n",
       "\n",
       "    .dataframe tbody tr th {\n",
       "        vertical-align: top;\n",
       "    }\n",
       "\n",
       "    .dataframe thead th {\n",
       "        text-align: right;\n",
       "    }\n",
       "</style>\n",
       "<table border=\"1\" class=\"dataframe\">\n",
       "  <thead>\n",
       "    <tr style=\"text-align: right;\">\n",
       "      <th></th>\n",
       "      <th>contractSymbol</th>\n",
       "      <th>lastTradeDate</th>\n",
       "      <th>strike</th>\n",
       "      <th>lastPrice</th>\n",
       "      <th>bid</th>\n",
       "      <th>ask</th>\n",
       "      <th>change</th>\n",
       "      <th>percentChange</th>\n",
       "      <th>volume</th>\n",
       "      <th>openInterest</th>\n",
       "      <th>impliedVolatility</th>\n",
       "      <th>inTheMoney</th>\n",
       "      <th>contractSize</th>\n",
       "      <th>currency</th>\n",
       "    </tr>\n",
       "  </thead>\n",
       "  <tbody>\n",
       "    <tr>\n",
       "      <th>0</th>\n",
       "      <td>IBM230915C00065000</td>\n",
       "      <td>2023-05-08 19:41:21+00:00</td>\n",
       "      <td>65.0</td>\n",
       "      <td>58.50</td>\n",
       "      <td>69.35</td>\n",
       "      <td>70.40</td>\n",
       "      <td>0.0</td>\n",
       "      <td>0.0</td>\n",
       "      <td>2.0</td>\n",
       "      <td>0</td>\n",
       "      <td>0.757327</td>\n",
       "      <td>True</td>\n",
       "      <td>REGULAR</td>\n",
       "      <td>USD</td>\n",
       "    </tr>\n",
       "    <tr>\n",
       "      <th>1</th>\n",
       "      <td>IBM230915C00080000</td>\n",
       "      <td>2023-05-08 19:47:39+00:00</td>\n",
       "      <td>80.0</td>\n",
       "      <td>43.50</td>\n",
       "      <td>54.75</td>\n",
       "      <td>55.55</td>\n",
       "      <td>0.0</td>\n",
       "      <td>0.0</td>\n",
       "      <td>3.0</td>\n",
       "      <td>0</td>\n",
       "      <td>0.594975</td>\n",
       "      <td>True</td>\n",
       "      <td>REGULAR</td>\n",
       "      <td>USD</td>\n",
       "    </tr>\n",
       "    <tr>\n",
       "      <th>2</th>\n",
       "      <td>IBM230915C00085000</td>\n",
       "      <td>2023-05-08 17:21:56+00:00</td>\n",
       "      <td>85.0</td>\n",
       "      <td>37.75</td>\n",
       "      <td>49.40</td>\n",
       "      <td>50.65</td>\n",
       "      <td>0.0</td>\n",
       "      <td>0.0</td>\n",
       "      <td>15.0</td>\n",
       "      <td>0</td>\n",
       "      <td>0.552495</td>\n",
       "      <td>True</td>\n",
       "      <td>REGULAR</td>\n",
       "      <td>USD</td>\n",
       "    </tr>\n",
       "    <tr>\n",
       "      <th>3</th>\n",
       "      <td>IBM230915C00090000</td>\n",
       "      <td>2023-03-13 16:45:01+00:00</td>\n",
       "      <td>90.0</td>\n",
       "      <td>36.90</td>\n",
       "      <td>38.65</td>\n",
       "      <td>39.45</td>\n",
       "      <td>0.0</td>\n",
       "      <td>0.0</td>\n",
       "      <td>3.0</td>\n",
       "      <td>11</td>\n",
       "      <td>0.000010</td>\n",
       "      <td>True</td>\n",
       "      <td>REGULAR</td>\n",
       "      <td>USD</td>\n",
       "    </tr>\n",
       "    <tr>\n",
       "      <th>4</th>\n",
       "      <td>IBM230915C00095000</td>\n",
       "      <td>2023-05-04 19:15:56+00:00</td>\n",
       "      <td>95.0</td>\n",
       "      <td>27.35</td>\n",
       "      <td>36.90</td>\n",
       "      <td>39.35</td>\n",
       "      <td>0.0</td>\n",
       "      <td>0.0</td>\n",
       "      <td>6.0</td>\n",
       "      <td>19</td>\n",
       "      <td>0.000010</td>\n",
       "      <td>True</td>\n",
       "      <td>REGULAR</td>\n",
       "      <td>USD</td>\n",
       "    </tr>\n",
       "  </tbody>\n",
       "</table>\n",
       "</div>"
      ],
      "text/plain": [
       "       contractSymbol             lastTradeDate  strike  lastPrice    bid  \\\n",
       "0  IBM230915C00065000 2023-05-08 19:41:21+00:00    65.0      58.50  69.35   \n",
       "1  IBM230915C00080000 2023-05-08 19:47:39+00:00    80.0      43.50  54.75   \n",
       "2  IBM230915C00085000 2023-05-08 17:21:56+00:00    85.0      37.75  49.40   \n",
       "3  IBM230915C00090000 2023-03-13 16:45:01+00:00    90.0      36.90  38.65   \n",
       "4  IBM230915C00095000 2023-05-04 19:15:56+00:00    95.0      27.35  36.90   \n",
       "\n",
       "     ask  change  percentChange  volume  openInterest  impliedVolatility  \\\n",
       "0  70.40     0.0            0.0     2.0             0           0.757327   \n",
       "1  55.55     0.0            0.0     3.0             0           0.594975   \n",
       "2  50.65     0.0            0.0    15.0             0           0.552495   \n",
       "3  39.45     0.0            0.0     3.0            11           0.000010   \n",
       "4  39.35     0.0            0.0     6.0            19           0.000010   \n",
       "\n",
       "   inTheMoney contractSize currency  \n",
       "0        True      REGULAR      USD  \n",
       "1        True      REGULAR      USD  \n",
       "2        True      REGULAR      USD  \n",
       "3        True      REGULAR      USD  \n",
       "4        True      REGULAR      USD  "
      ]
     },
     "execution_count": 2,
     "metadata": {},
     "output_type": "execute_result"
    }
   ],
   "source": [
    "Mat = \"2023-09-15\"  # Fill in the maturity you want to consider here!\n",
    "\n",
    "ticker = yf.Ticker(\"IBM\")\n",
    "options = ticker.options\n",
    "\n",
    "chain = ticker.option_chain(Mat)\n",
    "data = ticker.history(period=\"5y\")\n",
    "price = data.iloc[-1]['Close']\n",
    "\n",
    "callData = chain.calls\n",
    "putData = chain.puts\n",
    "\n",
    "callData.head(5)"
   ]
  },
  {
   "cell_type": "markdown",
   "id": "4bd29a36",
   "metadata": {},
   "source": [
    "### Volatility Smirk : When volatility smile curve exihibits skewness mostly due to increased demand of put options as a hedge for crashes"
   ]
  },
  {
   "cell_type": "code",
   "execution_count": 26,
   "id": "6d3637d3",
   "metadata": {},
   "outputs": [
    {
     "data": {
      "image/png": "[encoded data removed]",
      "text/plain": [
       "<Figure size 640x480 with 1 Axes>"
      ]
     },
     "metadata": {},
     "output_type": "display_data"
    }
   ],
   "source": [
    "df_call = callData\n",
    "df_call[\"impliedVolatility\"] = df_call[\"impliedVolatility\"].astype(float)\n",
    "df_call = df_call[df_call[\"impliedVolatility\"] > 0]\n",
    "df_call[\"strike\"] = df_call[\"strike\"].astype(float)\n",
    "df_call = df_call[\n",
    "    df_call[\"strike\"] > price * 0.8\n",
    "]  # We will only consider those options within a certain range of the current price\n",
    "df_call = df_call[\n",
    "    df_call[\"strike\"] < price * 1.2\n",
    "]  # One reason for this is that it is precisely those options that are most often traded.\n",
    "\n",
    "\n",
    "df_call.plot(kind=\"scatter\", x=\"strike\", y=\"impliedVolatility\", color=\"red\")\n",
    "plt.grid()\n",
    "plt.show()"
   ]
  },
  {
   "cell_type": "code",
   "execution_count": 27,
   "id": "41d748a6",
   "metadata": {},
   "outputs": [
    {
     "data": {
      "image/png": "[encoded data removed]",
      "text/plain": [
       "<Figure size 640x480 with 1 Axes>"
      ]
     },
     "metadata": {},
     "output_type": "display_data"
    }
   ],
   "source": [
    "df_put = putData\n",
    "df_put[\"impliedVolatility\"] = df_put[\"impliedVolatility\"].astype(float)\n",
    "df_put = df_put[df_put[\"impliedVolatility\"] > 0]\n",
    "df_put[\"strike\"] = df_put[\"strike\"].astype(float)\n",
    "df_put = df_put[\n",
    "    df_put[\"strike\"] > price * 0.8\n",
    "]  # We will only consider those options within a certain range of the current price\n",
    "df_put = df_put[\n",
    "    df_put[\"strike\"] < price * 1.2\n",
    "]  # One reason for this is that it is precisely those options that are most often traded.\n",
    "\n",
    "\n",
    "df_put.plot(kind=\"scatter\", x=\"strike\", y=\"impliedVolatility\", color=\"red\")\n",
    "plt.grid()\n",
    "plt.show()"
   ]
  },
  {
   "cell_type": "markdown",
   "id": "09e845b0",
   "metadata": {},
   "source": [
    "## Newton Raphson Method"
   ]
  },
  {
   "cell_type": "code",
   "execution_count": 3,
   "id": "b92161d4",
   "metadata": {},
   "outputs": [],
   "source": [
    "N_prime = norm.pdf\n",
    "N = norm.cdf"
   ]
  },
  {
   "cell_type": "code",
   "execution_count": 4,
   "id": "fce45a77",
   "metadata": {},
   "outputs": [],
   "source": [
    "def black_scholes_call(S, K, T, r, sigma):\n",
    "    \"\"\"\n",
    "    :param S: Asset price\n",
    "    :param K: Strike price\n",
    "    :param T: Time to maturity\n",
    "    :param r: risk-free rate (treasury bills)\n",
    "    :param sigma: volatility\n",
    "    :return: call price\n",
    "    \"\"\"\n",
    "\n",
    "    # Black-Scholes Formula\n",
    "    d1 = (np.log(S / K) + (r + sigma**2 / 2) * T) / (sigma * np.sqrt(T))\n",
    "    d2 = d1 - sigma * np.sqrt(T)\n",
    "\n",
    "    call = S * N(d1) - N(d2) * K * np.exp(-r * T)\n",
    "    return call"
   ]
  },
  {
   "cell_type": "code",
   "execution_count": 5,
   "id": "e70c6113",
   "metadata": {},
   "outputs": [],
   "source": [
    "def vega(S, K, T, r, sigma):\n",
    "    \"\"\"\n",
    "\n",
    "    :param S: Asset price\n",
    "    :param K: Strike price\n",
    "    :param T: Time to Maturity\n",
    "    :param r: risk-free rate (treasury bills)\n",
    "    :param sigma: volatility\n",
    "    :return: partial derivative w.r.t volatility\n",
    "    \"\"\"\n",
    "\n",
    "    # Calculating d1 from black scholes\n",
    "    d1 = (np.log(S / K) + (r + sigma**2 / 2) * T) / sigma * np.sqrt(T)\n",
    "    vega = S * np.sqrt(T) * N_prime(d1)\n",
    "    return vega"
   ]
  },
  {
   "cell_type": "code",
   "execution_count": 7,
   "id": "3c590c7d",
   "metadata": {},
   "outputs": [],
   "source": [
    "def implied_volatility_call(C, S, K, T, r, tol=0.0001, max_iterations=100):\n",
    "    \"\"\"\n",
    "\n",
    "    :param C: Observed call price\n",
    "    :param S: Asset price\n",
    "    :param K: Strike Price\n",
    "    :param T: Time to Maturity\n",
    "    :param r: risk free rate\n",
    "    :param tol: error tolerance in result\n",
    "    :param max_iterations: max iterations to update vol\n",
    "    :return: implied volatility in percent\n",
    "    \"\"\"\n",
    "\n",
    "    # assigning initial volatility estimate for input in Newton_rap procedure\n",
    "    sigma = 0.3\n",
    "\n",
    "    for i in range(max_iterations):\n",
    "        # calculate difference between black-scholes price and market price with\n",
    "        # iteratively updated volatility estimate\n",
    "        diff = black_scholes_call(S, K, T, r, sigma) - C\n",
    "\n",
    "        # break if difference is less than specified tolerance level\n",
    "        if abs(diff) < tol:\n",
    "            print(f\"found on {i}th iteration\")\n",
    "            print(f\"difference is equal to {diff}\")\n",
    "            break\n",
    "\n",
    "        # use Newton-Rapshon to update the estimate\n",
    "        sigma = sigma - diff / vega(S, K, T, r, sigma)\n",
    "\n",
    "    return sigma"
   ]
  },
  {
   "cell_type": "code",
   "execution_count": 11,
   "id": "5e363350",
   "metadata": {},
   "outputs": [
    {
     "name": "stdout",
     "output_type": "stream",
     "text": [
      "found on 2th iteration\n",
      "difference is equal to -6.099237310763783e-07\n",
      "Implied volatility using Newton Rapshon is:  0.4002738252223597\n"
     ]
    }
   ],
   "source": [
    "observed_price = 31\n",
    "S = 202\n",
    "K = 215\n",
    "T = 1\n",
    "r = 0.05\n",
    "\n",
    "imp_vol = implied_volatility_call(observed_price, S, K, T, r)\n",
    "print(\"Implied volatility using Newton Rapshon is: \", imp_vol)"
   ]
  },
  {
   "cell_type": "code",
   "execution_count": null,
   "id": "b5571406",
   "metadata": {},
   "outputs": [],
   "source": []
  }
 ],
 "metadata": {
  "kernelspec": {
   "display_name": "Python 3 (ipykernel)",
   "language": "python",
   "name": "python3"
  },
  "language_info": {
   "codemirror_mode": {
    "name": "ipython",
    "version": 3
   },
   "file_extension": ".py",
   "mimetype": "text/x-python",
   "name": "python",
   "nbconvert_exporter": "python",
   "pygments_lexer": "ipython3",
   "version": "3.10.6"
  }
 },
 "nbformat": 4,
 "nbformat_minor": 5
}
