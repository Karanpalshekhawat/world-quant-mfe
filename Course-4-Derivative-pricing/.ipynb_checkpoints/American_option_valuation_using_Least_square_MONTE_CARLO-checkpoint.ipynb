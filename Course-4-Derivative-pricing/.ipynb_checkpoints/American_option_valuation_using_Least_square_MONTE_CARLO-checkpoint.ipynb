{
 "cells": [
  {
   "cell_type": "markdown",
   "id": "ef1ac530",
   "metadata": {},
   "source": [
    "## Least Square Monte Carlo Simulation method for Pricing American Put option\n",
    "\n",
    "Link:- https://medium.datadriveninvestor.com/a-complete-step-by-step-guide-for-pricing-american-option-712c84aa254e"
   ]
  },
  {
   "cell_type": "code",
   "execution_count": 72,
   "id": "224935d2",
   "metadata": {},
   "outputs": [],
   "source": [
    "import numpy as np\n",
    "import pandas as pd"
   ]
  },
  {
   "cell_type": "code",
   "execution_count": 204,
   "id": "cf5758e6",
   "metadata": {},
   "outputs": [],
   "source": [
    "def monte_carlo_pricing_method_american_put_option(S_init, K, rf, sigma, T, n, num_of_ite, option_type):\n",
    "    dt = T / n # number of time steps\n",
    "    option_prices = np.zeros(num_of_ite)\n",
    "    S_t = np.full((num_of_ite, n), S_init)   \n",
    "    df = np.exp(-rf * dt) \n",
    "    \n",
    "    # underlying stock price evolution\n",
    "    for i in range(num_of_ite):\n",
    "        for l in range(1, S_t.shape[1]):\n",
    "            epsilon = np.random.randn()\n",
    "            S_t[ i, l] = S_t[i, l-1] * np.exp((rf - 0.5 * sigma**2) * dt + sigma * np.sqrt(dt) * epsilon)\n",
    "    \n",
    "    # create immediate payoff matrix if we exercise the put option at any time step for any iteration\n",
    "    payoff_mat = np.clip(K - S_t, a_min=0, a_max=None) # change this for call option\n",
    "    \n",
    "    # create cash flow matrix starting from the end and then we will proceed towards inner time steps using algorithm\n",
    "    # we are trying to compute expected cash flow if we dont exercise the option\n",
    "    cf = payoff_mat.copy()\n",
    "    cf[:] = 0\n",
    "    cf[:,n-1] = payoff_mat[:, n-1]\n",
    "    \n",
    "    cf = pd.DataFrame(cf)\n",
    "    S_t = pd.DataFrame(S_t)\n",
    "    payoff_mat = pd.DataFrame(payoff_mat)\n",
    "    \n",
    "    for s in range(n-2,0,-1):\n",
    "        y_array = cf.iloc[:,s+1]*df\n",
    "        x_array = S_t.iloc[:, s]\n",
    "        table = pd.DataFrame({\"Y\":y_array, \"X\":x_array})\n",
    "        ind_possible_exercise = S_t[S_t.iloc[:, s] < K].index # find index that can be exercised\n",
    "        table_t_inmoney=table.loc[ind_possible_exercise] # only those where possible exercise can be done\n",
    "        if table_t_inmoney.empty:\n",
    "            pass\n",
    "        else:\n",
    "            rg_t = np.polyfit(table_t_inmoney[\"X\"], table_t_inmoney[\"Y\"], 2) # fit polynomial to predict future expected cashflow based on current stock price\n",
    "            exp_future_payoff = np.polyval(rg_t, S_t.loc[ind_possible_exercise].iloc[:,s]) # predict continuation expected payoff\n",
    "            cf.loc[ind_possible_exercise,s] = np.where(payoff_mat.loc[ind_possible_exercise,s] > exp_future_payoff, payoff_mat.loc[ind_possible_exercise,s], 0)   # fill cashflow based on exercise vs expected payoff\n",
    "    # below set of loop is if we exercise early, then we have to make all future cashflow for that iteration zero\n",
    "        for tt in range(s, n-1):\n",
    "            cf.loc[ind_possible_exercise,tt+1] = np.where(cf.loc[ind_possible_exercise,s] > 0, 0, cf.loc[ind_possible_exercise,tt+1])\n",
    "    \n",
    "    Sum_DCF = 0\n",
    "    \n",
    "    # discount all future cash flows to present value by multiplying df raise to whatever time steps we exercise option\n",
    "    for t in range(n-1,0,-1):\n",
    "        Sum_DCF = sum(cf.loc[:,t])*np.exp(-dt*rf*t) + Sum_DCF\n",
    "\n",
    "    Option_Value = Sum_DCF/num_of_ite\n",
    "\n",
    "    return cf, S_t, Option_Value"
   ]
  },
  {
   "cell_type": "code",
   "execution_count": 212,
   "id": "d0f7fcde",
   "metadata": {},
   "outputs": [],
   "source": [
    "S_init = 100\n",
    "K = 100\n",
    "rf = 0.05\n",
    "sigma = 0.2\n",
    "T = 0.25\n",
    "n = int(T*252)\n",
    "num_of_ite = 10000"
   ]
  },
  {
   "cell_type": "code",
   "execution_count": null,
   "id": "aff09db4",
   "metadata": {},
   "outputs": [],
   "source": [
    "cf, S, opt_val = monte_carlo_pricing_method_american_put_option(S_init, K, rf, sigma, T, n, num_of_ite, \"P\")"
   ]
  },
  {
   "cell_type": "code",
   "execution_count": 211,
   "id": "260c3176",
   "metadata": {},
   "outputs": [],
   "source": [
    "K =105\n",
    "dt = T / n # number of time steps\n",
    "option_prices = np.zeros(num_of_ite)\n",
    "S_t = np.full((num_of_ite, n), S_init)   \n",
    "df = np.exp(-rf * dt) \n",
    "    \n",
    "    # underlying stock price evolution\n",
    "for i in range(num_of_ite):\n",
    "    for l in range(1, S_t.shape[1]):\n",
    "        epsilon = np.random.randn()\n",
    "        S_t[ i, l] = S_t[i, l-1] * np.exp((rf - 0.5 * sigma**2) * dt + sigma * np.sqrt(dt) * epsilon)\n",
    "    \n",
    "    # create immediate payoff matrix if we exercise the put option at any time step for any iteration\n",
    "payoff_mat = np.clip(K - S_t, a_min=0, a_max=None) # change this for call option\n",
    "    \n",
    "    # create cash flow matrix starting from the end and then we will proceed towards inner time steps using algorithm\n",
    "    # we are trying to compute expected cash flow if we dont exercise the option\n",
    "cf = payoff_mat.copy()\n",
    "cf[:] = 0\n",
    "cf[:,n-1] = payoff_mat[:, n-1]\n",
    "    \n",
    "cf = pd.DataFrame(cf)\n",
    "S_t = pd.DataFrame(S_t)\n",
    "payoff_mat = pd.DataFrame(payoff_mat)\n",
    "    \n",
    "for s in range(n-2,0,-1):\n",
    "    y_array = cf.iloc[:,s+1]*df\n",
    "    x_array = S_t.iloc[:, s]\n",
    "    table = pd.DataFrame({\"Y\":y_array, \"X\":x_array})\n",
    "    ind_possible_exercise = S_t[S_t.iloc[:, s] < K].index # find index that can be exercised\n",
    "    table_t_inmoney=table.loc[ind_possible_exercise] # only those where possible exercise can be done\n",
    "    rg_t = np.polyfit(table_t_inmoney[\"X\"], table_t_inmoney[\"Y\"], 2) # fit polynomial to predict future expected cashflow based on current stock price\n",
    "    exp_future_payoff = np.polyval(rg_t, S_t.loc[ind_possible_exercise].iloc[:,s]) # predict continuation expected payoff\n",
    "    cf.loc[ind_possible_exercise,s] = np.where(payoff_mat.loc[ind_possible_exercise,s] > exp_future_payoff, payoff_mat.loc[ind_possible_exercise,s], 0)   # fill cashflow based on exercise vs expected payoff\n",
    "    # below set of loop is if we exercise early, then we have to make all future cashflow for that iteration zero\n",
    "    for tt in range(s, n-1):\n",
    "        cf.loc[ind_possible_exercise,tt+1] = np.where(cf.loc[ind_possible_exercise,s] > 0, 0, cf.loc[ind_possible_exercise,tt+1])\n",
    "    \n",
    "Sum_DCF = 0\n",
    "    \n",
    "    # discount all future cash flows to present value by multiplying df raise to whatever time steps we exercise option\n",
    "for t in range(n-1,0,-1):\n",
    "    Sum_DCF = sum(cf.loc[:,t])*np.exp(-dt*rf*t) + Sum_DCF\n",
    "\n",
    "Option_Value = Sum_DCF/num_of_ite"
   ]
  },
  {
   "cell_type": "code",
   "execution_count": null,
   "id": "c5f35a20",
   "metadata": {},
   "outputs": [],
   "source": []
  }
 ],
 "metadata": {
  "kernelspec": {
   "display_name": "Python 3 (ipykernel)",
   "language": "python",
   "name": "python3"
  },
  "language_info": {
   "codemirror_mode": {
    "name": "ipython",
    "version": 3
   },
   "file_extension": ".py",
   "mimetype": "text/x-python",
   "name": "python",
   "nbconvert_exporter": "python",
   "pygments_lexer": "ipython3",
   "version": "3.10.6"
  }
 },
 "nbformat": 4,
 "nbformat_minor": 5
}
