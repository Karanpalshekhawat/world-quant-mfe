{
 "cells": [
  {
   "cell_type": "code",
   "execution_count": 1,
   "id": "bfbea3f0",
   "metadata": {},
   "outputs": [],
   "source": [
    "import numpy as np\n",
    "import pandas as pd"
   ]
  },
  {
   "cell_type": "code",
   "execution_count": 2,
   "id": "f41370e4",
   "metadata": {},
   "outputs": [],
   "source": [
    "def american_option(S_ini, K, T, r, u, d, N, opttype):\n",
    "    dt = T / N  # Define time step\n",
    "    p = (np.exp(r * dt) - d) / (u - d)  # risk neutral probs\n",
    "    C = np.zeros([N + 1, N + 1])  # call prices\n",
    "    S = np.zeros([N + 1, N + 1])  # underlying price\n",
    "\n",
    "    for i in range(0, N + 1):\n",
    "        S[N, i] = S_ini * (u ** (i)) * (d ** (N - i))\n",
    "        if opttype == \"C\":\n",
    "            C[N, i] = max(S[N, i] - K, 0)\n",
    "        else:\n",
    "            C[N, i] = max(K - S[N, i], 0)\n",
    "\n",
    "    for j in range(N - 1, -1, -1):\n",
    "        for i in range(0, j + 1):\n",
    "            C[j, i] = np.exp(-r * dt) * (\n",
    "                p * C[j + 1, i + 1] + (1 - p) * C[j + 1, i]\n",
    "            )  # Computing the European option prices\n",
    "            S[j, i] = (\n",
    "                S_ini * (u ** (i)) * (d ** (j - i))\n",
    "            )  # Underlying evolution for each node\n",
    "            if opttype == \"C\":\n",
    "                C[j, i] = max(\n",
    "                    C[j, i], S[j, i] - K\n",
    "                )  # Decision between the European option price and the payoff from early-exercise\n",
    "            else:\n",
    "                C[j, i] = max(\n",
    "                    C[j, i], K - S[j, i]\n",
    "                )  # Decision between the European option price and the payoff from early-exercise\n",
    "\n",
    "    return C[0, 0], C, S"
   ]
  },
  {
   "cell_type": "code",
   "execution_count": 3,
   "id": "5bf2db25",
   "metadata": {},
   "outputs": [],
   "source": [
    "# if you know the volatility for the whole T period\n",
    "def american_option_vol_adjusted_for_volatility(S_ini, K, T, r, sigma, N, opttype):\n",
    "    dt = T / N  # Define time step\n",
    "    u = np.exp(sigma * np.sqrt(dt))  # Define u\n",
    "    d = np.exp(-sigma * np.sqrt(dt))  # Define d\n",
    "    p = (np.exp(r * dt) - d) / (u - d)  # risk neutral probs\n",
    "    C = np.zeros([N + 1, N + 1])  # call prices\n",
    "    S = np.zeros([N + 1, N + 1])  # underlying price\n",
    "\n",
    "    for i in range(0, N + 1):\n",
    "        S[N, i] = S_ini * (u ** (i)) * (d ** (N - i))\n",
    "        if opttype == \"C\":\n",
    "            C[N, i] = max(S[N, i] - K, 0)\n",
    "        else:\n",
    "            C[N, i] = max(K - S[N, i], 0)\n",
    "\n",
    "    for j in range(N - 1, -1, -1):\n",
    "        for i in range(0, j + 1):\n",
    "            C[j, i] = np.exp(-r * dt) * (\n",
    "                p * C[j + 1, i + 1] + (1 - p) * C[j + 1, i]\n",
    "            )  # Computing the European option prices\n",
    "            S[j, i] = (\n",
    "                S_ini * (u ** (i)) * (d ** (j - i))\n",
    "            )  # Underlying evolution for each node\n",
    "            if opttype == \"C\":\n",
    "                C[j, i] = max(\n",
    "                    C[j, i], S[j, i] - K\n",
    "                )  # Decision between the European option price and the payoff from early-exercise\n",
    "            else:\n",
    "                C[j, i] = max(\n",
    "                    C[j, i], K - S[j, i]\n",
    "                )  # Decision between the European option price and the payoff from early-exercise\n",
    "\n",
    "    return C[0, 0], C, S"
   ]
  },
  {
   "cell_type": "code",
   "execution_count": 4,
   "id": "b1d452e7",
   "metadata": {},
   "outputs": [
    {
     "name": "stdout",
     "output_type": "stream",
     "text": [
      "With N =   1, the price is 19.14\n",
      "With N =  10, the price is 17.26\n",
      "With N = 100, the price is 17.02\n",
      "With N = 200, the price is 17.03\n",
      "With N = 300, the price is 17.01\n",
      "With N = 400, the price is 17.02\n",
      "With N = 500, the price is 17.01\n",
      "With N = 600, the price is 17.02\n",
      "With N = 700, the price is 17.02\n",
      "With N = 800, the price is 17.01\n",
      "With N = 900, the price is 17.01\n",
      "With N = 1000, the price is 17.02\n",
      "With N = 1500, the price is 17.01\n",
      "With N = 2000, the price is 17.01\n",
      "With N = 2500, the price is 17.01\n"
     ]
    }
   ],
   "source": [
    "price_array = []\n",
    "for N in [1, 10, 100, 200, 300, 400, 500, 600, 700, 800, 900, 1000, 1500, 2000, 2500]:\n",
    "    call_price, C, S = american_option_vol_adjusted_for_volatility(100, 90, 1, 0, 0.3, N, \"C\")\n",
    "    price_array.append(call_price)\n",
    "    print(\"With N = {:3d}, the price is {:.2f}\".format(N, call_price))"
   ]
  },
  {
   "cell_type": "code",
   "execution_count": 29,
   "id": "03be53a3",
   "metadata": {},
   "outputs": [],
   "source": [
    "amc_call, C, S = american_option(45, 45, 50, 0, 1.2, 1 / 1.2, 50, \"P\")"
   ]
  },
  {
   "cell_type": "code",
   "execution_count": 30,
   "id": "9af43ffd",
   "metadata": {},
   "outputs": [
    {
     "data": {
      "text/plain": [
       "21.52996397466726"
      ]
     },
     "execution_count": 30,
     "metadata": {},
     "output_type": "execute_result"
    }
   ],
   "source": [
    "amc_call"
   ]
  },
  {
   "cell_type": "code",
   "execution_count": 13,
   "id": "6395f613",
   "metadata": {},
   "outputs": [],
   "source": [
    "def american_option_delta(S_ini, K, T, r, u, d, N, opttype):\n",
    "    dt = T / N  # Define time step\n",
    "    p = (np.exp(r * dt) - d) / (u - d)  # risk neutral probs\n",
    "    C = np.zeros([N + 1, N + 1])  # call prices\n",
    "    S = np.zeros([N + 1, N + 1])  # underlying price\n",
    "    Delta = np.zeros([N, N])  # delta\n",
    "\n",
    "    for i in range(0, N + 1):\n",
    "        S[N, i] = S_ini * (u ** (i)) * (d ** (N - i))\n",
    "        if opttype == \"C\":\n",
    "            C[N, i] = max(S[N, i] - K, 0)\n",
    "        else:\n",
    "            C[N, i] = max(K - S[N, i], 0)\n",
    "\n",
    "    for j in range(N - 1, -1, -1):\n",
    "        for i in range(0, j + 1):\n",
    "            C[j, i] = np.exp(-r * dt) * (\n",
    "                p * C[j + 1, i + 1] + (1 - p) * C[j + 1, i]\n",
    "            )  # Computing the European option prices\n",
    "            S[j, i] = (\n",
    "                S_ini * (u ** (i)) * (d ** (j - i))\n",
    "            )  # Underlying evolution for each node\n",
    "            if opttype == \"C\":\n",
    "                C[j, i] = max(\n",
    "                    C[j, i], S[j, i] - K\n",
    "                )  # Decision between the European option price and the payoff from early-exercise\n",
    "            else:\n",
    "                C[j, i] = max(\n",
    "                    C[j, i], K - S[j, i]\n",
    "                )  # Decision between the European option price and the payoff from early-exercise\n",
    "\n",
    "            Delta[j, i] = (C[j + 1, i + 1] - C[j + 1, i]) / (\n",
    "                S[j + 1, i + 1] - S[j + 1, i]\n",
    "            )  # Computing the delta for each node\n",
    "\n",
    "    return C[0, 0], C, S, Delta"
   ]
  },
  {
   "cell_type": "code",
   "execution_count": 21,
   "id": "d08f4982",
   "metadata": {},
   "outputs": [],
   "source": [
    "price, C, S, delta = american_option_delta(50, 100, 2, 0.1, 1.2, 0.8, 2, \"C\")"
   ]
  },
  {
   "cell_type": "code",
   "execution_count": 19,
   "id": "9d166ca3",
   "metadata": {},
   "outputs": [],
   "source": [
    "delta_pd = pd.DataFrame(delta)"
   ]
  },
  {
   "cell_type": "code",
   "execution_count": 20,
   "id": "55c1793a",
   "metadata": {},
   "outputs": [],
   "source": [
    "delta_pd.to_clipboard()"
   ]
  },
  {
   "cell_type": "code",
   "execution_count": 22,
   "id": "dc910ecb",
   "metadata": {},
   "outputs": [
    {
     "data": {
      "text/plain": [
       "0.0"
      ]
     },
     "execution_count": 22,
     "metadata": {},
     "output_type": "execute_result"
    }
   ],
   "source": [
    "price"
   ]
  },
  {
   "cell_type": "code",
   "execution_count": null,
   "id": "19abe943",
   "metadata": {},
   "outputs": [],
   "source": []
  }
 ],
 "metadata": {
  "kernelspec": {
   "display_name": "Python 3 (ipykernel)",
   "language": "python",
   "name": "python3"
  },
  "language_info": {
   "codemirror_mode": {
    "name": "ipython",
    "version": 3
   },
   "file_extension": ".py",
   "mimetype": "text/x-python",
   "name": "python",
   "nbconvert_exporter": "python",
   "pygments_lexer": "ipython3",
   "version": "3.10.6"
  }
 },
 "nbformat": 4,
 "nbformat_minor": 5
}
