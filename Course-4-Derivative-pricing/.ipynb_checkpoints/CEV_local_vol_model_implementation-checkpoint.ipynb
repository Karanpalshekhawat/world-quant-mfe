{
 "cells": [
  {
   "cell_type": "markdown",
   "id": "26674a67",
   "metadata": {},
   "source": [
    "### CEV is paramteric local volatility model where we calibrate sigma and Beta parameter."
   ]
  },
  {
   "cell_type": "code",
   "execution_count": 10,
   "id": "1579f8b4",
   "metadata": {},
   "outputs": [],
   "source": [
    "from datetime import date, datetime\n",
    "\n",
    "import matplotlib.pyplot as plt\n",
    "import yfinance as yf\n",
    "import numpy as np\n",
    "\n",
    "from scipy.stats import ncx2\n",
    "from sklearn.metrics import mean_squared_error\n",
    "from scipy.optimize import minimize"
   ]
  },
  {
   "cell_type": "code",
   "execution_count": 2,
   "id": "92d2bbef",
   "metadata": {},
   "outputs": [
    {
     "data": {
      "text/html": [
       "<div>\n",
       "<style scoped>\n",
       "    .dataframe tbody tr th:only-of-type {\n",
       "        vertical-align: middle;\n",
       "    }\n",
       "\n",
       "    .dataframe tbody tr th {\n",
       "        vertical-align: top;\n",
       "    }\n",
       "\n",
       "    .dataframe thead th {\n",
       "        text-align: right;\n",
       "    }\n",
       "</style>\n",
       "<table border=\"1\" class=\"dataframe\">\n",
       "  <thead>\n",
       "    <tr style=\"text-align: right;\">\n",
       "      <th></th>\n",
       "      <th>contractSymbol</th>\n",
       "      <th>lastTradeDate</th>\n",
       "      <th>strike</th>\n",
       "      <th>lastPrice</th>\n",
       "      <th>bid</th>\n",
       "      <th>ask</th>\n",
       "      <th>change</th>\n",
       "      <th>percentChange</th>\n",
       "      <th>volume</th>\n",
       "      <th>openInterest</th>\n",
       "      <th>impliedVolatility</th>\n",
       "      <th>inTheMoney</th>\n",
       "      <th>contractSize</th>\n",
       "      <th>currency</th>\n",
       "    </tr>\n",
       "  </thead>\n",
       "  <tbody>\n",
       "    <tr>\n",
       "      <th>0</th>\n",
       "      <td>IBM230915C00065000</td>\n",
       "      <td>2023-05-08 19:41:21+00:00</td>\n",
       "      <td>65.0</td>\n",
       "      <td>58.50</td>\n",
       "      <td>67.90</td>\n",
       "      <td>68.70</td>\n",
       "      <td>0.0</td>\n",
       "      <td>0.0</td>\n",
       "      <td>2.0</td>\n",
       "      <td>0</td>\n",
       "      <td>0.776369</td>\n",
       "      <td>True</td>\n",
       "      <td>REGULAR</td>\n",
       "      <td>USD</td>\n",
       "    </tr>\n",
       "    <tr>\n",
       "      <th>1</th>\n",
       "      <td>IBM230915C00080000</td>\n",
       "      <td>2023-05-08 19:47:39+00:00</td>\n",
       "      <td>80.0</td>\n",
       "      <td>43.50</td>\n",
       "      <td>53.00</td>\n",
       "      <td>53.85</td>\n",
       "      <td>0.0</td>\n",
       "      <td>0.0</td>\n",
       "      <td>3.0</td>\n",
       "      <td>0</td>\n",
       "      <td>0.598149</td>\n",
       "      <td>True</td>\n",
       "      <td>REGULAR</td>\n",
       "      <td>USD</td>\n",
       "    </tr>\n",
       "    <tr>\n",
       "      <th>2</th>\n",
       "      <td>IBM230915C00085000</td>\n",
       "      <td>2023-05-08 17:21:56+00:00</td>\n",
       "      <td>85.0</td>\n",
       "      <td>37.75</td>\n",
       "      <td>48.05</td>\n",
       "      <td>49.00</td>\n",
       "      <td>0.0</td>\n",
       "      <td>0.0</td>\n",
       "      <td>15.0</td>\n",
       "      <td>0</td>\n",
       "      <td>0.552495</td>\n",
       "      <td>True</td>\n",
       "      <td>REGULAR</td>\n",
       "      <td>USD</td>\n",
       "    </tr>\n",
       "    <tr>\n",
       "      <th>3</th>\n",
       "      <td>IBM230915C00090000</td>\n",
       "      <td>2023-03-13 16:45:01+00:00</td>\n",
       "      <td>90.0</td>\n",
       "      <td>36.90</td>\n",
       "      <td>38.65</td>\n",
       "      <td>39.45</td>\n",
       "      <td>0.0</td>\n",
       "      <td>0.0</td>\n",
       "      <td>3.0</td>\n",
       "      <td>11</td>\n",
       "      <td>0.000010</td>\n",
       "      <td>True</td>\n",
       "      <td>REGULAR</td>\n",
       "      <td>USD</td>\n",
       "    </tr>\n",
       "    <tr>\n",
       "      <th>4</th>\n",
       "      <td>IBM230915C00095000</td>\n",
       "      <td>2023-05-04 19:15:56+00:00</td>\n",
       "      <td>95.0</td>\n",
       "      <td>27.35</td>\n",
       "      <td>36.90</td>\n",
       "      <td>39.35</td>\n",
       "      <td>0.0</td>\n",
       "      <td>0.0</td>\n",
       "      <td>6.0</td>\n",
       "      <td>19</td>\n",
       "      <td>0.521733</td>\n",
       "      <td>True</td>\n",
       "      <td>REGULAR</td>\n",
       "      <td>USD</td>\n",
       "    </tr>\n",
       "  </tbody>\n",
       "</table>\n",
       "</div>"
      ],
      "text/plain": [
       "       contractSymbol             lastTradeDate  strike  lastPrice    bid  \\\n",
       "0  IBM230915C00065000 2023-05-08 19:41:21+00:00    65.0      58.50  67.90   \n",
       "1  IBM230915C00080000 2023-05-08 19:47:39+00:00    80.0      43.50  53.00   \n",
       "2  IBM230915C00085000 2023-05-08 17:21:56+00:00    85.0      37.75  48.05   \n",
       "3  IBM230915C00090000 2023-03-13 16:45:01+00:00    90.0      36.90  38.65   \n",
       "4  IBM230915C00095000 2023-05-04 19:15:56+00:00    95.0      27.35  36.90   \n",
       "\n",
       "     ask  change  percentChange  volume  openInterest  impliedVolatility  \\\n",
       "0  68.70     0.0            0.0     2.0             0           0.776369   \n",
       "1  53.85     0.0            0.0     3.0             0           0.598149   \n",
       "2  49.00     0.0            0.0    15.0             0           0.552495   \n",
       "3  39.45     0.0            0.0     3.0            11           0.000010   \n",
       "4  39.35     0.0            0.0     6.0            19           0.521733   \n",
       "\n",
       "   inTheMoney contractSize currency  \n",
       "0        True      REGULAR      USD  \n",
       "1        True      REGULAR      USD  \n",
       "2        True      REGULAR      USD  \n",
       "3        True      REGULAR      USD  \n",
       "4        True      REGULAR      USD  "
      ]
     },
     "execution_count": 2,
     "metadata": {},
     "output_type": "execute_result"
    }
   ],
   "source": [
    "Mat = \"2023-09-15\"  # Fill in the maturity you want to consider here!\n",
    "\n",
    "ticker = yf.Ticker(\"IBM\")\n",
    "options = ticker.options\n",
    "\n",
    "chain = ticker.option_chain(Mat)\n",
    "data = ticker.history(period=\"5y\")\n",
    "price = data.iloc[-1]['Close']\n",
    "\n",
    "callData = chain.calls\n",
    "putData = chain.puts\n",
    "\n",
    "callData.head(5)"
   ]
  },
  {
   "cell_type": "code",
   "execution_count": 5,
   "id": "1b3e0180",
   "metadata": {},
   "outputs": [
    {
     "data": {
      "image/png": "[encoded data removed]",
      "text/plain": [
       "<Figure size 640x480 with 1 Axes>"
      ]
     },
     "metadata": {},
     "output_type": "display_data"
    }
   ],
   "source": [
    "df_call = callData\n",
    "\n",
    "df_call[\"impliedVolatility\"] = df_call[\"impliedVolatility\"].astype(float)\n",
    "\n",
    "df_call.plot(kind=\"scatter\", x=\"strike\", y=\"lastPrice\", color=\"red\")\n",
    "plt.show()"
   ]
  },
  {
   "cell_type": "markdown",
   "id": "1cb3509f",
   "metadata": {},
   "source": [
    "### Implementing CEV model"
   ]
  },
  {
   "cell_type": "code",
   "execution_count": 13,
   "id": "3ecf24e0",
   "metadata": {},
   "outputs": [
    {
     "name": "stdout",
     "output_type": "stream",
     "text": [
      "Mean Squared Error is  23.29381503830191\n"
     ]
    },
    {
     "data": {
      "image/png": "[encoded data removed]",
      "text/plain": [
       "<Figure size 640x480 with 1 Axes>"
      ]
     },
     "metadata": {},
     "output_type": "display_data"
    }
   ],
   "source": [
    "# Variables\n",
    "S0 = price\n",
    "r = 0.05\n",
    "date_time_obj = datetime.strptime(Mat, \"%Y-%m-%d\")\n",
    "T = date_time_obj - datetime.today()\n",
    "Td = T.days / 365\n",
    "\n",
    "# just a guesses (already calibrated)\n",
    "sigma = 0.8966209\n",
    "beta = 1.2922\n",
    "\n",
    "\n",
    "def C(t, K, sigma, beta):\n",
    "    zb = 2 + 2 / (2 - beta)\n",
    "    kappa = 2 * r / (sigma**2 * (2 - beta) * (np.exp(r * (2 - beta) * t) - 1))\n",
    "    x = kappa * S0 ** (2 - beta) * np.exp(r * (2 - beta) * t)\n",
    "    y = kappa * K ** (2 - beta)\n",
    "    return S0 * (1 - ncx2.cdf(2 * y, zb, 2 * x)) - K * np.exp(-r * t) * (\n",
    "        ncx2.cdf(2 * x, zb - 2, 2 * y)\n",
    "    )\n",
    "\n",
    "\n",
    "test_strikes = df_call[\"strike\"]\n",
    "modelprices = C(Td, test_strikes, sigma, beta)\n",
    "realprices = df_call[\"lastPrice\"]\n",
    "plt.plot(test_strikes, modelprices, \"o\", label=\"Model\")\n",
    "plt.plot(test_strikes, realprices, \"o\", label=\"Real\")\n",
    "plt.xlabel(\"strike\")\n",
    "plt.ylabel(\"Option price\")\n",
    "plt.legend()\n",
    "err = mean_squared_error(modelprices.values, realprices)\n",
    "print(\"Mean Squared Error is \", err)"
   ]
  },
  {
   "cell_type": "markdown",
   "id": "f7e717f7",
   "metadata": {},
   "source": [
    "### Calibrate to market prices"
   ]
  },
  {
   "cell_type": "code",
   "execution_count": 12,
   "id": "3d2d150a",
   "metadata": {},
   "outputs": [
    {
     "name": "stdout",
     "output_type": "stream",
     "text": [
      "Optimization process results:\n",
      "      fun: 23.293815400605276\n",
      " hess_inv: <2x2 LbfgsInvHessProduct with dtype=float64>\n",
      "      jac: array([0.0177085, 0.0116458])\n",
      "  message: 'CONVERGENCE: REL_REDUCTION_OF_F_<=_FACTR*EPSMCH'\n",
      "     nfev: 57\n",
      "      nit: 8\n",
      "     njev: 19\n",
      "   status: 0\n",
      "  success: True\n",
      "        x: array([0.8966209 , 1.29226977])\n"
     ]
    }
   ],
   "source": [
    "def error(params):\n",
    "    sigma = params[0]\n",
    "    beta = params[1]\n",
    "    modelprices = C(Td, test_strikes, sigma, beta)\n",
    "    realprices = df_call[\"lastPrice\"]\n",
    "\n",
    "    return mean_squared_error(modelprices, realprices)\n",
    "\n",
    "\n",
    "bnds = ((0, None), (0, None))\n",
    "res = minimize(\n",
    "    error, (0.65, 1.8), bounds=bnds\n",
    ")  # We will establish some initial guesses here (careful with altering this too much!)\n",
    "print(\"Optimization process results:\")\n",
    "print(res)"
   ]
  },
  {
   "cell_type": "code",
   "execution_count": 14,
   "id": "b7146252",
   "metadata": {},
   "outputs": [
    {
     "data": {
      "text/plain": [
       "0      65.0\n",
       "1      80.0\n",
       "2      85.0\n",
       "3      90.0\n",
       "4      95.0\n",
       "5     100.0\n",
       "6     105.0\n",
       "7     110.0\n",
       "8     115.0\n",
       "9     120.0\n",
       "10    125.0\n",
       "11    130.0\n",
       "12    135.0\n",
       "13    140.0\n",
       "14    145.0\n",
       "15    150.0\n",
       "16    155.0\n",
       "17    160.0\n",
       "18    165.0\n",
       "19    170.0\n",
       "20    175.0\n",
       "21    180.0\n",
       "22    185.0\n",
       "Name: strike, dtype: float64"
      ]
     },
     "execution_count": 14,
     "metadata": {},
     "output_type": "execute_result"
    }
   ],
   "source": [
    "test_strikes"
   ]
  },
  {
   "cell_type": "code",
   "execution_count": 15,
   "id": "d4bd0b2b",
   "metadata": {},
   "outputs": [],
   "source": [
    "modelprices = C(Td, test_strikes, sigma, beta)"
   ]
  },
  {
   "cell_type": "code",
   "execution_count": null,
   "id": "00da0cbb",
   "metadata": {},
   "outputs": [],
   "source": []
  },
  {
   "cell_type": "code",
   "execution_count": null,
   "id": "ed0be36a",
   "metadata": {},
   "outputs": [],
   "source": []
  }
 ],
 "metadata": {
  "kernelspec": {
   "display_name": "Python 3 (ipykernel)",
   "language": "python",
   "name": "python3"
  },
  "language_info": {
   "codemirror_mode": {
    "name": "ipython",
    "version": 3
   },
   "file_extension": ".py",
   "mimetype": "text/x-python",
   "name": "python",
   "nbconvert_exporter": "python",
   "pygments_lexer": "ipython3",
   "version": "3.10.6"
  }
 },
 "nbformat": 4,
 "nbformat_minor": 5
}
