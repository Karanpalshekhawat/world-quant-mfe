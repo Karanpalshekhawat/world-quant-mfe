{
 "cells": [
  {
   "cell_type": "code",
   "execution_count": 1,
   "id": "a8f887d6",
   "metadata": {},
   "outputs": [],
   "source": [
    "import numpy as np\n",
    "import pandas as pd"
   ]
  },
  {
   "cell_type": "markdown",
   "id": "8b40655c",
   "metadata": {},
   "source": [
    "There are many options which do not depend upon the terminal prices for payoff but instead depend upon the path that underlying has taken to reach to that price like ASIAN option, barries options, lookback option or binary options. Most of them are available OTC where you can customize options for non conventional payoffs. \n",
    "\n",
    "We can still somehow use binomial pricing model to price for these but as number of paths increase substantially as the number of steps increases (2^N), highly computationally expensive.\n",
    "\n",
    "Thus, we can use monte carlo simulation to approximate small sample of path by assuming some kind of underlying distribution like binomial distribution for stock price evolution and then try to compute price based on the sample path. \n",
    "\n",
    "Idea is if we repeat it enough times randomly, by relying on law of large numbers, we can obtain price close that converges to actual process. "
   ]
  },
  {
   "cell_type": "code",
   "execution_count": 4,
   "id": "bd5c9e39",
   "metadata": {},
   "outputs": [],
   "source": [
    "random = np.random.binomial(1, 0.5, 10)"
   ]
  },
  {
   "cell_type": "code",
   "execution_count": 5,
   "id": "799dede1",
   "metadata": {},
   "outputs": [
    {
     "data": {
      "text/plain": [
       "array([1, 1, 0, 0, 0, 1, 0, 1, 0, 1])"
      ]
     },
     "execution_count": 5,
     "metadata": {},
     "output_type": "execute_result"
    }
   ],
   "source": [
    "random"
   ]
  },
  {
   "cell_type": "code",
   "execution_count": 6,
   "id": "9c73d493",
   "metadata": {},
   "outputs": [],
   "source": [
    "def call_option_mc(S_ini, K, T, r, sigma, N, M):\n",
    "    dt = T / N  # Define time step\n",
    "    u = np.exp(sigma * np.sqrt(dt))  # Define u\n",
    "    d = np.exp(-sigma * np.sqrt(dt))  # Define d\n",
    "    p = (np.exp(r * dt) - d) / (u - d)  # risk neutral probs\n",
    "    C = np.zeros([M])  # call prices\n",
    "    S = np.zeros([M, N + 1])  # underlying price\n",
    "    S[:, 0] = S_ini\n",
    "\n",
    "    for j in range(0, M):\n",
    "        random = np.random.binomial(\n",
    "            1, p, N + 1\n",
    "        )  # We sample random realizations for the paths of the tree under a binomial distribution\n",
    "        for i in range(1, N + 1):\n",
    "            if random[i] == 1:\n",
    "                S[j, i] = S[j, i - 1] * u\n",
    "            else:\n",
    "                S[j, i] = S[j, i - 1] * d\n",
    "\n",
    "        C[j] = np.exp(-r * T) * max(S[j, N] - K, 0)\n",
    "\n",
    "    return S, C"
   ]
  },
  {
   "cell_type": "code",
   "execution_count": 7,
   "id": "c13bbb4c",
   "metadata": {},
   "outputs": [],
   "source": [
    "S, C = call_option_mc(\n",
    "    100, 90, 1, 0, 0.3, 2500, 15000\n",
    ") "
   ]
  },
  {
   "cell_type": "code",
   "execution_count": 10,
   "id": "a9eb085e",
   "metadata": {},
   "outputs": [],
   "source": [
    "call_price = pd.DataFrame(C)"
   ]
  },
  {
   "cell_type": "code",
   "execution_count": 11,
   "id": "f6a376c3",
   "metadata": {},
   "outputs": [],
   "source": [
    "call_price.to_clipboard()"
   ]
  },
  {
   "cell_type": "code",
   "execution_count": 13,
   "id": "2468392f",
   "metadata": {},
   "outputs": [],
   "source": [
    "stock_price = pd.DataFrame(S)"
   ]
  },
  {
   "cell_type": "code",
   "execution_count": 22,
   "id": "5712a4a9",
   "metadata": {},
   "outputs": [],
   "source": [
    "# in this, it is assumed that average is happening over the complete period of stock evolution\n",
    "def asian_option_mc(S_ini, K, T, r, sigma, N, M):\n",
    "    dt = T / N  # Define time step\n",
    "    u = np.exp(sigma * np.sqrt(dt))  # Define u\n",
    "    d = np.exp(-sigma * np.sqrt(dt))  # Define d\n",
    "    p = (np.exp(r * dt) - d) / (u - d)  # risk neutral probs\n",
    "    Asian = np.zeros([M])  # Asian prices\n",
    "    S = np.zeros([M, N + 1])  # underlying price\n",
    "    S[:, 0] = S_ini\n",
    "\n",
    "    for j in range(0, M):\n",
    "        random = np.random.binomial(1, p, N + 1)\n",
    "        Total = S_ini\n",
    "        for i in range(1, N + 1):\n",
    "            if random[i] == 1:\n",
    "                S[j, i] = S[j, i - 1] * u\n",
    "                Total = Total + S[j, i]\n",
    "            else:\n",
    "                S[j, i] = S[j, i - 1] * d\n",
    "                Total = Total + S[j, i]\n",
    "\n",
    "        Asian[j] = np.exp(-r * T) * max(Total / (N + 1) - K, 0)\n",
    "\n",
    "    return S, Asian"
   ]
  },
  {
   "cell_type": "code",
   "execution_count": null,
   "id": "6f2fbcc5",
   "metadata": {},
   "outputs": [],
   "source": [
    "S, Asian = asian_option_mc(100, 90, 1, 0, 0.3, 2500, 10000)"
   ]
  },
  {
   "cell_type": "code",
   "execution_count": 23,
   "id": "91a39840",
   "metadata": {},
   "outputs": [],
   "source": [
    "final_call_price = np.mean(C)"
   ]
  },
  {
   "cell_type": "code",
   "execution_count": null,
   "id": "9112b025",
   "metadata": {},
   "outputs": [],
   "source": [
    "final_asian_price = np.mean(Asian)"
   ]
  }
 ],
 "metadata": {
  "kernelspec": {
   "display_name": "Python 3 (ipykernel)",
   "language": "python",
   "name": "python3"
  },
  "language_info": {
   "codemirror_mode": {
    "name": "ipython",
    "version": 3
   },
   "file_extension": ".py",
   "mimetype": "text/x-python",
   "name": "python",
   "nbconvert_exporter": "python",
   "pygments_lexer": "ipython3",
   "version": "3.10.6"
  }
 },
 "nbformat": 4,
 "nbformat_minor": 5
}
