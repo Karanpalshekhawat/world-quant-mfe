{
 "cells": [
  {
   "cell_type": "code",
   "execution_count": 1,
   "id": "31f40adc",
   "metadata": {},
   "outputs": [],
   "source": [
    "import matplotlib.pyplot as plt\n",
    "import numpy as np\n",
    "import pandas as pd\n",
    "from scipy.stats import lognorm, norm\n",
    "from math import log, sqrt, pi, exp\n",
    "from scipy.stats import norm\n",
    "from datetime import datetime, date\n",
    "from pandas import DataFrame"
   ]
  },
  {
   "cell_type": "markdown",
   "id": "83b3f398",
   "metadata": {},
   "source": [
    "**Team Member B**\n",
    "\n",
    "Step1: Question 5 to Question 7 for European Option"
   ]
  },
  {
   "cell_type": "code",
   "execution_count": 27,
   "id": "c9e5a7d4",
   "metadata": {},
   "outputs": [],
   "source": [
    "def monte_carlo_pricing_method(S_init, K, rf, sigma, T, t, num_of_ite, option_type):\n",
    "    \"\"\"\n",
    "        This method is used to price european option based on simulating the underlying path \n",
    "        evolution for a large number of times, and then avergaing the payoff i.e. monte-carlo\n",
    "    \"\"\"\n",
    "    payoff_data = np.zeros((num_of_ite, 2))\n",
    "    z = np.random.normal(0, 1, [1, num_of_ite]) # creates number of random variables equal to number of iterations\n",
    "    ST = S_init * np.exp((T - t) * (rf - 0.5 * sigma**2) + sigma * np.sqrt(T - t) * z)\n",
    "    if option_type == \"C\":\n",
    "        payoff_data[:, 1] = ST - K\n",
    "    else:\n",
    "        payoff_data[:, 1] = K - ST\n",
    "\n",
    "    average_payoff = np.sum(np.amax(payoff_data, axis=1)) / float(num_of_ite)\n",
    "    \n",
    "    option_price = np.exp(-rf * (T - t)) * average_payoff\n",
    "    \n",
    "    return option_price"
   ]
  },
  {
   "cell_type": "code",
   "execution_count": 35,
   "id": "b1aa8ea3",
   "metadata": {},
   "outputs": [
    {
     "name": "stdout",
     "output_type": "stream",
     "text": [
      "Call option value is 4.61\n",
      "Put option value is 3.37\n"
     ]
    }
   ],
   "source": [
    "print(\"Call option value is\",round(monte_carlo_pricing_method(100, 100, 0.05, 0.2, 0.25, 0, 700000,\"C\"),2))\n",
    "print(\"Put option value is\",round(monte_carlo_pricing_method(100, 100, 0.05, 0.2, 0.25, 0, 700000,\"P\"),2))"
   ]
  },
  {
   "cell_type": "code",
   "execution_count": 79,
   "id": "923d3694",
   "metadata": {},
   "outputs": [
    {
     "name": "stdout",
     "output_type": "stream",
     "text": [
      "Call option Delta value is 0.58\n"
     ]
    }
   ],
   "source": [
    "ds = 1\n",
    "c0 = monte_carlo_pricing_method(100, 100, 0.05, 0.2, 0.25, 0, 700000,\"C\")\n",
    "c1 = monte_carlo_pricing_method(100+ds, 100, 0.05, 0.2, 0.25, 0, 700000,\"C\")\n",
    "print(\"Call option Delta value is\",round((c1 - c0),2))"
   ]
  },
  {
   "cell_type": "code",
   "execution_count": 77,
   "id": "7d6e9c65",
   "metadata": {},
   "outputs": [
    {
     "name": "stdout",
     "output_type": "stream",
     "text": [
      "Call option Delta value is -0.41\n"
     ]
    }
   ],
   "source": [
    "ds = 1\n",
    "p0 = monte_carlo_pricing_method(100, 100, 0.05, 0.2, 0.25, 0, 700000,\"P\")\n",
    "p1 = monte_carlo_pricing_method(100+ds, 100, 0.05, 0.2, 0.25, 0, 700000,\"P\")\n",
    "print(\"Call option Delta value is\",round((p1 - p0),2))"
   ]
  },
  {
   "cell_type": "code",
   "execution_count": 80,
   "id": "a0d0738e",
   "metadata": {},
   "outputs": [
    {
     "name": "stdout",
     "output_type": "stream",
     "text": [
      "Vega for European call is 19.35\n"
     ]
    }
   ],
   "source": [
    "Vega_European_call=(monte_carlo_pricing_method(100, 100, 0.05, 0.25, 0.25, 0, 700000,\"C\")-\n",
    "                    monte_carlo_pricing_method(100, 100, 0.05, 0.2, 0.25, 0, 700000,\"C\"))/(0.25-0.2)\n",
    "print(\"Vega for European call is\",round(Vega_European_call,2))"
   ]
  },
  {
   "cell_type": "code",
   "execution_count": 82,
   "id": "438bfa01",
   "metadata": {},
   "outputs": [
    {
     "name": "stdout",
     "output_type": "stream",
     "text": [
      "Vega for European call is 19.85\n"
     ]
    }
   ],
   "source": [
    "Vega_European_put=(monte_carlo_pricing_method(100, 100, 0.05, 0.25, 0.25, 0, 700000,\"P\")-\n",
    "                    monte_carlo_pricing_method(100, 100, 0.05, 0.2, 0.25, 0, 700000,\"P\"))/(0.25-0.2)\n",
    "print(\"Vega for European call is\",round(Vega_European_put,2))"
   ]
  },
  {
   "cell_type": "markdown",
   "id": "36c0ebb3",
   "metadata": {},
   "source": [
    "---\n",
    "\n",
    "Step2: Question 5 to Question 7 for American Put Option"
   ]
  },
  {
   "cell_type": "code",
   "execution_count": null,
   "id": "68fc727a",
   "metadata": {},
   "outputs": [],
   "source": []
  },
  {
   "cell_type": "code",
   "execution_count": null,
   "id": "ddd06aec",
   "metadata": {},
   "outputs": [],
   "source": []
  }
 ],
 "metadata": {
  "kernelspec": {
   "display_name": "Python 3 (ipykernel)",
   "language": "python",
   "name": "python3"
  },
  "language_info": {
   "codemirror_mode": {
    "name": "ipython",
    "version": 3
   },
   "file_extension": ".py",
   "mimetype": "text/x-python",
   "name": "python",
   "nbconvert_exporter": "python",
   "pygments_lexer": "ipython3",
   "version": "3.10.6"
  }
 },
 "nbformat": 4,
 "nbformat_minor": 5
}
