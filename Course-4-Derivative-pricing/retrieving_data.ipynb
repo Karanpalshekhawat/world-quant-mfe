{
 "cells": [
  {
   "cell_type": "code",
   "execution_count": 41,
   "id": "16207549",
   "metadata": {},
   "outputs": [],
   "source": [
    "import numpy as np\n",
    "import pandas as pd\n",
    "import yfinance as yf\n",
    "from scipy import stats\n",
    "from math import exp, sqrt\n",
    "import matplotlib.pyplot as plt"
   ]
  },
  {
   "cell_type": "code",
   "execution_count": 6,
   "id": "778301cd",
   "metadata": {},
   "outputs": [
    {
     "data": {
      "text/html": [
       "<div>\n",
       "<style scoped>\n",
       "    .dataframe tbody tr th:only-of-type {\n",
       "        vertical-align: middle;\n",
       "    }\n",
       "\n",
       "    .dataframe tbody tr th {\n",
       "        vertical-align: top;\n",
       "    }\n",
       "\n",
       "    .dataframe thead th {\n",
       "        text-align: right;\n",
       "    }\n",
       "</style>\n",
       "<table border=\"1\" class=\"dataframe\">\n",
       "  <thead>\n",
       "    <tr style=\"text-align: right;\">\n",
       "      <th></th>\n",
       "      <th>Open</th>\n",
       "      <th>High</th>\n",
       "      <th>Low</th>\n",
       "      <th>Close</th>\n",
       "      <th>Volume</th>\n",
       "      <th>Dividends</th>\n",
       "      <th>Stock Splits</th>\n",
       "    </tr>\n",
       "    <tr>\n",
       "      <th>Date</th>\n",
       "      <th></th>\n",
       "      <th></th>\n",
       "      <th></th>\n",
       "      <th></th>\n",
       "      <th></th>\n",
       "      <th></th>\n",
       "      <th></th>\n",
       "    </tr>\n",
       "  </thead>\n",
       "  <tbody>\n",
       "    <tr>\n",
       "      <th>2023-05-15 00:00:00-04:00</th>\n",
       "      <td>308.425773</td>\n",
       "      <td>309.224016</td>\n",
       "      <td>306.919057</td>\n",
       "      <td>308.784973</td>\n",
       "      <td>16336500</td>\n",
       "      <td>0.00</td>\n",
       "      <td>0.0</td>\n",
       "    </tr>\n",
       "    <tr>\n",
       "      <th>2023-05-16 00:00:00-04:00</th>\n",
       "      <td>309.154160</td>\n",
       "      <td>313.025702</td>\n",
       "      <td>309.154160</td>\n",
       "      <td>311.059998</td>\n",
       "      <td>26730300</td>\n",
       "      <td>0.00</td>\n",
       "      <td>0.0</td>\n",
       "    </tr>\n",
       "    <tr>\n",
       "      <th>2023-05-17 00:00:00-04:00</th>\n",
       "      <td>312.290009</td>\n",
       "      <td>314.429993</td>\n",
       "      <td>310.739990</td>\n",
       "      <td>314.000000</td>\n",
       "      <td>24315000</td>\n",
       "      <td>0.68</td>\n",
       "      <td>0.0</td>\n",
       "    </tr>\n",
       "    <tr>\n",
       "      <th>2023-05-18 00:00:00-04:00</th>\n",
       "      <td>314.529999</td>\n",
       "      <td>319.040009</td>\n",
       "      <td>313.720001</td>\n",
       "      <td>318.519989</td>\n",
       "      <td>27276000</td>\n",
       "      <td>0.00</td>\n",
       "      <td>0.0</td>\n",
       "    </tr>\n",
       "    <tr>\n",
       "      <th>2023-05-19 00:00:00-04:00</th>\n",
       "      <td>316.739990</td>\n",
       "      <td>318.750000</td>\n",
       "      <td>316.369995</td>\n",
       "      <td>318.339996</td>\n",
       "      <td>27529500</td>\n",
       "      <td>0.00</td>\n",
       "      <td>0.0</td>\n",
       "    </tr>\n",
       "  </tbody>\n",
       "</table>\n",
       "</div>"
      ],
      "text/plain": [
       "                                 Open        High         Low       Close  \\\n",
       "Date                                                                        \n",
       "2023-05-15 00:00:00-04:00  308.425773  309.224016  306.919057  308.784973   \n",
       "2023-05-16 00:00:00-04:00  309.154160  313.025702  309.154160  311.059998   \n",
       "2023-05-17 00:00:00-04:00  312.290009  314.429993  310.739990  314.000000   \n",
       "2023-05-18 00:00:00-04:00  314.529999  319.040009  313.720001  318.519989   \n",
       "2023-05-19 00:00:00-04:00  316.739990  318.750000  316.369995  318.339996   \n",
       "\n",
       "                             Volume  Dividends  Stock Splits  \n",
       "Date                                                          \n",
       "2023-05-15 00:00:00-04:00  16336500       0.00           0.0  \n",
       "2023-05-16 00:00:00-04:00  26730300       0.00           0.0  \n",
       "2023-05-17 00:00:00-04:00  24315000       0.68           0.0  \n",
       "2023-05-18 00:00:00-04:00  27276000       0.00           0.0  \n",
       "2023-05-19 00:00:00-04:00  27529500       0.00           0.0  "
      ]
     },
     "execution_count": 6,
     "metadata": {},
     "output_type": "execute_result"
    }
   ],
   "source": [
    "msft = yf.Ticker(\"MSFT\")\n",
    "hist = msft.history(period=\"5d\")\n",
    "hist"
   ]
  },
  {
   "cell_type": "code",
   "execution_count": 11,
   "id": "34ee7ac2",
   "metadata": {},
   "outputs": [
    {
     "name": "stdout",
     "output_type": "stream",
     "text": [
      "[*********************100%***********************]  3 of 3 completed\n"
     ]
    }
   ],
   "source": [
    "# multiple tickers\n",
    "data = yf.download(\"SPY AAPL MSFT\", start=\"2017-01-01\", end=\"2021-04-30\")"
   ]
  },
  {
   "cell_type": "code",
   "execution_count": 12,
   "id": "6e4531b7",
   "metadata": {},
   "outputs": [
    {
     "name": "stdout",
     "output_type": "stream",
     "text": [
      "[*********************100%***********************]  3 of 3 completed\n"
     ]
    }
   ],
   "source": [
    "data = yf.download(\n",
    "    \"SPY AAPL MSFT\", start=\"2017-01-01\", end=\"2021-04-30\", group_by=\"ticker\"\n",
    ")\n",
    "spy_price = data[\"SPY\"][\"Adj Close\"]"
   ]
  },
  {
   "cell_type": "code",
   "execution_count": 13,
   "id": "41fc4e2e",
   "metadata": {},
   "outputs": [
    {
     "name": "stdout",
     "output_type": "stream",
     "text": [
      "[*********************100%***********************]  1 of 1 completed\n"
     ]
    }
   ],
   "source": [
    "hist = yf.download(\"MSFT\", start=\"2010-01-01\", end=\"2020-01-01\")\n",
    "msft_daily_returns = (hist[\"Adj Close\"] / hist[\"Adj Close\"].shift(1)) - 1\n",
    "msft_daily_returns_frame = msft_daily_returns.to_frame()"
   ]
  },
  {
   "cell_type": "code",
   "execution_count": 14,
   "id": "c2046132",
   "metadata": {},
   "outputs": [
    {
     "name": "stdout",
     "output_type": "stream",
     "text": [
      "Kurtosis = 6.280220404298813\n",
      "Skew = 0.07075599109089765\n"
     ]
    }
   ],
   "source": [
    "from scipy.stats import kurtosis, skew\n",
    "\n",
    "array_msft = msft_daily_returns.to_numpy()\n",
    "kurt = kurtosis(array_msft[1:])\n",
    "sk = skew(array_msft[1:])\n",
    "print(\"Kurtosis = \" + str(kurt))\n",
    "print(\"Skew = \" + str(sk))"
   ]
  },
  {
   "cell_type": "code",
   "execution_count": 17,
   "id": "feadb0f9",
   "metadata": {},
   "outputs": [
    {
     "data": {
      "text/plain": [
       "Jarque_beraResult(statistic=4135.204284528979, pvalue=0.0)"
      ]
     },
     "execution_count": 17,
     "metadata": {},
     "output_type": "execute_result"
    }
   ],
   "source": [
    "# We first need to get rid of the NaN values\n",
    "msft_ret = msft_daily_returns_frame.dropna()\n",
    "\n",
    "# Then, we perform the test\n",
    "jb_msft = stats.jarque_bera(msft_ret)\n",
    "jb_msft\n",
    "# p value less than critical, reject null that it is normal"
   ]
  },
  {
   "cell_type": "code",
   "execution_count": 18,
   "id": "e44a572a",
   "metadata": {},
   "outputs": [
    {
     "data": {
      "text/plain": [
       "Ttest_1sampResult(statistic=array([2.9616121]), pvalue=array([0.003089]))"
      ]
     },
     "execution_count": 18,
     "metadata": {},
     "output_type": "execute_result"
    }
   ],
   "source": [
    "stats.ttest_1samp(msft_ret, popmean=0)\n",
    "# reject null and we conclude that mean of the distribution is statistically different than Zero"
   ]
  },
  {
   "cell_type": "code",
   "execution_count": 21,
   "id": "7a2a5881",
   "metadata": {},
   "outputs": [
    {
     "name": "stdout",
     "output_type": "stream",
     "text": [
      "[*********************100%***********************]  1 of 1 completed\n",
      "[*********************100%***********************]  1 of 1 completed\n",
      "Covariance for AAPL-MSFT for 2016-2020 is:  0.00023742435956860487\n"
     ]
    }
   ],
   "source": [
    "# Covariance between AAPL and MSFT in the 2016-2020 period:\n",
    "hist_AAPL = yf.download(\"AAPL\", start=\"2016-01-01\", end=\"2020-12-31\")\n",
    "aapl_daily_returns = (hist_AAPL[\"Adj Close\"] / hist_AAPL[\"Adj Close\"].shift(1)) - 1\n",
    "hist_MSFT = yf.download(\"MSFT\", start=\"2016-01-01\", end=\"2020-12-31\")\n",
    "msft_daily_returns = (hist_MSFT[\"Adj Close\"] / hist_MSFT[\"Adj Close\"].shift(1)) - 1\n",
    "X = np.stack((msft_daily_returns.dropna(), aapl_daily_returns.dropna()), axis=0)\n",
    "Cov_1 = np.cov(X)\n",
    "print(\"Covariance for AAPL-MSFT for 2016-2020 is: \", Cov_1[0, 1])"
   ]
  },
  {
   "cell_type": "code",
   "execution_count": 24,
   "id": "cfe86f4f",
   "metadata": {},
   "outputs": [
    {
     "name": "stdout",
     "output_type": "stream",
     "text": [
      "[*********************100%***********************]  5 of 5 completed\n"
     ]
    },
    {
     "data": {
      "text/html": [
       "<div>\n",
       "<style scoped>\n",
       "    .dataframe tbody tr th:only-of-type {\n",
       "        vertical-align: middle;\n",
       "    }\n",
       "\n",
       "    .dataframe tbody tr th {\n",
       "        vertical-align: top;\n",
       "    }\n",
       "\n",
       "    .dataframe thead th {\n",
       "        text-align: right;\n",
       "    }\n",
       "</style>\n",
       "<table border=\"1\" class=\"dataframe\">\n",
       "  <thead>\n",
       "    <tr style=\"text-align: right;\">\n",
       "      <th></th>\n",
       "      <th>AAPL</th>\n",
       "      <th>AMZN</th>\n",
       "      <th>GOOG</th>\n",
       "      <th>META</th>\n",
       "      <th>MSFT</th>\n",
       "    </tr>\n",
       "    <tr>\n",
       "      <th>Date</th>\n",
       "      <th></th>\n",
       "      <th></th>\n",
       "      <th></th>\n",
       "      <th></th>\n",
       "      <th></th>\n",
       "    </tr>\n",
       "  </thead>\n",
       "  <tbody>\n",
       "    <tr>\n",
       "      <th>2013-05-20</th>\n",
       "      <td>13.733947</td>\n",
       "      <td>13.3815</td>\n",
       "      <td>22.628433</td>\n",
       "      <td>25.760000</td>\n",
       "      <td>29.232710</td>\n",
       "    </tr>\n",
       "    <tr>\n",
       "      <th>2013-05-21</th>\n",
       "      <td>13.632554</td>\n",
       "      <td>13.4430</td>\n",
       "      <td>22.589579</td>\n",
       "      <td>25.660000</td>\n",
       "      <td>29.041033</td>\n",
       "    </tr>\n",
       "    <tr>\n",
       "      <th>2013-05-22</th>\n",
       "      <td>13.684956</td>\n",
       "      <td>13.1480</td>\n",
       "      <td>22.152468</td>\n",
       "      <td>25.160000</td>\n",
       "      <td>28.841059</td>\n",
       "    </tr>\n",
       "    <tr>\n",
       "      <th>2013-05-23</th>\n",
       "      <td>13.709452</td>\n",
       "      <td>13.0900</td>\n",
       "      <td>21.987335</td>\n",
       "      <td>25.059999</td>\n",
       "      <td>28.457735</td>\n",
       "    </tr>\n",
       "    <tr>\n",
       "      <th>2013-05-24</th>\n",
       "      <td>13.802785</td>\n",
       "      <td>13.0870</td>\n",
       "      <td>21.751471</td>\n",
       "      <td>24.309999</td>\n",
       "      <td>28.557722</td>\n",
       "    </tr>\n",
       "  </tbody>\n",
       "</table>\n",
       "</div>"
      ],
      "text/plain": [
       "                 AAPL     AMZN       GOOG       META       MSFT\n",
       "Date                                                           \n",
       "2013-05-20  13.733947  13.3815  22.628433  25.760000  29.232710\n",
       "2013-05-21  13.632554  13.4430  22.589579  25.660000  29.041033\n",
       "2013-05-22  13.684956  13.1480  22.152468  25.160000  28.841059\n",
       "2013-05-23  13.709452  13.0900  21.987335  25.059999  28.457735\n",
       "2013-05-24  13.802785  13.0870  21.751471  24.309999  28.557722"
      ]
     },
     "execution_count": 24,
     "metadata": {},
     "output_type": "execute_result"
    }
   ],
   "source": [
    "tickers = [\"AAPL\", \"AMZN\", \"META\", \"GOOG\", \"MSFT\"]\n",
    "df_tickers = yf.download(tickers, period=\"10y\")[\"Adj Close\"]\n",
    "df_tickers.head()"
   ]
  },
  {
   "cell_type": "code",
   "execution_count": 25,
   "id": "fb79699e",
   "metadata": {},
   "outputs": [
    {
     "name": "stdout",
     "output_type": "stream",
     "text": [
      "          AAPL      AMZN      GOOG      META      MSFT\n",
      "AAPL  1.000000  0.532780  0.589479  0.495534  0.644550\n",
      "AMZN  0.532780  1.000000  0.642824  0.554196  0.610049\n",
      "GOOG  0.589479  0.642824  1.000000  0.609228  0.698239\n",
      "META  0.495534  0.554196  0.609228  1.000000  0.521314\n",
      "MSFT  0.644550  0.610049  0.698239  0.521314  1.000000\n"
     ]
    }
   ],
   "source": [
    "df_tickers_ret = df_tickers / df_tickers.shift(1) - 1\n",
    "volatility = (\n",
    "    df_tickers_ret.std()\n",
    ")  # This is daily volatility, we will later on annualize it!\n",
    "df_tickers_corr = df_tickers_ret.corr()\n",
    "print(df_tickers_corr)\n",
    "# all of positive returns"
   ]
  },
  {
   "cell_type": "markdown",
   "id": "6e543b98",
   "metadata": {},
   "source": [
    "### Cholesky decomposition\n",
    "\n",
    "### C = LL^T"
   ]
  },
  {
   "cell_type": "code",
   "execution_count": 26,
   "id": "a081cd1d",
   "metadata": {},
   "outputs": [],
   "source": [
    "R = np.linalg.cholesky(df_tickers_corr)"
   ]
  },
  {
   "cell_type": "code",
   "execution_count": 30,
   "id": "e32d49f2",
   "metadata": {},
   "outputs": [],
   "source": [
    "L = R"
   ]
  },
  {
   "cell_type": "code",
   "execution_count": 32,
   "id": "d7b08070",
   "metadata": {},
   "outputs": [
    {
     "name": "stdout",
     "output_type": "stream",
     "text": [
      "          AAPL      AMZN      GOOG      META      MSFT\n",
      "AAPL  1.000000  0.532780  0.589479  0.495534  0.644550\n",
      "AMZN  0.532780  1.000000  0.642824  0.554196  0.610049\n",
      "GOOG  0.589479  0.642824  1.000000  0.609228  0.698239\n",
      "META  0.495534  0.554196  0.609228  1.000000  0.521314\n",
      "MSFT  0.644550  0.610049  0.698239  0.521314  1.000000\n",
      "\n",
      " below I am showing that we can obtain this original matrix using cholesky decomposition matrix\n",
      "\n",
      "[[1.         0.53278007 0.58947861 0.4955336  0.64454963]\n",
      " [0.53278007 1.         0.6428239  0.55419603 0.61004922]\n",
      " [0.58947861 0.6428239  1.         0.60922844 0.6982386 ]\n",
      " [0.4955336  0.55419603 0.60922844 1.         0.52131355]\n",
      " [0.64454963 0.61004922 0.6982386  0.52131355 1.        ]]\n"
     ]
    }
   ],
   "source": [
    "print(df_tickers_corr)\n",
    "print(\"\\n below I am showing that we can obtain this original matrix using cholesky decomposition matrix\\n\")\n",
    "re_mat = np.dot(L,L.T)\n",
    "print(re_mat)"
   ]
  },
  {
   "cell_type": "markdown",
   "id": "71517d43",
   "metadata": {},
   "source": [
    "### Simulating correlated paths for these 4 stocks based on their correlation"
   ]
  },
  {
   "cell_type": "code",
   "execution_count": 33,
   "id": "1a2bee8a",
   "metadata": {},
   "outputs": [
    {
     "data": {
      "text/plain": [
       "AAPL    0.018012\n",
       "AMZN    0.020729\n",
       "GOOG    0.017451\n",
       "META    0.024540\n",
       "MSFT    0.017236\n",
       "dtype: float64"
      ]
     },
     "execution_count": 33,
     "metadata": {},
     "output_type": "execute_result"
    }
   ],
   "source": [
    "volatility"
   ]
  },
  {
   "cell_type": "code",
   "execution_count": 46,
   "id": "8760bfe8",
   "metadata": {},
   "outputs": [],
   "source": [
    "T = 252 # Number of simulated days\n",
    "Num = len(volatility)  \n",
    "stock_price_array = np.full(\n",
    "    (Num, T), 100.0\n",
    ")  # Stock price, first value is simulation input\n",
    "volatility_array = volatility * sqrt(252)  # Volatility (annual, 0.01=1%)\n",
    "r = 0.001  # Risk-free rate (annual, 0.01=1%)\n",
    "dt = 1.0 / T  # Time increment (annualized)"
   ]
  },
  {
   "cell_type": "code",
   "execution_count": 47,
   "id": "9f4e7606",
   "metadata": {},
   "outputs": [],
   "source": [
    "# we can simulate the price using the straight forward equation St = st-1*exp((r-sigma^2/2)*dt + sigma*epsilon*sqrt(dt))\n",
    "for t in range(1, T):\n",
    "    # Generate array of random standard normal draws\n",
    "    random_array = np.random.standard_normal(Num)\n",
    "\n",
    "    # Multiply R (from factorization) with random_array to obtain correlated epsilons\n",
    "    epsilon_array = np.inner(random_array, R)\n",
    "\n",
    "    # Sample price path per stock\n",
    "    for n in range(Num):\n",
    "        dt = 1 / T\n",
    "        S = stock_price_array[n, t - 1]\n",
    "        v = volatility_array[n]\n",
    "        epsilon = epsilon_array[n]\n",
    "\n",
    "        # Generate new stock price\n",
    "        stock_price_array[n, t] = S * exp(\n",
    "            (r - 0.5 * v**2) * dt + v * sqrt(dt) * epsilon\n",
    "        )"
   ]
  },
  {
   "cell_type": "code",
   "execution_count": 48,
   "id": "20cc258f",
   "metadata": {},
   "outputs": [
    {
     "data": {
      "image/png": "[encoded data removed]",
      "text/plain": [
       "<Figure size 640x480 with 1 Axes>"
      ]
     },
     "metadata": {},
     "output_type": "display_data"
    }
   ],
   "source": [
    "fig = plt.figure()\n",
    "ax = fig.add_subplot(1, 1, 1)\n",
    "array_day_plot = [t for t in range(T)]\n",
    "\n",
    "for n in range(Num):\n",
    "    ax.plot(array_day_plot, stock_price_array[n], label=\"{}\".format(tickers[n]))\n",
    "\n",
    "plt.grid()\n",
    "plt.xlabel(\"Day\")\n",
    "plt.ylabel(\"Asset price\")\n",
    "plt.legend(loc=\"best\")\n",
    "\n",
    "plt.show()"
   ]
  },
  {
   "cell_type": "code",
   "execution_count": 72,
   "id": "579632d6",
   "metadata": {},
   "outputs": [],
   "source": [
    "nl = np.array([[0.063, -0.025],[-0.025, 0.032]])"
   ]
  },
  {
   "cell_type": "code",
   "execution_count": 73,
   "id": "978450d9",
   "metadata": {},
   "outputs": [
    {
     "data": {
      "text/plain": [
       "array([[ 0.25099801,  0.        ],\n",
       "       [-0.09960238,  0.14859127]])"
      ]
     },
     "execution_count": 73,
     "metadata": {},
     "output_type": "execute_result"
    }
   ],
   "source": [
    "np.linalg.cholesky(nl)"
   ]
  },
  {
   "cell_type": "code",
   "execution_count": 82,
   "id": "c55452d5",
   "metadata": {},
   "outputs": [
    {
     "name": "stdout",
     "output_type": "stream",
     "text": [
      "[*********************100%***********************]  1 of 1 completed\n"
     ]
    }
   ],
   "source": [
    "hist = yf.download(\"AMZN\", start=\"2021-01-01\", end=\"2021-12-31\")\n",
    "# tsla_daily_returns = (hist[\"Adj Close\"] / hist[\"Adj Close\"].shift(1)) - 1"
   ]
  },
  {
   "cell_type": "code",
   "execution_count": 83,
   "id": "a6e03e2c",
   "metadata": {},
   "outputs": [],
   "source": [
    "hist.to_clipboard()"
   ]
  },
  {
   "cell_type": "code",
   "execution_count": 55,
   "id": "9077a0a3",
   "metadata": {},
   "outputs": [
    {
     "name": "stdout",
     "output_type": "stream",
     "text": [
      "[*********************100%***********************]  3 of 3 completed\n"
     ]
    }
   ],
   "source": [
    "tickers = [\"AAPL\", \"AMZN\", \"TSLA\"]\n",
    "df_tickers = yf.download(tickers, start=\"2021-01-01\", end=\"2021-7-31\")[\"Adj Close\"]\n",
    "df_tickers.to_clipboard()"
   ]
  },
  {
   "cell_type": "code",
   "execution_count": 75,
   "id": "39dca269",
   "metadata": {},
   "outputs": [],
   "source": [
    "corr = np.array([[1, 0.679, 0.338], [0.679,1,0.435], [0.338, 0.435,1]])"
   ]
  },
  {
   "cell_type": "code",
   "execution_count": 76,
   "id": "d5209d9a",
   "metadata": {},
   "outputs": [],
   "source": [
    "np.random.seed(10)\n",
    "R = np.linalg.cholesky(corr)\n",
    "random_array = np.random.standard_normal(3)\n",
    "epsilon_array = np.inner(random_array, R)"
   ]
  },
  {
   "cell_type": "code",
   "execution_count": 77,
   "id": "0aea4d72",
   "metadata": {},
   "outputs": [
    {
     "data": {
      "text/plain": [
       "array([ 1.3315865 ,  1.42926091, -0.73833301])"
      ]
     },
     "execution_count": 77,
     "metadata": {},
     "output_type": "execute_result"
    }
   ],
   "source": [
    "epsilon_array"
   ]
  },
  {
   "cell_type": "code",
   "execution_count": 63,
   "id": "47de66c1",
   "metadata": {},
   "outputs": [
    {
     "name": "stdout",
     "output_type": "stream",
     "text": [
      "[*********************100%***********************]  2 of 2 completed\n"
     ]
    }
   ],
   "source": [
    "tick = [\"JPM\", \"BA\"]\n",
    "hist = yf.download(tick, start=\"2008-01-01\", end=\"2011-12-31\")"
   ]
  },
  {
   "cell_type": "code",
   "execution_count": 64,
   "id": "ec3385e1",
   "metadata": {},
   "outputs": [],
   "source": [
    "hist.to_clipboard()"
   ]
  },
  {
   "cell_type": "code",
   "execution_count": 84,
   "id": "2a115bd3",
   "metadata": {},
   "outputs": [],
   "source": [
    "L = np.array([[0.3, 0],[-0.25, 0.32]])"
   ]
  },
  {
   "cell_type": "code",
   "execution_count": 85,
   "id": "7f840ee8",
   "metadata": {},
   "outputs": [
    {
     "data": {
      "text/plain": [
       "array([[ 0.09  , -0.075 ],\n",
       "       [-0.075 ,  0.1649]])"
      ]
     },
     "execution_count": 85,
     "metadata": {},
     "output_type": "execute_result"
    }
   ],
   "source": [
    "np.dot(L,L.T)"
   ]
  },
  {
   "cell_type": "code",
   "execution_count": null,
   "id": "d56ea3b4",
   "metadata": {},
   "outputs": [],
   "source": []
  }
 ],
 "metadata": {
  "kernelspec": {
   "display_name": "Python 3 (ipykernel)",
   "language": "python",
   "name": "python3"
  },
  "language_info": {
   "codemirror_mode": {
    "name": "ipython",
    "version": 3
   },
   "file_extension": ".py",
   "mimetype": "text/x-python",
   "name": "python",
   "nbconvert_exporter": "python",
   "pygments_lexer": "ipython3",
   "version": "3.10.6"
  }
 },
 "nbformat": 4,
 "nbformat_minor": 5
}
