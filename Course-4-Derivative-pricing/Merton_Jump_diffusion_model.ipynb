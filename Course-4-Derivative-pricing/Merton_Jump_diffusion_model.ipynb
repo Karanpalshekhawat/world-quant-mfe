{
 "cells": [
  {
   "cell_type": "markdown",
   "id": "f015188f",
   "metadata": {},
   "source": [
    "Merton Model incorporates jumps in stock prices by assuming that drift is not constant and it follows some jump process based on poisson distribution. Basically, under Merton model, randomness is incorporated due to 3 reason: - \n",
    "\n",
    "1. Undertying stock process\n",
    "2. Size of the jump\n",
    "3. Timing of jump\n",
    "\n",
    "1 and 2 follows standard normal while 3 follows Poisson distribution"
   ]
  },
  {
   "cell_type": "code",
   "execution_count": 1,
   "id": "dc15b3cc",
   "metadata": {},
   "outputs": [],
   "source": [
    "import matplotlib.pyplot as plt\n",
    "import numpy as np\n",
    "np.random.seed(42)\n",
    "import pandas as pd\n",
    "import scipy.stats as ss"
   ]
  },
  {
   "cell_type": "markdown",
   "id": "f66e9be2",
   "metadata": {},
   "source": [
    "$$\n",
    "\\begin{equation*}\n",
    "    dS_t = \\left( r - r_j \\right) S_t dt + \\sigma S_t dZ_t + J_t S_t dN_t\n",
    "\\end{equation*}\n",
    "$$\n",
    "\n",
    "with the following discretized form:\n",
    "\n",
    "$$\n",
    "\\begin{equation*}\n",
    "    S_t = S_{t-1} \\left( e^{\\left(r-r_j-\\frac{\\sigma^2}{2}\\right)dt + \\sigma \\sqrt{dt} z_t^1}+\n",
    "    \\left(e^{\\mu_j+\\delta z_t^2}-1 \\right) y_t \\right)\n",
    "\\end{equation*}\n",
    "$$\n",
    "\n",
    "where $z_t^1$ and $z_t^2$ follow a standard normal and $y_t$ follows a Poisson process. Finally, $r_j$ equals to:\n",
    "\n",
    "$$\n",
    "\\begin{equation*}\n",
    "r_j = \\lambda \\left(e^{\\mu_j+\\frac{\\delta^2}{2}}\\right)-1\n",
    "\\end{equation*}\n",
    "$$\n",
    "\n",
    "Note that r_j is the term which make sure that the process is risk neutral even after the jump in drift"
   ]
  },
  {
   "cell_type": "code",
   "execution_count": 2,
   "id": "f45134dc",
   "metadata": {},
   "outputs": [],
   "source": [
    "# as of now, we are assuming these paramters but in the next course, we will learn about how to calibrate these parameters\n",
    "lamb = 0.25  # Lambda of the model\n",
    "mu = -0.5  # Mu\n",
    "delta = 0.25  # Delta"
   ]
  },
  {
   "cell_type": "code",
   "execution_count": 3,
   "id": "37952af1",
   "metadata": {},
   "outputs": [],
   "source": [
    "r = 0.05  # Risk-free rate\n",
    "sigma = 0.45  # Volatility\n",
    "T = 0.25 # Maturity/time period (in years)\n",
    "S0 = 200  # Current Stock Price\n",
    "\n",
    "Ite = 20000  # Number of simulations (paths)\n",
    "M = 90  # Number of steps\n",
    "dt = T / M  # Time-step"
   ]
  },
  {
   "cell_type": "code",
   "execution_count": 4,
   "id": "b5e705eb",
   "metadata": {},
   "outputs": [],
   "source": [
    "np.random.seed(42)\n",
    "SM = np.zeros((M + 1, Ite))\n",
    "SM[0] = S0\n",
    "\n",
    "# rj\n",
    "rj = lamb * (np.exp(mu + 0.5 * delta**2) - 1)\n",
    "\n",
    "# Random numbers\n",
    "z1 = np.random.standard_normal((M + 1, Ite))\n",
    "z2 = np.random.standard_normal((M + 1, Ite))\n",
    "y = np.random.poisson(lamb * dt, (M + 1, Ite))"
   ]
  },
  {
   "cell_type": "code",
   "execution_count": 5,
   "id": "e0fc15eb",
   "metadata": {},
   "outputs": [],
   "source": [
    "np.random.seed(42)\n",
    "for t in range(1, M + 1):\n",
    "    SM[t] = SM[t - 1] * (\n",
    "        np.exp((r - rj - 0.5 * sigma**2) * dt + sigma * np.sqrt(dt) * z1[t])\n",
    "        + (np.exp(mu + delta * z2[t]) - 1) * y[t]\n",
    "    )\n",
    "    SM[t] = np.maximum(\n",
    "        SM[t], 0.00001\n",
    "    )"
   ]
  },
  {
   "cell_type": "code",
   "execution_count": null,
   "id": "64268d6d",
   "metadata": {},
   "outputs": [],
   "source": [
    "plt.figure(figsize=(10, 8))\n",
    "plt.plot(SM[:, 100:150])\n",
    "plt.title(\"Merton '76 Stock Price Paths\")\n",
    "plt.xlabel(\"Time Step\")\n",
    "plt.ylabel(\"Underlying Price\")\n",
    "plt.show()"
   ]
  },
  {
   "cell_type": "code",
   "execution_count": null,
   "id": "a0d8159f",
   "metadata": {},
   "outputs": [],
   "source": [
    "retSM = np.log(SM[-1, :] / S0)\n",
    "x = np.linspace(retSM.min(), retSM.max(), 500)\n",
    "\n",
    "plt.figure(figsize=(12, 8))\n",
    "plt.hist(retSM, density=True, bins=500)\n",
    "plt.plot(\n",
    "    x, ss.norm.pdf(x, retSM.mean(), retSM.std()), color=\"r\", label=\"Normal density\"\n",
    ")\n",
    "plt.legend()\n",
    "plt.show()"
   ]
  },
  {
   "cell_type": "code",
   "execution_count": null,
   "id": "037fb56c",
   "metadata": {},
   "outputs": [],
   "source": [
    "def merton_call_mc(S, K, r, T, t):\n",
    "    payoff = np.maximum(0, S[-1, :] - K)\n",
    "\n",
    "    average = np.mean(payoff)\n",
    "\n",
    "    return np.exp(-r * (T - t)) * average"
   ]
  },
  {
   "cell_type": "code",
   "execution_count": null,
   "id": "07faf448",
   "metadata": {},
   "outputs": [],
   "source": [
    "def merton_put_mc(S, K, r, T, t):\n",
    "    payoff = np.maximum(0,  K)\n",
    "\n",
    "    average = np.mean(payoff)\n",
    "\n",
    "    return np.exp(-r * (T - t)) * average"
   ]
  },
  {
   "cell_type": "code",
   "execution_count": null,
   "id": "f8edc0af",
   "metadata": {},
   "outputs": [],
   "source": [
    "np.random.seed(2)\n",
    "print(\"European Call Price under Merton: \", merton_call_mc(SM, 195, r, T, 0))\n",
    "merton_price = merton_call_mc(SM, 195, r, T, 0)"
   ]
  },
  {
   "cell_type": "markdown",
   "id": "cde6d640",
   "metadata": {},
   "source": [
    "### Changing Merton Model Parameters"
   ]
  },
  {
   "cell_type": "code",
   "execution_count": null,
   "id": "a1c24e7a",
   "metadata": {},
   "outputs": [],
   "source": [
    "lamb = 0.99  # Increased Lambda of the model meaning increasing the probability of the jumps to 99%\n",
    "mu = -0.6  # Mu\n",
    "delta = 0.1  # Delta\n",
    "\n",
    "r = 0.05  # Risk-free rate\n",
    "sigma = 0.2  # Volatility\n",
    "T = 1.0  # Maturity/time period (in years)\n",
    "S0 = 100  # Current Stock Price\n",
    "\n",
    "Ite = 10000  # Number of simulations (paths)\n",
    "M = 50  # Number of steps\n",
    "dt = T / M  # Time-step\n",
    "\n",
    "SM = np.zeros((M + 1, Ite))\n",
    "SM[0] = S0\n",
    "\n",
    "# rj\n",
    "rj = lamb * (np.exp(mu + 0.5 * delta**2) - 1)\n",
    "\n",
    "# Random numbers\n",
    "z1 = np.random.standard_normal((M + 1, Ite))\n",
    "z2 = np.random.standard_normal((M + 1, Ite))\n",
    "y = np.random.poisson(lamb * dt, (M + 1, Ite))"
   ]
  },
  {
   "cell_type": "code",
   "execution_count": null,
   "id": "089dc4bf",
   "metadata": {},
   "outputs": [],
   "source": [
    "for t in range(1, M + 1):\n",
    "    SM[t] = SM[t - 1] * (\n",
    "        np.exp((r - rj - 0.5 * sigma**2) * dt + sigma * np.sqrt(dt) * z1[t])\n",
    "        + (np.exp(mu + delta * z2[t]) - 1) * y[t]\n",
    "    )\n",
    "    SM[t] = np.maximum(\n",
    "        SM[t], 0.00001\n",
    "    )  # To ensure that the price never goes below zero!"
   ]
  },
  {
   "cell_type": "code",
   "execution_count": null,
   "id": "b497ba49",
   "metadata": {},
   "outputs": [],
   "source": [
    "plt.figure(figsize=(10, 8))\n",
    "plt.plot(SM[:, 100:150])\n",
    "plt.title(\"Merton '76 Stock Price Paths\")\n",
    "plt.xlabel(\"Time Step\")\n",
    "plt.ylabel(\"Underlying Price\")\n",
    "plt.show()"
   ]
  },
  {
   "cell_type": "markdown",
   "id": "d1c11512",
   "metadata": {},
   "source": [
    "More extreme left distirbution because of more and more negative jumps, if we change the sign of jumps (mu) to positive, the distirbution of returns will be skewed towards positive side."
   ]
  },
  {
   "cell_type": "code",
   "execution_count": null,
   "id": "d4b85a69",
   "metadata": {},
   "outputs": [],
   "source": [
    "def bs_call_mc(S, K, r, sigma, T, t, Ite):\n",
    "    data = np.zeros((Ite, 2))\n",
    "    z = np.random.normal(0, 1, [1, Ite])\n",
    "    ST = S * np.exp((T - t) * (r - 0.5 * sigma**2) + sigma * np.sqrt(T - t) * z)\n",
    "    data[:, 1] = ST - K\n",
    "\n",
    "    average = np.sum(np.amax(data, axis=1)) / float(Ite)\n",
    "\n",
    "    return np.exp(-r * (T - t)) * average"
   ]
  },
  {
   "cell_type": "code",
   "execution_count": null,
   "id": "63fe4588",
   "metadata": {},
   "outputs": [],
   "source": [
    "np.random.seed(2)\n",
    "print(\"European Call Price under BS (MC): \", bs_call_mc(200, 195, 0.05, 0.45, 0.25, 0, Ite))\n",
    "np.random.seed(2)\n",
    "bs_price = bs_call_mc(200, 195, 0.05, 0.45, 0.25, 0, Ite)"
   ]
  },
  {
   "cell_type": "code",
   "execution_count": null,
   "id": "847788df",
   "metadata": {},
   "outputs": [],
   "source": [
    "merton_price -  bs_price"
   ]
  },
  {
   "cell_type": "code",
   "execution_count": null,
   "id": "8c3cf647",
   "metadata": {},
   "outputs": [],
   "source": [
    "merton_price"
   ]
  },
  {
   "cell_type": "code",
   "execution_count": null,
   "id": "a3371ec1",
   "metadata": {},
   "outputs": [],
   "source": [
    "bs_price"
   ]
  },
  {
   "cell_type": "code",
   "execution_count": null,
   "id": "e51fdb2f",
   "metadata": {},
   "outputs": [],
   "source": []
  }
 ],
 "metadata": {
  "kernelspec": {
   "display_name": "Python 3 (ipykernel)",
   "language": "python",
   "name": "python3"
  },
  "language_info": {
   "codemirror_mode": {
    "name": "ipython",
    "version": 3
   },
   "file_extension": ".py",
   "mimetype": "text/x-python",
   "name": "python",
   "nbconvert_exporter": "python",
   "pygments_lexer": "ipython3",
   "version": "3.10.6"
  }
 },
 "nbformat": 4,
 "nbformat_minor": 5
}
