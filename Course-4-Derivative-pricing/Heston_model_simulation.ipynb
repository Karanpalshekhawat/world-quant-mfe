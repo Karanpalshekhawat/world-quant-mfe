{
 "cells": [
  {
   "cell_type": "code",
   "execution_count": 1,
   "id": "9c7ec59b",
   "metadata": {},
   "outputs": [],
   "source": [
    "import matplotlib.pyplot as plt\n",
    "import numpy as np\n",
    "np.random.seed(0)\n",
    "import scipy.stats as ss"
   ]
  },
  {
   "cell_type": "markdown",
   "id": "58dc9045",
   "metadata": {},
   "source": [
    "### Heston Path Simulation using Monte-Carlo\n",
    "\n",
    "It is governed by 2 set of S.D.E whose solution is as per below, note that dz1 and dz2 are correlated to each other by correlationo coefficient (rho), so, simulatenoeous simulation can be obtained using cholesky decomposition.\n",
    "\n",
    "\n",
    "$$\n",
    "\\begin{equation*} \n",
    "    S_t = S_{t-1} e^{\\left( r - \\frac{\\nu_t}{2} \\right) dt + \\sigma \\sqrt{\\nu_t} dZ_1}\n",
    "\\end{equation*}\n",
    "$$\n",
    "\n",
    "---\n",
    "\n",
    "$$\n",
    "\\begin{equation*} \n",
    "    \\nu_t = \\nu_{t-1} + \\kappa \\left( \\theta - \\nu_{t-1} \\right) dt + \\sigma \\sqrt{\\nu_{t-1}}dZ_2\n",
    "\\end{equation*}\n",
    "$$"
   ]
  },
  {
   "cell_type": "code",
   "execution_count": 2,
   "id": "98763cfc",
   "metadata": {},
   "outputs": [],
   "source": [
    "# the below method gets v_t using a set of variables\n",
    "def SDE_vol(v0, kappa, theta, sigma, T, M, Ite, rand, row, cho_matrix):\n",
    "    dt = T / M  # T = maturity, M = number of time steps\n",
    "    v = np.zeros((M + 1, Ite), dtype=float)\n",
    "    v[0] = v0\n",
    "    sdt = np.sqrt(dt)  # Sqrt of dt\n",
    "    for t in range(1, M + 1):\n",
    "        ran = np.dot(cho_matrix, rand[:, t])\n",
    "        v[t] = np.maximum(\n",
    "            0,\n",
    "            v[t - 1]\n",
    "            + kappa * (theta - v[t - 1]) * dt\n",
    "            + np.sqrt(v[t - 1]) * sigma * ran[row] * sdt,\n",
    "        )\n",
    "    return v"
   ]
  },
  {
   "cell_type": "code",
   "execution_count": 3,
   "id": "e6eb875f",
   "metadata": {},
   "outputs": [],
   "source": [
    "# classic underlying stock price evolution\n",
    "def Heston_paths(S0, r, v, row, cho_matrix):\n",
    "    S = np.zeros((M + 1, Ite), dtype=float)\n",
    "    S[0] = S0\n",
    "    sdt = np.sqrt(dt)\n",
    "    for t in range(1, M + 1, 1):\n",
    "        ran = np.dot(cho_matrix, rand[:, t])\n",
    "        S[t] = S[t - 1] * np.exp((r - 0.5 * v[t]) * dt + np.sqrt(v[t]) * ran[row] * sdt)\n",
    "\n",
    "    return S"
   ]
  },
  {
   "cell_type": "code",
   "execution_count": 4,
   "id": "ed7fc261",
   "metadata": {},
   "outputs": [],
   "source": [
    "def random_number_gen(M, Ite):\n",
    "    rand = np.random.standard_normal((2, M + 1, Ite))\n",
    "    return rand"
   ]
  },
  {
   "cell_type": "markdown",
   "id": "e241cfa3",
   "metadata": {},
   "source": [
    "Assume these paramters are given for an example"
   ]
  },
  {
   "cell_type": "code",
   "execution_count": 5,
   "id": "5b386c12",
   "metadata": {},
   "outputs": [],
   "source": [
    "v0 = 0.05\n",
    "kappa_v = 3\n",
    "sigma_v = 0.25\n",
    "theta_v = 0.02\n",
    "rho = -0.25\n",
    "\n",
    "S0 = 100  # Current underlying asset price\n",
    "r = 0.05  # Risk-free rate\n",
    "M0 = 50  # Number of time steps in a year\n",
    "T = 0.25  # Number of years\n",
    "M = 50  # Total time steps\n",
    "Ite = 10000  # Number of simulations\n",
    "dt = T / M  # Length of time step"
   ]
  },
  {
   "cell_type": "markdown",
   "id": "17a436da",
   "metadata": {},
   "source": [
    "To account for dz1 and dz2 correlated with correlation rho"
   ]
  },
  {
   "cell_type": "code",
   "execution_count": 6,
   "id": "1e85052b",
   "metadata": {},
   "outputs": [],
   "source": [
    "np.random.seed(0)\n",
    "# Generating random numbers from standard normal\n",
    "rand = random_number_gen(M, Ite)\n",
    "\n",
    "\n",
    "# Covariance Matrix\n",
    "covariance_matrix = np.zeros((2, 2), dtype=float)\n",
    "covariance_matrix[0] = [1.0, rho]\n",
    "covariance_matrix[1] = [rho, 1.0]\n",
    "cho_matrix = np.linalg.cholesky(covariance_matrix)"
   ]
  },
  {
   "cell_type": "code",
   "execution_count": 7,
   "id": "763bbb7a",
   "metadata": {},
   "outputs": [],
   "source": [
    "np.random.seed(0)\n",
    "# Volatility process paths\n",
    "V = SDE_vol(v0, kappa_v, theta_v, sigma_v, T, M, Ite, rand, 1, cho_matrix)\n",
    "\n",
    "# Underlying price process paths\n",
    "S = Heston_paths(S0, r, V, 0, cho_matrix)"
   ]
  },
  {
   "cell_type": "markdown",
   "id": "99878c27",
   "metadata": {},
   "source": [
    "### Plotting the underlying SDE evolution path"
   ]
  },
  {
   "cell_type": "code",
   "execution_count": null,
   "id": "39c95294",
   "metadata": {},
   "outputs": [],
   "source": [
    "def plot_paths(n):\n",
    "    fig = plt.figure(figsize=(18, 6))\n",
    "    ax1 = fig.add_subplot(121)\n",
    "    ax2 = fig.add_subplot(122)\n",
    "\n",
    "    ax1.plot(range(len(S)), S[:, :n])\n",
    "    ax1.grid()\n",
    "    ax1.set_title(\"Heston Price paths\")\n",
    "    ax1.set_ylabel(\"Price\")\n",
    "    ax1.set_xlabel(\"Timestep\")\n",
    "\n",
    "    ax2.plot(range(len(V)), V[:, :n])\n",
    "    ax2.grid()\n",
    "    ax2.set_title(\"Heston Volatility paths\")\n",
    "    ax2.set_ylabel(\"Volatility\")\n",
    "    ax2.set_xlabel(\"Timestep\")\n",
    "\n",
    "\n",
    "plot_paths(100)"
   ]
  },
  {
   "cell_type": "markdown",
   "id": "2afcff93",
   "metadata": {},
   "source": [
    "Heston model produces a distribution of returns that has heavier tails and kurtosis than normal distributions as what is observed in market for the stock returns."
   ]
  },
  {
   "cell_type": "code",
   "execution_count": 8,
   "id": "bffbcb17",
   "metadata": {},
   "outputs": [],
   "source": [
    "def heston_call_mc(S, K, r, T, t):\n",
    "    payoff = np.maximum(0, S[-1, :] - K)\n",
    "    average = np.mean(payoff)\n",
    "\n",
    "    return np.exp(-r * (T - t)) * average"
   ]
  },
  {
   "cell_type": "code",
   "execution_count": 10,
   "id": "f47dc57d",
   "metadata": {},
   "outputs": [
    {
     "name": "stdout",
     "output_type": "stream",
     "text": [
      "European Call Price under Heston:  2.146867253301489\n"
     ]
    }
   ],
   "source": [
    "print(\"European Call Price under Heston: \", heston_call_mc(S, 105, 0.05, 0.25, 0))"
   ]
  },
  {
   "cell_type": "code",
   "execution_count": null,
   "id": "59fd16ea",
   "metadata": {},
   "outputs": [],
   "source": [
    "def heston_put_mc(S, K, r, T, t):\n",
    "    payoff = np.maximum(0, K - S[-1, :] )\n",
    "    average = np.mean(payoff)\n",
    "\n",
    "    return np.exp(-r * (T - t)) * average"
   ]
  },
  {
   "cell_type": "code",
   "execution_count": null,
   "id": "35ffc66a",
   "metadata": {},
   "outputs": [],
   "source": [
    "print(\"European put Price under Heston: \", heston_put_mc(S, 33, 0.05, 1, 0))"
   ]
  },
  {
   "cell_type": "code",
   "execution_count": null,
   "id": "ede70473",
   "metadata": {},
   "outputs": [],
   "source": []
  }
 ],
 "metadata": {
  "kernelspec": {
   "display_name": "Python 3 (ipykernel)",
   "language": "python",
   "name": "python3"
  },
  "language_info": {
   "codemirror_mode": {
    "name": "ipython",
    "version": 3
   },
   "file_extension": ".py",
   "mimetype": "text/x-python",
   "name": "python",
   "nbconvert_exporter": "python",
   "pygments_lexer": "ipython3",
   "version": "3.10.6"
  }
 },
 "nbformat": 4,
 "nbformat_minor": 5
}
