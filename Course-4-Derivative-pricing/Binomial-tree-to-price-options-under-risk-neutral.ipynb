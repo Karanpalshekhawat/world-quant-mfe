{
 "cells": [
  {
   "cell_type": "code",
   "execution_count": 1,
   "id": "35b9e72a",
   "metadata": {},
   "outputs": [],
   "source": [
    "import numpy as np"
   ]
  },
  {
   "cell_type": "code",
   "execution_count": 2,
   "id": "b387ed04",
   "metadata": {},
   "outputs": [],
   "source": [
    "def binomial_call_full(S_ini, K, T, r, u, d, N):\n",
    "    dt = T / N  # Define time step\n",
    "    p = (np.exp(r * dt) - d) / (u - d)  # Risk neutral probs\n",
    "    C = np.zeros([N + 1, N + 1])  # Call prices\n",
    "    S = np.zeros([N + 1, N + 1])  # Underlying price\n",
    "    for i in range(0, N + 1):\n",
    "        C[N, i] = max(S_ini * (u ** (i)) * (d ** (N - i)) - K, 0)\n",
    "        S[N, i] = S_ini * (u ** (i)) * (d ** (N - i))\n",
    "    for j in range(N - 1, -1, -1):\n",
    "        for i in range(0, j + 1):\n",
    "            C[j, i] = np.exp(-r * dt) * (p * C[j + 1, i + 1] + (1 - p) * C[j + 1, i])\n",
    "            S[j, i] = S_ini * (u ** (i)) * (d ** (j - i))\n",
    "    return C[0, 0], C, S"
   ]
  },
  {
   "cell_type": "markdown",
   "id": "6b4eadd6",
   "metadata": {},
   "source": [
    "Risk neutral probability is same for each step, at each step you can find call payoff when up step and also at down step and then get expected payoff using the p (risk-neutral) and then just discount it using risk free rate to get option payoff at time step t-1, then, you can just iterate back words to get the option payoff at time t=0 and that will be the option price, similar structure can be repeated for put option as below"
   ]
  },
  {
   "cell_type": "code",
   "execution_count": 3,
   "id": "47ffded8",
   "metadata": {},
   "outputs": [],
   "source": [
    "def binomial_put_full(S_ini, K, T, r, u, d, N):\n",
    "    dt = T / N  # Define time step\n",
    "    p = (np.exp(r * dt) - d) / (u - d)  # Risk neutral probs\n",
    "    P = np.zeros([N + 1, N + 1])  # Call prices\n",
    "    S = np.zeros([N + 1, N + 1])  # Underlying price\n",
    "    for i in range(0, N + 1):\n",
    "        P[N, i] = max(K - (S_ini * (u ** (i)) * (d ** (N - i))), 0)\n",
    "        S[N, i] = S_ini * (u ** (i)) * (d ** (N - i))\n",
    "    for j in range(N - 1, -1, -1):\n",
    "        for i in range(0, j + 1):\n",
    "            P[j, i] = np.exp(-r * dt) * (p * P[j + 1, i + 1] + (1 - p) * P[j + 1, i])\n",
    "            S[j, i] = S_ini * (u ** (i)) * (d ** (j - i))\n",
    "    return P[0, 0], P, S"
   ]
  },
  {
   "cell_type": "markdown",
   "id": "b07c3953",
   "metadata": {},
   "source": [
    "### Put call parity verification (read notes for better understanding)"
   ]
  },
  {
   "cell_type": "code",
   "execution_count": 9,
   "id": "09be7764",
   "metadata": {},
   "outputs": [
    {
     "name": "stdout",
     "output_type": "stream",
     "text": [
      "Price at t=0 for Put option is $ 19.38\n",
      "Price at t=0 for Call option is $ 29.38\n",
      "9.999999999999993\n"
     ]
    }
   ],
   "source": [
    "put_price, P, S = binomial_put_full(100, 90, 10, 0, 1.2, 0.8, 10)\n",
    "print(\"Price at t=0 for Put option is $\", \"{:.2f}\".format(put_price))\n",
    "call_price, C, S = binomial_call_full(100, 90, 10, 0, 1.2, 0.8, 10)\n",
    "print(\"Price at t=0 for Call option is $\", \"{:.2f}\".format(call_price))\n",
    "print(f\"{call_price - put_price}\")"
   ]
  },
  {
   "cell_type": "code",
   "execution_count": 10,
   "id": "8ddee931",
   "metadata": {},
   "outputs": [
    {
     "name": "stdout",
     "output_type": "stream",
     "text": [
      "10.0\n"
     ]
    }
   ],
   "source": [
    "S_ini = 100\n",
    "K = 90\n",
    "T = 10\n",
    "r = 0\n",
    "\n",
    "print(f\"{S_ini - K * np.exp(-r * T)}\")"
   ]
  },
  {
   "cell_type": "code",
   "execution_count": 11,
   "id": "e45b9a92",
   "metadata": {},
   "outputs": [],
   "source": [
    "def call_option_delta(S_ini, K, T, r, u, d, N):\n",
    "    dt = T / N  # Define time step\n",
    "    p = (np.exp(r * dt) - d) / (u - d)  # risk neutral probs\n",
    "    C = np.zeros([N + 1, N + 1])  # call prices\n",
    "    S = np.zeros([N + 1, N + 1])  # underlying price\n",
    "    Delta = np.zeros([N, N])  # delta\n",
    "    for i in range(0, N + 1):\n",
    "        C[N, i] = max(S_ini * (u ** (i)) * (d ** (N - i)) - K, 0)\n",
    "        S[N, i] = S_ini * (u ** (i)) * (d ** (N - i))\n",
    "    for j in range(N - 1, -1, -1):\n",
    "        for i in range(0, j + 1):\n",
    "            C[j, i] = np.exp(-r * dt) * (p * C[j + 1, i + 1] + (1 - p) * C[j + 1, i])\n",
    "            S[j, i] = S_ini * (u ** (i)) * (d ** (j - i))\n",
    "            Delta[j, i] = (C[j + 1, i + 1] - C[j + 1, i]) / (\n",
    "                S[j + 1, i + 1] - S[j + 1, i]\n",
    "            )\n",
    "    return C[0, 0], C, S, Delta"
   ]
  },
  {
   "cell_type": "code",
   "execution_count": 12,
   "id": "1163fefb",
   "metadata": {},
   "outputs": [
    {
     "name": "stdout",
     "output_type": "stream",
     "text": [
      "With N =   1, the price is 15.00\n",
      "With N =  10, the price is 29.38\n",
      "With N = 100, the price is 70.32\n",
      "With N = 200, the price is 85.40\n",
      "With N = 300, the price is 92.33\n",
      "With N = 400, the price is 95.84\n",
      "With N = 500, the price is 97.70\n",
      "With N = 600, the price is 98.71\n",
      "With N = 700, the price is 99.27\n",
      "With N = 800, the price is 99.58\n",
      "With N = 900, the price is 99.76\n",
      "With N = 1000, the price is 99.86\n",
      "With N = 1500, the price is 99.99\n",
      "With N = 2000, the price is 100.00\n"
     ]
    }
   ],
   "source": [
    "price_array = []\n",
    "for N in [1, 10, 100, 200, 300, 400, 500, 600, 700, 800, 900, 1000, 1500, 2000]:\n",
    "    price, call, S, delta = call_option_delta(100, 90, 1, 0, 1.2, 0.8, N)\n",
    "    price_array.append(price)\n",
    "    print(\"With N = {:3d}, the price is {:.2f}\".format(N, price))"
   ]
  },
  {
   "cell_type": "code",
   "execution_count": 15,
   "id": "bf49a7c7",
   "metadata": {},
   "outputs": [
    {
     "data": {
      "image/png": "[encoded data removed]",
      "text/plain": [
       "<Figure size 640x480 with 1 Axes>"
      ]
     },
     "metadata": {},
     "output_type": "display_data"
    }
   ],
   "source": [
    "import matplotlib.pyplot as plt\n",
    "\n",
    "N = [1, 10, 100, 200, 300, 400, 500, 600, 700, 800, 900, 1000, 1500, 2000]\n",
    "plt.plot(N, np.array(price_array))\n",
    "plt.title(\"Convergency with steps\")\n",
    "plt.xlabel(\"Number of steps (N)\")\n",
    "plt.ylabel(\"Option Price\")\n",
    "plt.grid(True)\n",
    "plt.show()"
   ]
  },
  {
   "cell_type": "markdown",
   "id": "e6514f08",
   "metadata": {},
   "source": [
    "Why does option price converges to stock price if we increase the number of steps?\n",
    "\n",
    "The reason is we have assumed constant up factor (1.2) and down factor (0.8) for all the steps, and ignoring the concept of **Volatility**, thus, you should adjust the volatility when you increase the number of steps in the binomial tree.\n",
    "\n",
    "---\n",
    "\n",
    "## 1. Adjusting $u$ and $d$ for Underlying Volatility"
   ]
  },
  {
   "cell_type": "code",
   "execution_count": 16,
   "id": "09a57600",
   "metadata": {},
   "outputs": [],
   "source": [
    "def call_option_delta_adjusting_vol(S_ini, K, T, r, sigma, N):\n",
    "    dt = T / N  # Define time step\n",
    "    u = np.exp(sigma * np.sqrt(dt))  # Define u\n",
    "    d = np.exp(-sigma * np.sqrt(dt))  # Define d\n",
    "    p = (np.exp(r * dt) - d) / (u - d)  # risk neutral probs\n",
    "    C = np.zeros([N + 1, N + 1])  # call prices\n",
    "    S = np.zeros([N + 1, N + 1])  # underlying price\n",
    "    Delta = np.zeros([N, N])  # delta\n",
    "    for i in range(0, N + 1):\n",
    "        C[N, i] = max(S_ini * (u ** (i)) * (d ** (N - i)) - K, 0)\n",
    "        S[N, i] = S_ini * (u ** (i)) * (d ** (N - i))\n",
    "    for j in range(N - 1, -1, -1):\n",
    "        for i in range(0, j + 1):\n",
    "            C[j, i] = np.exp(-r * dt) * (p * C[j + 1, i + 1] + (1 - p) * C[j + 1, i])\n",
    "            S[j, i] = S_ini * (u ** (i)) * (d ** (j - i))\n",
    "            Delta[j, i] = (C[j + 1, i + 1] - C[j + 1, i]) / (\n",
    "                S[j + 1, i + 1] - S[j + 1, i]\n",
    "            )\n",
    "    return C[0, 0], C, S, Delta"
   ]
  },
  {
   "cell_type": "code",
   "execution_count": 17,
   "id": "ad7bdd43",
   "metadata": {},
   "outputs": [
    {
     "name": "stdout",
     "output_type": "stream",
     "text": [
      "With N =   1, the price is 19.14\n",
      "With N =  10, the price is 17.26\n",
      "With N = 100, the price is 17.02\n",
      "With N = 200, the price is 17.03\n",
      "With N = 300, the price is 17.01\n",
      "With N = 400, the price is 17.02\n",
      "With N = 500, the price is 17.01\n",
      "With N = 600, the price is 17.02\n",
      "With N = 700, the price is 17.02\n",
      "With N = 800, the price is 17.01\n",
      "With N = 900, the price is 17.01\n",
      "With N = 1000, the price is 17.02\n",
      "With N = 1500, the price is 17.01\n",
      "With N = 2000, the price is 17.01\n"
     ]
    }
   ],
   "source": [
    "price_array = []\n",
    "for N in [1, 10, 100, 200, 300, 400, 500, 600, 700, 800, 900, 1000, 1500, 2000]:\n",
    "    call_price, C, S, delta = call_option_delta_adjusting_vol(100, 90, 1, 0, 0.3, N)\n",
    "    price_array.append(call_price)\n",
    "    print(\"With N = {:3d}, the price is {:.2f}\".format(N, call_price))"
   ]
  },
  {
   "cell_type": "code",
   "execution_count": 18,
   "id": "ea15f892",
   "metadata": {},
   "outputs": [],
   "source": [
    "# Prices converge"
   ]
  },
  {
   "cell_type": "code",
   "execution_count": 54,
   "id": "bfb7513e",
   "metadata": {},
   "outputs": [],
   "source": [
    "price, call, S, delta = call_option_delta(100, 60, 3, 0.1, 1.2, 0.8, 3)"
   ]
  },
  {
   "cell_type": "code",
   "execution_count": 26,
   "id": "88cdb9e8",
   "metadata": {},
   "outputs": [],
   "source": [
    "price, call, S, delta = call_option_delta_adjusting_vol(80, 90, 1, 0.1, 0.2, 1000)"
   ]
  },
  {
   "cell_type": "code",
   "execution_count": 30,
   "id": "1983aac5",
   "metadata": {},
   "outputs": [],
   "source": [
    "put_price, P, S = binomial_put_full(36, 31, 50, 0.01, 1.2, 0.8, 50)"
   ]
  },
  {
   "cell_type": "code",
   "execution_count": null,
   "id": "b02506bf",
   "metadata": {},
   "outputs": [],
   "source": []
  }
 ],
 "metadata": {
  "kernelspec": {
   "display_name": "Python 3 (ipykernel)",
   "language": "python",
   "name": "python3"
  },
  "language_info": {
   "codemirror_mode": {
    "name": "ipython",
    "version": 3
   },
   "file_extension": ".py",
   "mimetype": "text/x-python",
   "name": "python",
   "nbconvert_exporter": "python",
   "pygments_lexer": "ipython3",
   "version": "3.10.6"
  }
 },
 "nbformat": 4,
 "nbformat_minor": 5
}
