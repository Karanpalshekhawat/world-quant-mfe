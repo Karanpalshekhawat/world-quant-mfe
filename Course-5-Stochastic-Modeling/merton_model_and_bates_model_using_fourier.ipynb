{
 "cells": [
  {
   "cell_type": "code",
   "execution_count": 1,
   "id": "b3676235",
   "metadata": {},
   "outputs": [],
   "source": [
    "import matplotlib.pyplot as plt\n",
    "import numpy as np\n",
    "from scipy.integrate import quad"
   ]
  },
  {
   "cell_type": "markdown",
   "id": "fff05875",
   "metadata": {},
   "source": [
    "Remember you need only 2 things to implement fourier approach for any model to price option, 1) Characterstic function that helps to get the p.d.f of the underlying price at maturity using inverse transformaiton and 2) a big semi-analytical formula to compute price from characterstic function. It is known as semi-analytical as integration is still happening using some numerical approach."
   ]
  },
  {
   "cell_type": "markdown",
   "id": "517a59af",
   "metadata": {},
   "source": [
    "## **1. Lewis (2001) Approach**\n",
    "\n",
    "Essentially, under the Lewis (2001) approach, the value of the Call option is determined by:\n",
    "\n",
    "$$\n",
    "\\begin{equation*}\n",
    "    C_0 = S_0 - \\frac{\\sqrt{S_0 K} e^{-rT}}{\\pi} \\int_{0}^{\\infty} \\mathbf{Re}[e^{izk} \\varphi(z-i/2)] \\frac{dz}{z^2+1/4}\n",
    "\\end{equation*}\n",
    "$$"
   ]
  },
  {
   "cell_type": "markdown",
   "id": "69ae425d",
   "metadata": {},
   "source": [
    "### **1.1. Merton (1976) Characteristic Function**\n",
    "\n",
    "Merton's (1976) characteristic function is given by:\n",
    "\n",
    "$$\n",
    "\\begin{equation*}\n",
    "    \\varphi^{M76}_0 (u, T) = e^{\\left( \\left( i u \\omega - \\frac{u^2 \\sigma^2}{2}+ \\lambda ( e^{i u \\mu_j - u^2 \\delta^2/2}-1) \\right) T \\right)}\n",
    "\\end{equation*}\n",
    "$$\n",
    "\n",
    "where,\n",
    "\n",
    "$$\n",
    "\\begin{equation*}\n",
    "    \\omega = r - \\frac{\\sigma^2}{2} - \\lambda \\left( e^{\\mu_j + \\delta^2/2}-1 \\right)\n",
    "\\end{equation*}\n",
    "$$\n",
    "\n",
    "To code this in python is relatively straight forward."
   ]
  },
  {
   "cell_type": "code",
   "execution_count": 2,
   "id": "5a59a039",
   "metadata": {},
   "outputs": [],
   "source": [
    "def M76_char_func(u, T, r, sigma, lamb, mu, delta):\n",
    "    \"\"\"\n",
    "    Characteristic function for Merton '76 model\n",
    "    \"\"\"\n",
    "\n",
    "    omega = r - 0.5 * sigma**2 - lamb * (np.exp(mu + 0.5 * delta**2) - 1)\n",
    "    char_func_value = np.exp(\n",
    "        (\n",
    "            1j * u * omega\n",
    "            - 0.5 * u**2 * sigma**2\n",
    "            + lamb * (np.exp(1j * u * mu - u**2 * delta**2 * 0.5) - 1)\n",
    "        )\n",
    "        * T\n",
    "    )\n",
    "    return char_func_value"
   ]
  },
  {
   "cell_type": "code",
   "execution_count": 3,
   "id": "96fffa02",
   "metadata": {},
   "outputs": [],
   "source": [
    "def M76_integration_function(u, S0, K, T, r, sigma, lamb, mu, delta):\n",
    "    \"\"\"\n",
    "    Integral function for Lewis (2001) under Merton'76 characteristic function\n",
    "    \"\"\"\n",
    "    char_func = M76_char_func(u - 0.5 * 1j, T, r, sigma, lamb, mu, delta)\n",
    "\n",
    "    value = 1 / (u**2 + 0.25) * (np.exp(1j * u * np.log(S0 / K)) * char_func).real\n",
    "\n",
    "    return value"
   ]
  },
  {
   "cell_type": "code",
   "execution_count": 4,
   "id": "ceeba08e",
   "metadata": {},
   "outputs": [],
   "source": [
    "def M76_call_value(S0, K, T, r, sigma, lamb, mu, delta):\n",
    "    \"\"\"\n",
    "    Value of the Call option under Lewis (2001) for Merton'76 jump diffusion model\n",
    "    \"\"\"\n",
    "\n",
    "    int_value = quad(\n",
    "        lambda u: M76_integration_function(u, S0, K, T, r, sigma, lamb, mu, delta),\n",
    "        0,\n",
    "        50,\n",
    "        limit=250,\n",
    "    )[0]\n",
    "\n",
    "    call_value = max(0, S0 - np.exp(-r * T) * np.sqrt(S0 * K) / np.pi * int_value)\n",
    "\n",
    "    return call_value"
   ]
  },
  {
   "cell_type": "code",
   "execution_count": 34,
   "id": "561f0234",
   "metadata": {},
   "outputs": [],
   "source": [
    "S0 = 1.35\n",
    "K = 2\n",
    "T = 90/365\n",
    "r = 0.075\n",
    "sigma = 0.25\n",
    "lamb = 1.85\n",
    "mu = -0.45\n",
    "delta = 0.15"
   ]
  },
  {
   "cell_type": "code",
   "execution_count": 35,
   "id": "14ec93cc",
   "metadata": {},
   "outputs": [
    {
     "data": {
      "text/plain": [
       "0.0024710244975991724"
      ]
     },
     "execution_count": 35,
     "metadata": {},
     "output_type": "execute_result"
    }
   ],
   "source": [
    "merton_price = M76_call_value(S0, K, T, r, sigma, lamb, mu, delta)\n",
    "merton_price"
   ]
  },
  {
   "cell_type": "code",
   "execution_count": 36,
   "id": "49434da0",
   "metadata": {},
   "outputs": [
    {
     "data": {
      "text/plain": [
       "0.6158246212625038"
      ]
     },
     "execution_count": 36,
     "metadata": {},
     "output_type": "execute_result"
    }
   ],
   "source": [
    "merton_price - S0 + K*np.exp(-r*T)"
   ]
  },
  {
   "cell_type": "markdown",
   "id": "58e34ae0",
   "metadata": {},
   "source": [
    "## Bates Model\n",
    "\n",
    "In this case of bates model which is obtained by combining the Merton model for it's Jump part and Heston model for its treatment to underlying volatility as the stochastic part, the characteristic function of Bates (1996) was given by multiplying the characteristic function of heston and merton, note that as diffusive part is already included in heston CF, we modify merton CF to only include Jump part, and then just multiply them together as both will be independent:\n",
    "\n",
    "$$\n",
    "\\begin{equation*}\n",
    "        \\varphi^{B96}_0 (u, T) = \\varphi^{H93}_0 \\varphi^{M76J}_0 (u, T)\n",
    "\\end{equation*}\n",
    "$$"
   ]
  },
  {
   "cell_type": "code",
   "execution_count": 7,
   "id": "e027d3ad",
   "metadata": {},
   "outputs": [],
   "source": [
    "def H93_char_func(u, T, r, kappa_v, theta_v, sigma_v, rho, v0):\n",
    "    \"\"\"Valuation of European call option in H93 model via Lewis (2001)\n",
    "    Fourier-based approach: characteristic function.\n",
    "    Parameter definitions see function BCC_call_value.\"\"\"\n",
    "    c1 = kappa_v * theta_v\n",
    "    c2 = -np.sqrt(\n",
    "        (rho * sigma_v * u * 1j - kappa_v) ** 2 - sigma_v**2 * (-u * 1j - u**2)\n",
    "    )\n",
    "    c3 = (kappa_v - rho * sigma_v * u * 1j + c2) / (\n",
    "        kappa_v - rho * sigma_v * u * 1j - c2\n",
    "    )\n",
    "    H1 = r * u * 1j * T + (c1 / sigma_v**2) * (\n",
    "        (kappa_v - rho * sigma_v * u * 1j + c2) * T\n",
    "        - 2 * np.log((1 - c3 * np.exp(c2 * T)) / (1 - c3))\n",
    "    )\n",
    "    H2 = (\n",
    "        (kappa_v - rho * sigma_v * u * 1j + c2)\n",
    "        / sigma_v**2\n",
    "        * ((1 - np.exp(c2 * T)) / (1 - c3 * np.exp(c2 * T)))\n",
    "    )\n",
    "    char_func_value = np.exp(H1 + H2 * v0)\n",
    "    return char_func_value"
   ]
  },
  {
   "cell_type": "code",
   "execution_count": 8,
   "id": "098d8468",
   "metadata": {},
   "outputs": [],
   "source": [
    "def M76J_char_func(u, T, lamb, mu, delta):\n",
    "    \"\"\"\n",
    "    Adjusted Characteristic function for Merton '76 model: Only jump component\n",
    "    \"\"\"\n",
    "\n",
    "    omega = -lamb * (np.exp(mu + 0.5 * delta**2) - 1)\n",
    "    char_func_value = np.exp(\n",
    "        (1j * u * omega + lamb * (np.exp(1j * u * mu - u**2 * delta**2 * 0.5) - 1))\n",
    "        * T\n",
    "    )\n",
    "    return char_func_value"
   ]
  },
  {
   "cell_type": "code",
   "execution_count": 9,
   "id": "f5ab16c7",
   "metadata": {},
   "outputs": [],
   "source": [
    "def B96_char_func(u, T, r, kappa_v, theta_v, sigma_v, rho, v0, lamb, mu, delta):\n",
    "    \"\"\"\n",
    "    Bates (1996) characteristic function\n",
    "    \"\"\"\n",
    "    H93 = H93_char_func(u, T, r, kappa_v, theta_v, sigma_v, rho, v0)\n",
    "    M76J = M76J_char_func(u, T, lamb, mu, delta)\n",
    "    return H93 * M76J"
   ]
  },
  {
   "cell_type": "code",
   "execution_count": 10,
   "id": "5ed03435",
   "metadata": {},
   "outputs": [],
   "source": [
    "def B96_int_func(u, S0, K, T, r, kappa_v, theta_v, sigma_v, rho, v0, lamb, mu, delta):\n",
    "    \"\"\"\n",
    "    Lewis (2001) integral value for Bates (1996) characteristic function\n",
    "    \"\"\"\n",
    "    char_func_value = B96_char_func(\n",
    "        u - 1j * 0.5, T, r, kappa_v, theta_v, sigma_v, rho, v0, lamb, mu, delta\n",
    "    )\n",
    "    int_func_value = (\n",
    "        1 / (u**2 + 0.25) * (np.exp(1j * u * np.log(S0 / K)) * char_func_value).real\n",
    "    )\n",
    "    return int_func_value"
   ]
  },
  {
   "cell_type": "code",
   "execution_count": 11,
   "id": "1c685fcc",
   "metadata": {},
   "outputs": [],
   "source": [
    "def B96_call_value(S0, K, T, r, kappa_v, theta_v, sigma_v, rho, v0, lamb, mu, delta):\n",
    "    \"\"\"\n",
    "    Valuation of European call option in B96 Model via Lewis (2001)\n",
    "    Parameters:\n",
    "    ==========\n",
    "    S0: float\n",
    "        initial stock/index level\n",
    "    K: float\n",
    "        strike price\n",
    "    T: float\n",
    "        time-to-maturity (for t=0)\n",
    "    r: float\n",
    "        constant risk-free short rate\n",
    "    kappa_v: float\n",
    "        mean-reversion factor\n",
    "    theta_v: float\n",
    "        long-run mean of variance\n",
    "    sigma_v: float\n",
    "        volatility of variance\n",
    "    rho: float\n",
    "        correlation between variance and stock/index level\n",
    "    v0: float\n",
    "        initial level of variance\n",
    "    lamb: float\n",
    "        jump intensity\n",
    "    mu: float\n",
    "        expected jump size\n",
    "    delta: float\n",
    "        standard deviation of jump\n",
    "    ==========\n",
    "    \"\"\"\n",
    "    int_value = quad(\n",
    "        lambda u: B96_int_func(\n",
    "            u, S0, K, T, r, kappa_v, theta_v, sigma_v, rho, v0, lamb, mu, delta\n",
    "        ),\n",
    "        0,\n",
    "        np.inf,\n",
    "        limit=250,\n",
    "    )[0]\n",
    "    call_value = max(0, S0 - np.exp(-r * T) * np.sqrt(S0 * K) / np.pi * int_value)\n",
    "    return call_value"
   ]
  },
  {
   "cell_type": "code",
   "execution_count": 30,
   "id": "e9ab7c80",
   "metadata": {},
   "outputs": [],
   "source": [
    "# General Parameters\n",
    "S0 = 36\n",
    "K = 92\n",
    "T = 2\n",
    "r = 0.0895\n",
    "\n",
    "# Heston'93 Parameters\n",
    "kappa_v = 0.04\n",
    "theta_v = 0.43\n",
    "sigma_v = 0.15\n",
    "rho = -0.5\n",
    "v0 = 0.26\n",
    "\n",
    "# Merton'76 Parameters\n",
    "lamb = 2.5\n",
    "mu = -0.65\n",
    "delta = 0.75\n",
    "sigma = np.sqrt(v0)"
   ]
  },
  {
   "cell_type": "code",
   "execution_count": 31,
   "id": "25cdea04",
   "metadata": {},
   "outputs": [
    {
     "data": {
      "text/plain": [
       "16.74019282883021"
      ]
     },
     "execution_count": 31,
     "metadata": {},
     "output_type": "execute_result"
    }
   ],
   "source": [
    "bates_call_value = B96_call_value(S0, K, T, r, kappa_v, theta_v, sigma_v, rho, v0, lamb, mu, delta)\n",
    "bates_call_value"
   ]
  },
  {
   "cell_type": "code",
   "execution_count": 14,
   "id": "7bdfadc0",
   "metadata": {},
   "outputs": [
    {
     "data": {
      "text/plain": [
       "4.027661313670237"
      ]
     },
     "execution_count": 14,
     "metadata": {},
     "output_type": "execute_result"
    }
   ],
   "source": [
    "bates_call_value - S0 + K*np.exp(-r*T)"
   ]
  },
  {
   "cell_type": "code",
   "execution_count": 32,
   "id": "f034dfa1",
   "metadata": {},
   "outputs": [],
   "source": [
    "call = 16.74019282883021"
   ]
  },
  {
   "cell_type": "code",
   "execution_count": 33,
   "id": "31792b99",
   "metadata": {},
   "outputs": [
    {
     "data": {
      "text/plain": [
       "0.0"
      ]
     },
     "execution_count": 33,
     "metadata": {},
     "output_type": "execute_result"
    }
   ],
   "source": [
    "bates_call_value - call"
   ]
  },
  {
   "cell_type": "code",
   "execution_count": null,
   "id": "5caf72a7",
   "metadata": {},
   "outputs": [],
   "source": []
  }
 ],
 "metadata": {
  "kernelspec": {
   "display_name": "Python 3 (ipykernel)",
   "language": "python",
   "name": "python3"
  },
  "language_info": {
   "codemirror_mode": {
    "name": "ipython",
    "version": 3
   },
   "file_extension": ".py",
   "mimetype": "text/x-python",
   "name": "python",
   "nbconvert_exporter": "python",
   "pygments_lexer": "ipython3",
   "version": "3.10.6"
  }
 },
 "nbformat": 4,
 "nbformat_minor": 5
}
