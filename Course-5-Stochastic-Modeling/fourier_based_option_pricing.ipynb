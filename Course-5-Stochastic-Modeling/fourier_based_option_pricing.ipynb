{
 "cells": [
  {
   "cell_type": "code",
   "execution_count": 19,
   "id": "0b44fce0",
   "metadata": {},
   "outputs": [],
   "source": [
    "import numpy as np\n",
    "from numpy.fft import fft\n",
    "from scipy import stats\n",
    "from scipy.integrate import quad\n",
    "import timeit\n",
    "import numba as nb\n",
    "\n",
    "from numba import jit"
   ]
  },
  {
   "cell_type": "code",
   "execution_count": 2,
   "id": "33e910bb",
   "metadata": {},
   "outputs": [],
   "source": [
    "S0 = 100\n",
    "K = 100\n",
    "T = 1\n",
    "r = 0.05\n",
    "sigma = 0.2"
   ]
  },
  {
   "cell_type": "code",
   "execution_count": 3,
   "id": "ba731486",
   "metadata": {},
   "outputs": [],
   "source": [
    "def BS_analytic_call(S0, K, T, r, sigma):\n",
    "    \"\"\"This function will provide the closed-form solution\n",
    "    to the European Call Option price based on BS formula\n",
    "    \"\"\"\n",
    "\n",
    "    d1 = (np.log(S0 / K) + (r + 0.5 * sigma**2) * T) / (sigma * np.sqrt(T))\n",
    "    d2 = (np.log(S0 / K) + (r - 0.5 * sigma**2) * T) / (sigma * np.sqrt(T))\n",
    "\n",
    "    bs_call = S0 * stats.norm.cdf(d1, 0.0, 1.0) - K * np.exp(-r * T) * stats.norm.cdf(\n",
    "        d2, 0.0, 1.0\n",
    "    )\n",
    "\n",
    "    return bs_call"
   ]
  },
  {
   "cell_type": "code",
   "execution_count": 4,
   "id": "3d9424fd",
   "metadata": {},
   "outputs": [
    {
     "name": "stdout",
     "output_type": "stream",
     "text": [
      " BS Analytical Call Option price will be $ 10.4506\n"
     ]
    }
   ],
   "source": [
    "print(\n",
    "    \" BS Analytical Call Option price will be $\",\n",
    "    BS_analytic_call(S0, K, T, r, sigma).round(4),\n",
    ")"
   ]
  },
  {
   "cell_type": "markdown",
   "id": "f241d4b7",
   "metadata": {},
   "source": [
    "###  **2. Fourier Transform as in Lewis**"
   ]
  },
  {
   "cell_type": "code",
   "execution_count": 5,
   "id": "34d1c0e6",
   "metadata": {},
   "outputs": [],
   "source": [
    "def BS_characteristic_func(v, x0, T, r, sigma):\n",
    "    \"\"\"Computes general Black-Scholes model characteristic function\n",
    "    to be used in Fourier pricing methods like Lewis (2001) and Carr-Madan (1999)\n",
    "    \"\"\"\n",
    "\n",
    "    cf_value = np.exp(\n",
    "        ((x0 / T + r - 0.5 * sigma**2) * 1j * v - 0.5 * sigma**2 * v**2) * T\n",
    "    )\n",
    "\n",
    "    return cf_value"
   ]
  },
  {
   "cell_type": "code",
   "execution_count": 6,
   "id": "2c7f294e",
   "metadata": {},
   "outputs": [],
   "source": [
    "def BS_integral(u, S0, K, T, r, sigma):\n",
    "    \"\"\"Expression for the integral in Lewis (2001)\"\"\"\n",
    "\n",
    "    cf_value = BS_characteristic_func(u - 1j * 0.5, 0.0, T, r, sigma)\n",
    "\n",
    "    int_value = (\n",
    "        1 / (u**2 + 0.25) * (np.exp(1j * u * (np.log(S0 / K))) * cf_value).real\n",
    "    )\n",
    "\n",
    "    return int_value"
   ]
  },
  {
   "cell_type": "code",
   "execution_count": 7,
   "id": "35dd31f0",
   "metadata": {},
   "outputs": [],
   "source": [
    "def BS_call_Lewis(S0, K, T, r, sigma):\n",
    "    \"\"\"European Call option price in BS under Lewis (2001)\"\"\"\n",
    "\n",
    "    int_value = quad(lambda u: BS_integral(u, S0, K, T, r, sigma), 0, 100)[0]\n",
    "\n",
    "    call_value = max(0, S0 - np.exp(-r * T) * (np.sqrt(S0 * K)) / np.pi * int_value)\n",
    "\n",
    "    return call_value"
   ]
  },
  {
   "cell_type": "code",
   "execution_count": 8,
   "id": "57f7dba8",
   "metadata": {},
   "outputs": [
    {
     "name": "stdout",
     "output_type": "stream",
     "text": [
      " Fourier Call Option price under Lewis (2001) is $ 10.4506\n"
     ]
    }
   ],
   "source": [
    "print(\n",
    "    \" Fourier Call Option price under Lewis (2001) is $\",\n",
    "    BS_call_Lewis(S0, K, T, r, sigma).round(4),\n",
    ")"
   ]
  },
  {
   "cell_type": "markdown",
   "id": "154938d5",
   "metadata": {},
   "source": [
    "### **3. Fast Fourier Transform (FFT) for Option Pricing**\n"
   ]
  },
  {
   "cell_type": "code",
   "execution_count": 9,
   "id": "c2b3be9e",
   "metadata": {},
   "outputs": [],
   "source": [
    "def BS_call_FFT(S0, K, T, r, sigma):\n",
    "    \"\"\"European Call option price in BS under FFT\"\"\"\n",
    "\n",
    "    k = np.log(K / S0)\n",
    "    x0 = np.log(S0 / S0)\n",
    "    g = 1  # Factor to increase accuracy\n",
    "    N = g * 4096\n",
    "    eps = (g * 150) ** -1\n",
    "    eta = 2 * np.pi / (N * eps)\n",
    "    b = 0.5 * N * eps - k\n",
    "    u = np.arange(1, N + 1, 1)\n",
    "    vo = eta * (u - 1)\n",
    "\n",
    "    # Modifications to ensure integrability\n",
    "    if S0 >= 0.95 * K:  # ITM Case\n",
    "        alpha = 1.5\n",
    "        v = vo - (alpha + 1) * 1j\n",
    "        modcharFunc = np.exp(-r * T) * (\n",
    "            BS_characteristic_func(v, x0, T, r, sigma)\n",
    "            / (alpha**2 + alpha - vo**2 + 1j * (2 * alpha + 1) * vo)\n",
    "        )\n",
    "\n",
    "    else:\n",
    "        alpha = 1.1\n",
    "        v = (vo - 1j * alpha) - 1j\n",
    "        modcharFunc1 = np.exp(-r * T) * (\n",
    "            1 / (1 + 1j * (vo - 1j * alpha))\n",
    "            - np.exp(r * T) / (1j * (vo - 1j * alpha))\n",
    "            - BS_characteristic_func(v, x0, T, r, sigma)\n",
    "            / ((vo - 1j * alpha) ** 2 - 1j * (vo - 1j * alpha))\n",
    "        )\n",
    "\n",
    "        v = (vo + 1j * alpha) - 1j\n",
    "\n",
    "        modcharFunc2 = np.exp(-r * T) * (\n",
    "            1 / (1 + 1j * (vo + 1j * alpha))\n",
    "            - np.exp(r * T) / (1j * (vo + 1j * alpha))\n",
    "            - BS_characteristic_func(v, x0, T, r, sigma)\n",
    "            / ((vo + 1j * alpha) ** 2 - 1j * (vo + 1j * alpha))\n",
    "        )\n",
    "\n",
    "    # Numerical FFT Routine\n",
    "    delt = np.zeros(N)\n",
    "    delt[0] = 1\n",
    "    j = np.arange(1, N + 1, 1)\n",
    "    SimpsonW = (3 + (-1) ** j - delt) / 3\n",
    "    if S0 >= 0.95 * K:\n",
    "        FFTFunc = np.exp(1j * b * vo) * modcharFunc * eta * SimpsonW\n",
    "        payoff = (fft(FFTFunc)).real\n",
    "        CallValueM = np.exp(-alpha * k) / np.pi * payoff\n",
    "    else:\n",
    "        FFTFunc = (\n",
    "            np.exp(1j * b * vo) * (modcharFunc1 - modcharFunc2) * 0.5 * eta * SimpsonW\n",
    "        )\n",
    "        payoff = (fft(FFTFunc)).real\n",
    "        CallValueM = payoff / (np.sinh(alpha * k) * np.pi)\n",
    "\n",
    "    pos = int((k + b) / eps)\n",
    "    CallValue = CallValueM[pos] * S0\n",
    "\n",
    "    return CallValue"
   ]
  },
  {
   "cell_type": "code",
   "execution_count": 10,
   "id": "d511a3f5",
   "metadata": {},
   "outputs": [
    {
     "name": "stdout",
     "output_type": "stream",
     "text": [
      " Fourier Call Option price via FFT is $ 10.4506\n"
     ]
    }
   ],
   "source": [
    "print(\n",
    "    \" Fourier Call Option price via FFT is $\", BS_call_FFT(S0, K, T, r, sigma).round(4)\n",
    ")"
   ]
  },
  {
   "cell_type": "code",
   "execution_count": 13,
   "id": "6c93e7cb",
   "metadata": {},
   "outputs": [
    {
     "name": "stdout",
     "output_type": "stream",
     "text": [
      " BS Analytical Call Option price analytical solution\n",
      "70.1 µs ± 912 ns per loop (mean ± std. dev. of 7 runs, 10,000 loops each)\n",
      " Fourier Call Option price under Lewis (2001)\n",
      "531 µs ± 17.1 µs per loop (mean ± std. dev. of 7 runs, 1,000 loops each)\n",
      " Fourier Call Option price via FFT\n",
      "223 µs ± 2.65 µs per loop (mean ± std. dev. of 7 runs, 1,000 loops each)\n"
     ]
    }
   ],
   "source": [
    "print(\" BS Analytical Call Option price analytical solution\")\n",
    "%timeit BS_analytic_call(S0, K, T, r, sigma).round(4)\n",
    "\n",
    "print(\" Fourier Call Option price under Lewis (2001)\")\n",
    "%timeit BS_call_Lewis(S0, K, T, r, sigma).round(4)\n",
    "\n",
    "print(\" Fourier Call Option price via FFT\")\n",
    "%timeit BS_call_FFT(S0, K, T, r, sigma).round(4)"
   ]
  },
  {
   "cell_type": "code",
   "execution_count": 44,
   "id": "e3d49c67",
   "metadata": {},
   "outputs": [
    {
     "data": {
      "text/plain": [
       "40.47268086569762"
      ]
     },
     "execution_count": 44,
     "metadata": {},
     "output_type": "execute_result"
    }
   ],
   "source": [
    "S0 = 119\n",
    "K = 110\n",
    "T = 2\n",
    "r = 0.075\n",
    "sigma = 0.45\n",
    "C = BS_call_FFT(S0, K, T, r, sigma)\n",
    "C"
   ]
  },
  {
   "cell_type": "markdown",
   "id": "f1aa372d",
   "metadata": {},
   "source": [
    "### **4. Fourier-Based Pricing for Heston (1993) Model**\n",
    "\n",
    "You need to know the characterstic function of Heston model, and then implementation is similar to BS one."
   ]
  },
  {
   "cell_type": "code",
   "execution_count": 20,
   "id": "017f8061",
   "metadata": {},
   "outputs": [],
   "source": [
    "@jit(nopython=True)\n",
    "def H93_char_func(u, T, r, kappa_v, theta_v, sigma_v, rho, v0):\n",
    "    \"\"\"Valuation of European call option in H93 model via Lewis (2001)\n",
    "    Fourier-based approach: characteristic function.\n",
    "    Parameter definitions see function BCC_call_value.\"\"\"\n",
    "    c1 = kappa_v * theta_v\n",
    "    c2 = -np.sqrt(\n",
    "        (rho * sigma_v * u * 1j - kappa_v) ** 2 - sigma_v**2 * (-u * 1j - u**2)\n",
    "    )\n",
    "    c3 = (kappa_v - rho * sigma_v * u * 1j + c2) / (\n",
    "        kappa_v - rho * sigma_v * u * 1j - c2\n",
    "    )\n",
    "    H1 = r * u * 1j * T + (c1 / sigma_v**2) * (\n",
    "        (kappa_v - rho * sigma_v * u * 1j + c2) * T\n",
    "        - 2 * np.log((1 - c3 * np.exp(c2 * T)) / (1 - c3))\n",
    "    )\n",
    "    H2 = (\n",
    "        (kappa_v - rho * sigma_v * u * 1j + c2)\n",
    "        / sigma_v**2\n",
    "        * ((1 - np.exp(c2 * T)) / (1 - c3 * np.exp(c2 * T)))\n",
    "    )\n",
    "    char_func_value = np.exp(H1 + H2 * v0)\n",
    "    return char_func_value"
   ]
  },
  {
   "cell_type": "code",
   "execution_count": 21,
   "id": "acf70d2d",
   "metadata": {},
   "outputs": [],
   "source": [
    "@jit(nopython=True)\n",
    "def H93_int_func(u, S0, K, T, r, kappa_v, theta_v, sigma_v, rho, v0):\n",
    "    \"\"\"\n",
    "    Fourier-based approach for Lewis (2001): Integration function.\n",
    "    \"\"\"\n",
    "    char_func_value = H93_char_func(\n",
    "        u - 1j * 0.5, T, r, kappa_v, theta_v, sigma_v, rho, v0\n",
    "    )\n",
    "    int_func_value = (\n",
    "        1 / (u**2 + 0.25) * (np.exp(1j * u * np.log(S0 / K)) * char_func_value).real\n",
    "    )\n",
    "    return int_func_value"
   ]
  },
  {
   "cell_type": "code",
   "execution_count": 22,
   "id": "5df939df",
   "metadata": {},
   "outputs": [],
   "source": [
    "def H93_call_value(S0, K, T, r, kappa_v, theta_v, sigma_v, rho, v0):\n",
    "    \"\"\"Valuation of European call option in H93 model via Lewis (2001)\n",
    "\n",
    "    Parameter definition:\n",
    "    ==========\n",
    "    S0: float\n",
    "        initial stock/index level\n",
    "    K: float\n",
    "        strike price\n",
    "    T: float\n",
    "        time-to-maturity (for t=0)\n",
    "    r: float\n",
    "        constant risk-free short rate\n",
    "    kappa_v: float\n",
    "        mean-reversion factor\n",
    "    theta_v: float\n",
    "        long-run mean of variance\n",
    "    sigma_v: float\n",
    "        volatility of variance\n",
    "    rho: float\n",
    "        correlation between variance and stock/index level\n",
    "    v0: float\n",
    "        initial level of variance\n",
    "    Returns\n",
    "    =======\n",
    "    call_value: float\n",
    "        present value of European call option\n",
    "    \"\"\"\n",
    "    int_value = quad(\n",
    "        lambda u: H93_int_func(u, S0, K, T, r, kappa_v, theta_v, sigma_v, rho, v0),\n",
    "        0,\n",
    "        np.inf,\n",
    "        limit=250,\n",
    "    )[0]\n",
    "    call_value = max(0, S0 - np.exp(-r * T) * np.sqrt(S0 * K) / np.pi * int_value)\n",
    "    return call_value"
   ]
  },
  {
   "cell_type": "code",
   "execution_count": 48,
   "id": "84eed271",
   "metadata": {},
   "outputs": [],
   "source": [
    "# Option Parameters\n",
    "S0 =  1195\n",
    "K = 1200\n",
    "T = 2.5\n",
    "r = 0.01"
   ]
  },
  {
   "cell_type": "code",
   "execution_count": 49,
   "id": "46538112",
   "metadata": {},
   "outputs": [],
   "source": [
    "# Heston(1993) Parameters\n",
    "kappa_v = 1.3\n",
    "theta_v = 0.035\n",
    "sigma_v = 0.25\n",
    "rho = -0.95\n",
    "v0 = 0.025"
   ]
  },
  {
   "cell_type": "code",
   "execution_count": 50,
   "id": "c48c965c",
   "metadata": {},
   "outputs": [
    {
     "name": "stdout",
     "output_type": "stream",
     "text": [
      "Heston (1993) Call Option Value:   $  138.3710 \n"
     ]
    }
   ],
   "source": [
    "print(\n",
    "    \"Heston (1993) Call Option Value:   $%10.4f \"\n",
    "    % H93_call_value(S0, K, T, r, kappa_v, theta_v, sigma_v, rho, v0)\n",
    ")"
   ]
  },
  {
   "cell_type": "code",
   "execution_count": 41,
   "id": "9e0b4153",
   "metadata": {},
   "outputs": [],
   "source": [
    "C = H93_call_value(S0, K, T, r, kappa_v, theta_v, sigma_v, rho, v0)"
   ]
  },
  {
   "cell_type": "code",
   "execution_count": 42,
   "id": "068b10c0",
   "metadata": {},
   "outputs": [
    {
     "data": {
      "text/plain": [
       "17.89119066328834"
      ]
     },
     "execution_count": 42,
     "metadata": {},
     "output_type": "execute_result"
    }
   ],
   "source": [
    "C - S0 + K*np.exp(-r*T)"
   ]
  },
  {
   "cell_type": "code",
   "execution_count": null,
   "id": "143b93ba",
   "metadata": {},
   "outputs": [],
   "source": []
  }
 ],
 "metadata": {
  "kernelspec": {
   "display_name": "Python 3 (ipykernel)",
   "language": "python",
   "name": "python3"
  },
  "language_info": {
   "codemirror_mode": {
    "name": "ipython",
    "version": 3
   },
   "file_extension": ".py",
   "mimetype": "text/x-python",
   "name": "python",
   "nbconvert_exporter": "python",
   "pygments_lexer": "ipython3",
   "version": "3.10.6"
  }
 },
 "nbformat": 4,
 "nbformat_minor": 5
}
