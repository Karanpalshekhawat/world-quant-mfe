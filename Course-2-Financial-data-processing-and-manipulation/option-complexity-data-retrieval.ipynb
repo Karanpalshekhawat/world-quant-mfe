{
 "cells": [
  {
   "cell_type": "code",
   "execution_count": 34,
   "metadata": {},
   "outputs": [],
   "source": [
    "import datetime\n",
    "import numpy as np\n",
    "import matplotlib.pyplot as plt\n",
    "import pandas as pd\n",
    "import yfinance as yf\n",
    "\n",
    "import matplotlib.patches as mpatches"
   ]
  },
  {
   "cell_type": "markdown",
   "metadata": {},
   "source": [
    "### Suppose you want to buy an option on some stock, there are multitude of options available which increase the complexity"
   ]
  },
  {
   "cell_type": "code",
   "execution_count": 2,
   "metadata": {},
   "outputs": [],
   "source": [
    "ticker = \"nflx\""
   ]
  },
  {
   "cell_type": "code",
   "execution_count": 7,
   "metadata": {},
   "outputs": [],
   "source": [
    "tk = yf.Ticker(ticker)\n",
    "exps = tk.options\n",
    "options = pd.DataFrame()"
   ]
  },
  {
   "cell_type": "code",
   "execution_count": 10,
   "metadata": {},
   "outputs": [],
   "source": [
    "#i generally used concat to join dataframes but seems like we can also use append\n",
    "for e in exps:\n",
    "    opt = tk.option_chain(e)\n",
    "    opt = pd.DataFrame().append(opt.calls).append(opt.puts)\n",
    "    opt['expirationDate'] = e\n",
    "    options = options.append(opt, ignore_index=True)"
   ]
  },
  {
   "cell_type": "code",
   "execution_count": 11,
   "metadata": {},
   "outputs": [
    {
     "data": {
      "text/html": [
       "<div>\n",
       "<style scoped>\n",
       "    .dataframe tbody tr th:only-of-type {\n",
       "        vertical-align: middle;\n",
       "    }\n",
       "\n",
       "    .dataframe tbody tr th {\n",
       "        vertical-align: top;\n",
       "    }\n",
       "\n",
       "    .dataframe thead th {\n",
       "        text-align: right;\n",
       "    }\n",
       "</style>\n",
       "<table border=\"1\" class=\"dataframe\">\n",
       "  <thead>\n",
       "    <tr style=\"text-align: right;\">\n",
       "      <th></th>\n",
       "      <th>contractSymbol</th>\n",
       "      <th>lastTradeDate</th>\n",
       "      <th>strike</th>\n",
       "      <th>lastPrice</th>\n",
       "      <th>bid</th>\n",
       "      <th>ask</th>\n",
       "      <th>change</th>\n",
       "      <th>percentChange</th>\n",
       "      <th>volume</th>\n",
       "      <th>openInterest</th>\n",
       "      <th>impliedVolatility</th>\n",
       "      <th>inTheMoney</th>\n",
       "      <th>contractSize</th>\n",
       "      <th>currency</th>\n",
       "      <th>expirationDate</th>\n",
       "    </tr>\n",
       "  </thead>\n",
       "  <tbody>\n",
       "    <tr>\n",
       "      <th>0</th>\n",
       "      <td>NFLX221230C00100000</td>\n",
       "      <td>2022-12-15 17:58:23</td>\n",
       "      <td>100.0</td>\n",
       "      <td>187.6</td>\n",
       "      <td>192.65</td>\n",
       "      <td>197.10</td>\n",
       "      <td>0.000000</td>\n",
       "      <td>0.000000</td>\n",
       "      <td>NaN</td>\n",
       "      <td>5.0</td>\n",
       "      <td>5.066410</td>\n",
       "      <td>True</td>\n",
       "      <td>REGULAR</td>\n",
       "      <td>USD</td>\n",
       "      <td>2022-12-30</td>\n",
       "    </tr>\n",
       "    <tr>\n",
       "      <th>1</th>\n",
       "      <td>NFLX221230C00140000</td>\n",
       "      <td>2022-12-13 14:56:41</td>\n",
       "      <td>140.0</td>\n",
       "      <td>192.0</td>\n",
       "      <td>152.75</td>\n",
       "      <td>157.15</td>\n",
       "      <td>0.000000</td>\n",
       "      <td>0.000000</td>\n",
       "      <td>22.0</td>\n",
       "      <td>22.0</td>\n",
       "      <td>3.642579</td>\n",
       "      <td>True</td>\n",
       "      <td>REGULAR</td>\n",
       "      <td>USD</td>\n",
       "      <td>2022-12-30</td>\n",
       "    </tr>\n",
       "    <tr>\n",
       "      <th>2</th>\n",
       "      <td>NFLX221230C00150000</td>\n",
       "      <td>2022-12-20 14:35:57</td>\n",
       "      <td>150.0</td>\n",
       "      <td>134.7</td>\n",
       "      <td>142.80</td>\n",
       "      <td>147.05</td>\n",
       "      <td>0.000000</td>\n",
       "      <td>0.000000</td>\n",
       "      <td>2.0</td>\n",
       "      <td>175.0</td>\n",
       "      <td>3.314455</td>\n",
       "      <td>True</td>\n",
       "      <td>REGULAR</td>\n",
       "      <td>USD</td>\n",
       "      <td>2022-12-30</td>\n",
       "    </tr>\n",
       "    <tr>\n",
       "      <th>3</th>\n",
       "      <td>NFLX221230C00160000</td>\n",
       "      <td>2022-12-23 17:26:56</td>\n",
       "      <td>160.0</td>\n",
       "      <td>134.4</td>\n",
       "      <td>132.80</td>\n",
       "      <td>137.30</td>\n",
       "      <td>5.619995</td>\n",
       "      <td>4.364028</td>\n",
       "      <td>2.0</td>\n",
       "      <td>396.0</td>\n",
       "      <td>1.859376</td>\n",
       "      <td>True</td>\n",
       "      <td>REGULAR</td>\n",
       "      <td>USD</td>\n",
       "      <td>2022-12-30</td>\n",
       "    </tr>\n",
       "    <tr>\n",
       "      <th>4</th>\n",
       "      <td>NFLX221230C00170000</td>\n",
       "      <td>2022-12-22 19:29:07</td>\n",
       "      <td>170.0</td>\n",
       "      <td>124.0</td>\n",
       "      <td>122.80</td>\n",
       "      <td>127.30</td>\n",
       "      <td>0.000000</td>\n",
       "      <td>0.000000</td>\n",
       "      <td>10.0</td>\n",
       "      <td>44.0</td>\n",
       "      <td>1.691408</td>\n",
       "      <td>True</td>\n",
       "      <td>REGULAR</td>\n",
       "      <td>USD</td>\n",
       "      <td>2022-12-30</td>\n",
       "    </tr>\n",
       "  </tbody>\n",
       "</table>\n",
       "</div>"
      ],
      "text/plain": [
       "        contractSymbol       lastTradeDate  strike  lastPrice     bid     ask  \\\n",
       "0  NFLX221230C00100000 2022-12-15 17:58:23   100.0      187.6  192.65  197.10   \n",
       "1  NFLX221230C00140000 2022-12-13 14:56:41   140.0      192.0  152.75  157.15   \n",
       "2  NFLX221230C00150000 2022-12-20 14:35:57   150.0      134.7  142.80  147.05   \n",
       "3  NFLX221230C00160000 2022-12-23 17:26:56   160.0      134.4  132.80  137.30   \n",
       "4  NFLX221230C00170000 2022-12-22 19:29:07   170.0      124.0  122.80  127.30   \n",
       "\n",
       "     change  percentChange  volume  openInterest  impliedVolatility  \\\n",
       "0  0.000000       0.000000     NaN           5.0           5.066410   \n",
       "1  0.000000       0.000000    22.0          22.0           3.642579   \n",
       "2  0.000000       0.000000     2.0         175.0           3.314455   \n",
       "3  5.619995       4.364028     2.0         396.0           1.859376   \n",
       "4  0.000000       0.000000    10.0          44.0           1.691408   \n",
       "\n",
       "   inTheMoney contractSize currency expirationDate  \n",
       "0        True      REGULAR      USD     2022-12-30  \n",
       "1        True      REGULAR      USD     2022-12-30  \n",
       "2        True      REGULAR      USD     2022-12-30  \n",
       "3        True      REGULAR      USD     2022-12-30  \n",
       "4        True      REGULAR      USD     2022-12-30  "
      ]
     },
     "execution_count": 11,
     "metadata": {},
     "output_type": "execute_result"
    }
   ],
   "source": [
    "options.head()"
   ]
  },
  {
   "cell_type": "code",
   "execution_count": 12,
   "metadata": {},
   "outputs": [],
   "source": [
    "# yfinance mistakes expitation day, so, we have to add 1 date in it\n",
    "options[\"expirationDate\"] = pd.to_datetime(options[\"expirationDate\"]) + datetime.timedelta(days=1)\n",
    "options[\"dte\"] = (options[\"expirationDate\"] - datetime.datetime.today()).dt.days / 365"
   ]
  },
  {
   "cell_type": "code",
   "execution_count": 13,
   "metadata": {},
   "outputs": [],
   "source": [
    "# boolean value if the option was call\n",
    "options['CALL'] = options['contractSymbol'].str[4:].apply(lambda x : 'C' in x)"
   ]
  },
  {
   "cell_type": "code",
   "execution_count": 17,
   "metadata": {},
   "outputs": [],
   "source": [
    "options[[\"bid\", \"ask\", \"strike\", \"volume\", \"impliedVolatility\"]] = options[[\"bid\", \"ask\", \"strike\", \"volume\", \"impliedVolatility\"]].apply(pd.to_numeric)"
   ]
  },
  {
   "cell_type": "code",
   "execution_count": 18,
   "metadata": {},
   "outputs": [],
   "source": [
    "options[\"mark\"] = (options[\"bid\"] + options[\"ask\"]) / 2\n",
    "options = options.drop( columns=[ \"contractSize\", \"currency\",\n",
    "            \"change\", \"percentChange\", \"lastTradeDate\", \"lastPrice\",])"
   ]
  },
  {
   "cell_type": "code",
   "execution_count": 21,
   "metadata": {},
   "outputs": [],
   "source": [
    "numStrikes = options['strike'].unique()"
   ]
  },
  {
   "cell_type": "code",
   "execution_count": 24,
   "metadata": {},
   "outputs": [
    {
     "data": {
      "text/plain": [
       "(5.0, 1325.0)"
      ]
     },
     "execution_count": 24,
     "metadata": {},
     "output_type": "execute_result"
    }
   ],
   "source": [
    "range_pf_strikes = (min(numStrikes), max(numStrikes))\n",
    "range_pf_strikes\n",
    "# huge range of options available, majority of it is OTM"
   ]
  },
  {
   "cell_type": "markdown",
   "metadata": {},
   "source": [
    "### Open interests is number of contract in existence, lot and lots of contracts have 0 or no open interest which means although market makers are there offering these options but no body is taking any position in it either due to lack of interest in hedging or speculating in it as they are quite far deep ITM or deep OTM\n",
    "\n",
    "### Open interest is good indicator of liquidity in the contract\n"
   ]
  },
  {
   "cell_type": "code",
   "execution_count": 29,
   "metadata": {},
   "outputs": [],
   "source": [
    "callsNflx = options[options['CALL'] == True]\n",
    "putNflx = options[options['CALL'] == False]"
   ]
  },
  {
   "cell_type": "code",
   "execution_count": 39,
   "metadata": {},
   "outputs": [],
   "source": [
    "for index in callsNflx.index:\n",
    "    if \"-\" == callsNflx[\"volume\"][index]:\n",
    "        print(\"inside if\")\n",
    "        callsNflx.loc[index, \"volume\"] = 0"
   ]
  },
  {
   "cell_type": "code",
   "execution_count": 46,
   "metadata": {},
   "outputs": [
    {
     "data": {
      "text/plain": [
       "[<matplotlib.lines.Line2D at 0x7fb37a6da240>]"
      ]
     },
     "execution_count": 46,
     "metadata": {},
     "output_type": "execute_result"
    },
    {
     "data": {
      "image/png": "[encoded data removed]",
      "text/plain": [
       "<Figure size 432x288 with 1 Axes>"
      ]
     },
     "metadata": {
      "needs_background": "light"
     },
     "output_type": "display_data"
    }
   ],
   "source": [
    "plt.plot(list(callsNflx[\"strike\"]), list(callsNflx[\"openInterest\"]))\n",
    "#plt.plot(list(callsNflx[\"strike\"]), list(putNflx[\"openInterest\"]))"
   ]
  },
  {
   "cell_type": "code",
   "execution_count": 47,
   "metadata": {},
   "outputs": [],
   "source": [
    "# low and high strikes have very less Open interest"
   ]
  },
  {
   "cell_type": "code",
   "execution_count": null,
   "metadata": {},
   "outputs": [],
   "source": []
  }
 ],
 "metadata": {
  "kernelspec": {
   "display_name": "Python 3",
   "language": "python",
   "name": "python3"
  },
  "language_info": {
   "codemirror_mode": {
    "name": "ipython",
    "version": 3
   },
   "file_extension": ".py",
   "mimetype": "text/x-python",
   "name": "python",
   "nbconvert_exporter": "python",
   "pygments_lexer": "ipython3",
   "version": "3.7.3"
  }
 },
 "nbformat": 4,
 "nbformat_minor": 2
}
