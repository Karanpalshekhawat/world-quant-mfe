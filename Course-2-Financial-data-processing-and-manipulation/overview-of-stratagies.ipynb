{
 "cells": [
  {
   "cell_type": "code",
   "execution_count": 29,
   "metadata": {},
   "outputs": [],
   "source": [
    "import math\n",
    "import opstrat as op\n",
    "from optionprice import Option\n",
    "from yahoo_fin import options"
   ]
  },
  {
   "cell_type": "code",
   "execution_count": 3,
   "metadata": {},
   "outputs": [],
   "source": [
    "def buyshares(capital, shareprice):\n",
    "    return math.floor(capital / shareprice)"
   ]
  },
  {
   "cell_type": "code",
   "execution_count": 10,
   "metadata": {},
   "outputs": [],
   "source": [
    "s0 = 333"
   ]
  },
  {
   "cell_type": "code",
   "execution_count": 11,
   "metadata": {},
   "outputs": [],
   "source": [
    "mycapital = 100000"
   ]
  },
  {
   "cell_type": "code",
   "execution_count": 12,
   "metadata": {},
   "outputs": [
    {
     "data": {
      "text/plain": [
       "300"
      ]
     },
     "execution_count": 12,
     "metadata": {},
     "output_type": "execute_result"
    }
   ],
   "source": [
    "nmshares = buyshares(mycapital, s0)\n",
    "nmshares"
   ]
  },
  {
   "cell_type": "code",
   "execution_count": 13,
   "metadata": {},
   "outputs": [],
   "source": [
    "def CalculatePnL(sellPrice, buyPrice, numShares):\n",
    "    return round(numShares * (sellPrice - buyPrice), 2)"
   ]
  },
  {
   "cell_type": "code",
   "execution_count": 16,
   "metadata": {},
   "outputs": [
    {
     "data": {
      "text/plain": [
       "3600"
      ]
     },
     "execution_count": 16,
     "metadata": {},
     "output_type": "execute_result"
    }
   ],
   "source": [
    "s_end = 345\n",
    "cash_pnl = CalculatePnL(s_end, s0, nmshares)\n",
    "cash_pnl"
   ]
  },
  {
   "cell_type": "code",
   "execution_count": 17,
   "metadata": {},
   "outputs": [],
   "source": [
    "def CalculatePctReturn(fundsOut, fundsIn):\n",
    "    return round(fundsOut / fundsIn * 100, 2)"
   ]
  },
  {
   "cell_type": "code",
   "execution_count": 18,
   "metadata": {},
   "outputs": [
    {
     "data": {
      "text/plain": [
       "3.6"
      ]
     },
     "execution_count": 18,
     "metadata": {},
     "output_type": "execute_result"
    }
   ],
   "source": [
    "CalculatePctReturn(cash_pnl, mycapital)"
   ]
  },
  {
   "cell_type": "code",
   "execution_count": 20,
   "metadata": {},
   "outputs": [],
   "source": [
    "# when i can borrow particular amount from the market, or can finance only some from my side\n",
    "def FinanceShares(capital, share_price, fin_pct=0.5):\n",
    "    return buyshares(capital/0.5, share_price)"
   ]
  },
  {
   "cell_type": "code",
   "execution_count": 22,
   "metadata": {},
   "outputs": [
    {
     "data": {
      "text/plain": [
       "600"
      ]
     },
     "execution_count": 22,
     "metadata": {},
     "output_type": "execute_result"
    }
   ],
   "source": [
    "num_of_lvg_shares = FinanceShares(mycapital, s0)\n",
    "num_of_lvg_shares"
   ]
  },
  {
   "cell_type": "code",
   "execution_count": 23,
   "metadata": {},
   "outputs": [
    {
     "data": {
      "text/plain": [
       "7200"
      ]
     },
     "execution_count": 23,
     "metadata": {},
     "output_type": "execute_result"
    }
   ],
   "source": [
    "lvg_pnl = CalculatePnL(s_end, s0, num_of_lvg_shares)\n",
    "lvg_pnl"
   ]
  },
  {
   "cell_type": "code",
   "execution_count": 25,
   "metadata": {},
   "outputs": [
    {
     "data": {
      "text/plain": [
       "7.2"
      ]
     },
     "execution_count": 25,
     "metadata": {},
     "output_type": "execute_result"
    }
   ],
   "source": [
    "CalculatePctReturn(lvg_pnl, mycapital)"
   ]
  },
  {
   "cell_type": "code",
   "execution_count": 30,
   "metadata": {},
   "outputs": [],
   "source": [
    "nflx_dates = options.get_expiration_dates(\"NFLX\")"
   ]
  },
  {
   "cell_type": "code",
   "execution_count": 31,
   "metadata": {},
   "outputs": [
    {
     "data": {
      "text/plain": [
       "14"
      ]
     },
     "execution_count": 31,
     "metadata": {},
     "output_type": "execute_result"
    }
   ],
   "source": [
    "len(nflx_dates)"
   ]
  },
  {
   "cell_type": "code",
   "execution_count": 32,
   "metadata": {},
   "outputs": [],
   "source": [
    "callsNflx = options.get_calls(\"NFLX\")"
   ]
  },
  {
   "cell_type": "code",
   "execution_count": 33,
   "metadata": {},
   "outputs": [
    {
     "data": {
      "text/plain": [
       "Index(['Contract Name', 'Last Trade Date', 'Strike', 'Last Price', 'Bid',\n",
       "       'Ask', 'Change', '% Change', 'Volume', 'Open Interest',\n",
       "       'Implied Volatility'],\n",
       "      dtype='object')"
      ]
     },
     "execution_count": 33,
     "metadata": {},
     "output_type": "execute_result"
    }
   ],
   "source": [
    "callsNflx.columns"
   ]
  },
  {
   "cell_type": "markdown",
   "metadata": {},
   "source": [
    "### Let's choose option that is 10 away from current price, OTM call, current netflix share price is around 294, so lets choose strike price to be 305"
   ]
  },
  {
   "cell_type": "code",
   "execution_count": 34,
   "metadata": {},
   "outputs": [],
   "source": [
    "myOption = callsNflx[callsNflx['Strike'] == 305]"
   ]
  },
  {
   "cell_type": "code",
   "execution_count": 35,
   "metadata": {},
   "outputs": [
    {
     "data": {
      "text/html": [
       "<div>\n",
       "<style scoped>\n",
       "    .dataframe tbody tr th:only-of-type {\n",
       "        vertical-align: middle;\n",
       "    }\n",
       "\n",
       "    .dataframe tbody tr th {\n",
       "        vertical-align: top;\n",
       "    }\n",
       "\n",
       "    .dataframe thead th {\n",
       "        text-align: right;\n",
       "    }\n",
       "</style>\n",
       "<table border=\"1\" class=\"dataframe\">\n",
       "  <thead>\n",
       "    <tr style=\"text-align: right;\">\n",
       "      <th></th>\n",
       "      <th>Contract Name</th>\n",
       "      <th>Last Trade Date</th>\n",
       "      <th>Strike</th>\n",
       "      <th>Last Price</th>\n",
       "      <th>Bid</th>\n",
       "      <th>Ask</th>\n",
       "      <th>Change</th>\n",
       "      <th>% Change</th>\n",
       "      <th>Volume</th>\n",
       "      <th>Open Interest</th>\n",
       "      <th>Implied Volatility</th>\n",
       "    </tr>\n",
       "  </thead>\n",
       "  <tbody>\n",
       "    <tr>\n",
       "      <th>41</th>\n",
       "      <td>NFLX221230C00305000</td>\n",
       "      <td>2022-12-23 3:59PM EST</td>\n",
       "      <td>305.0</td>\n",
       "      <td>2.08</td>\n",
       "      <td>1.96</td>\n",
       "      <td>2.07</td>\n",
       "      <td>-2.27</td>\n",
       "      <td>-52.18%</td>\n",
       "      <td>3068</td>\n",
       "      <td>1044</td>\n",
       "      <td>37.45%</td>\n",
       "    </tr>\n",
       "  </tbody>\n",
       "</table>\n",
       "</div>"
      ],
      "text/plain": [
       "          Contract Name        Last Trade Date  Strike  Last Price   Bid  \\\n",
       "41  NFLX221230C00305000  2022-12-23 3:59PM EST   305.0        2.08  1.96   \n",
       "\n",
       "     Ask  Change % Change Volume  Open Interest Implied Volatility  \n",
       "41  2.07   -2.27  -52.18%   3068           1044             37.45%  "
      ]
     },
     "execution_count": 35,
     "metadata": {},
     "output_type": "execute_result"
    }
   ],
   "source": [
    "myOption"
   ]
  },
  {
   "cell_type": "code",
   "execution_count": 36,
   "metadata": {},
   "outputs": [],
   "source": [
    "opt = myOption['Last Price']"
   ]
  },
  {
   "cell_type": "code",
   "execution_count": 37,
   "metadata": {},
   "outputs": [],
   "source": [
    "# sigma is realized vol calculated seperately\n",
    "nflx_call = Option(european=True, kind=\"call\", s0=295, k =305, t=4, sigma=0.573, r=0, dv=0)\n",
    "opt_price_calculated = round(nflx_call.getPrice(),4)"
   ]
  },
  {
   "cell_type": "code",
   "execution_count": 38,
   "metadata": {},
   "outputs": [
    {
     "data": {
      "text/plain": [
       "3.2584"
      ]
     },
     "execution_count": 38,
     "metadata": {},
     "output_type": "execute_result"
    }
   ],
   "source": [
    "#roughly close to what we see above but still not exact\n",
    "opt_price_calculated"
   ]
  },
  {
   "cell_type": "markdown",
   "metadata": {},
   "source": [
    "### We buy option in multiple of 100"
   ]
  },
  {
   "cell_type": "code",
   "execution_count": 39,
   "metadata": {},
   "outputs": [],
   "source": [
    "nflxopt1 = 100*opt_price_calculated"
   ]
  },
  {
   "cell_type": "code",
   "execution_count": 40,
   "metadata": {},
   "outputs": [
    {
     "data": {
      "text/plain": [
       "306"
      ]
     },
     "execution_count": 40,
     "metadata": {},
     "output_type": "execute_result"
    }
   ],
   "source": [
    "numCallOptions = buyshares(mycapital, nflxopt1)\n",
    "numCallOptions"
   ]
  },
  {
   "cell_type": "markdown",
   "metadata": {},
   "source": [
    "### Suppose the underlying stock price move to 310, so what will be the profit?"
   ]
  },
  {
   "cell_type": "code",
   "execution_count": 43,
   "metadata": {},
   "outputs": [],
   "source": [
    "nflx_call_different_strike = Option(european=True, kind=\"call\", s0=310, k = 305, t=4, sigma=0.573, r=0, dv=0)\n",
    "opt_price_calculated_final = round(nflx_call_different_strike.getPrice(),4)"
   ]
  },
  {
   "cell_type": "code",
   "execution_count": 44,
   "metadata": {},
   "outputs": [
    {
     "data": {
      "text/plain": [
       "10.1261"
      ]
     },
     "execution_count": 44,
     "metadata": {},
     "output_type": "execute_result"
    }
   ],
   "source": [
    "opt_price_calculated_final"
   ]
  },
  {
   "cell_type": "code",
   "execution_count": 47,
   "metadata": {},
   "outputs": [
    {
     "data": {
      "text/plain": [
       "210151.62"
      ]
     },
     "execution_count": 47,
     "metadata": {},
     "output_type": "execute_result"
    }
   ],
   "source": [
    "#Pnl\n",
    "optPnl = CalculatePnL(opt_price_calculated_final*100, opt_price_calculated*100, numCallOptions)\n",
    "optPnl"
   ]
  },
  {
   "cell_type": "markdown",
   "metadata": {},
   "source": [
    "## Bull Spread Strategy, buy a call option at lower strike (OTM) and sell another call at higher strike (OTM)"
   ]
  },
  {
   "cell_type": "code",
   "execution_count": 51,
   "metadata": {},
   "outputs": [
    {
     "name": "stdout",
     "output_type": "stream",
     "text": [
      "Current Stock price fo netflix is: 295\n"
     ]
    }
   ],
   "source": [
    "s0 = 295\n",
    "print(f\"Current Stock price fo netflix is: {s0}\")"
   ]
  },
  {
   "cell_type": "code",
   "execution_count": 67,
   "metadata": {},
   "outputs": [],
   "source": [
    "nflxCall1 = Option(\n",
    "    european=True, kind=\"call\", s0=295, k=305, t=4, sigma=0.573, r=0.0, dv=0\n",
    ")\n",
    "nflxOpt1 = round(nflxCall1.getPrice(), 4)"
   ]
  },
  {
   "cell_type": "code",
   "execution_count": 68,
   "metadata": {},
   "outputs": [],
   "source": [
    "nflxCall2 = Option(\n",
    "    european=True, kind=\"call\", s0=295, k=315, t=4, sigma=0.573, r=0.0, dv=0\n",
    ")\n",
    "nflxOpt2 = round(nflxCall2.getPrice(), 4)"
   ]
  },
  {
   "cell_type": "code",
   "execution_count": 69,
   "metadata": {},
   "outputs": [
    {
     "name": "stdout",
     "output_type": "stream",
     "text": [
      "3.2584 1.2704\n"
     ]
    }
   ],
   "source": [
    "print(nflxOpt1, nflxOpt2)"
   ]
  },
  {
   "cell_type": "code",
   "execution_count": 70,
   "metadata": {},
   "outputs": [],
   "source": [
    "nflxSpr1 = nflxOpt1 - nflxOpt2"
   ]
  },
  {
   "cell_type": "code",
   "execution_count": 71,
   "metadata": {},
   "outputs": [
    {
     "data": {
      "image/png": "[encoded data removed]",
      "text/plain": [
       "<Figure size 720x432 with 1 Axes>"
      ]
     },
     "metadata": {
      "needs_background": "light"
     },
     "output_type": "display_data"
    }
   ],
   "source": [
    "myCall1 = {\"op_type\": \"c\", \"strike\": 305, \"tr_type\": \"b\", \"op_pr\": nflxOpt1}\n",
    "myCall2 = {\"op_type\": \"c\", \"strike\": 315, \"tr_type\": \"s\", \"op_pr\": nflxOpt2}\n",
    "op_list = [myCall1, myCall2]\n",
    "op.multi_plotter(spot=295, spot_range=10, op_list=op_list)"
   ]
  },
  {
   "cell_type": "code",
   "execution_count": 74,
   "metadata": {},
   "outputs": [
    {
     "data": {
      "text/plain": [
       "503"
      ]
     },
     "execution_count": 74,
     "metadata": {},
     "output_type": "execute_result"
    }
   ],
   "source": [
    "nflxOptB = (nflxOpt1 - nflxOpt2) * 100\n",
    "numSpreadOptions = buyshares(mycapital, nflxOptB)\n",
    "numSpreadOptions"
   ]
  },
  {
   "cell_type": "markdown",
   "metadata": {},
   "source": [
    "### Suppose the underlying stock price move to 310, so what will be the profit uner bull spread strategy, we are computing profit under option portfolio assuming we are not executing the option?"
   ]
  },
  {
   "cell_type": "code",
   "execution_count": 77,
   "metadata": {},
   "outputs": [
    {
     "name": "stdout",
     "output_type": "stream",
     "text": [
      "[10.1261, 5.2414]\n"
     ]
    }
   ],
   "source": [
    "nflxCall3 = Option(\n",
    "    european=True, kind=\"call\", s0=310, k=305, t=4, sigma=0.573, r=0.0, dv=0\n",
    ")\n",
    "nflxOpt3 = round(nflxCall3.getPrice(), 4)\n",
    "nflxCall4 = Option(\n",
    "    european=True, kind=\"call\", s0=310, k=315, t=4, sigma=0.573, r=0.0, dv=0\n",
    ")\n",
    "nflxOpt4 = round(nflxCall4.getPrice(), 4)\n",
    "print([nflxOpt3, nflxOpt4])\n",
    "nflxSpr2 = nflxOpt3 - nflxOpt4"
   ]
  },
  {
   "cell_type": "code",
   "execution_count": 78,
   "metadata": {},
   "outputs": [
    {
     "data": {
      "text/plain": [
       "886.39"
      ]
     },
     "execution_count": 78,
     "metadata": {},
     "output_type": "execute_result"
    }
   ],
   "source": [
    "sprPnL = CalculatePnL(nflxSpr2, nflxSpr1, numCallOptions)\n",
    "sprPnL"
   ]
  },
  {
   "cell_type": "code",
   "execution_count": 79,
   "metadata": {},
   "outputs": [
    {
     "data": {
      "text/plain": [
       "0.89"
      ]
     },
     "execution_count": 79,
     "metadata": {},
     "output_type": "execute_result"
    }
   ],
   "source": [
    "CalculatePctReturn(sprPnL, mycapital)"
   ]
  },
  {
   "cell_type": "code",
   "execution_count": null,
   "metadata": {},
   "outputs": [],
   "source": []
  }
 ],
 "metadata": {
  "kernelspec": {
   "display_name": "Python 3",
   "language": "python",
   "name": "python3"
  },
  "language_info": {
   "codemirror_mode": {
    "name": "ipython",
    "version": 3
   },
   "file_extension": ".py",
   "mimetype": "text/x-python",
   "name": "python",
   "nbconvert_exporter": "python",
   "pygments_lexer": "ipython3",
   "version": "3.7.3"
  }
 },
 "nbformat": 4,
 "nbformat_minor": 2
}
