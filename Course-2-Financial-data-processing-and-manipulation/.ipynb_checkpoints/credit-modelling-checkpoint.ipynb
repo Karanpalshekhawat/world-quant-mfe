{
 "cells": [
  {
   "cell_type": "markdown",
   "metadata": {},
   "source": [
    "### Computing PD using bond prices"
   ]
  },
  {
   "cell_type": "code",
   "execution_count": 44,
   "metadata": {},
   "outputs": [],
   "source": [
    "import time\n",
    "from datetime import date\n",
    "from datetime import datetime as dt\n",
    "from datetime import timedelta\n",
    "\n",
    "import numpy as np\n",
    "import pandas as pd\n",
    "import yfinance as yf\n",
    "import sympy as sp # for solving equations\n",
    "import pandas_datareader as dr"
   ]
  },
  {
   "cell_type": "code",
   "execution_count": 45,
   "metadata": {},
   "outputs": [],
   "source": [
    "from selenium import webdriver\n",
    "from webdriver_manager.chrome import ChromeDriverManager\n",
    "from selenium.webdriver.chrome.service import Service\n",
    "from selenium.webdriver.chrome.options import Options\n",
    "from selenium.webdriver.common.by import By\n",
    "from selenium.webdriver.support.ui import Select, WebDriverWait\n",
    "from selenium.webdriver.support import expected_conditions as EC"
   ]
  },
  {
   "cell_type": "code",
   "execution_count": 46,
   "metadata": {},
   "outputs": [],
   "source": [
    "options = Options()\n",
    "options.add_argument(\"--headless\")\n",
    "options.add_argument(\"--no-sandbox\")\n",
    "options.add_argument(\"--disable-dev-shm-usage\")\n",
    "driver = webdriver.Chrome(\n",
    "    service=Service(ChromeDriverManager().install()), options=options\n",
    ")"
   ]
  },
  {
   "cell_type": "code",
   "execution_count": 47,
   "metadata": {},
   "outputs": [],
   "source": [
    "driver.get(\"http://finra-markets.morningstar.com/BondCenter/Results.jsp\")"
   ]
  },
  {
   "cell_type": "markdown",
   "metadata": {},
   "source": [
    "#### Define company name, company ticker and coupon frequency"
   ]
  },
  {
   "cell_type": "code",
   "execution_count": 48,
   "metadata": {},
   "outputs": [],
   "source": [
    "company_ticker = \"HES\"\n",
    "company_name = \"Hess\"\n",
    "coupon_frequency = \"Semi-Annual\""
   ]
  },
  {
   "cell_type": "code",
   "execution_count": 49,
   "metadata": {},
   "outputs": [],
   "source": [
    "# click agree\n",
    "WebDriverWait(driver, 10).until(\n",
    "    EC.element_to_be_clickable((By.CSS_SELECTOR, \".button_blue.agree\"))\n",
    ").click()"
   ]
  },
  {
   "cell_type": "code",
   "execution_count": 50,
   "metadata": {},
   "outputs": [],
   "source": [
    "# click edit search\n",
    "WebDriverWait(driver, 10).until(\n",
    "    EC.element_to_be_clickable((By.CSS_SELECTOR, \"a.qs-ui-btn.blue\"))\n",
    ").click()"
   ]
  },
  {
   "cell_type": "code",
   "execution_count": 51,
   "metadata": {},
   "outputs": [],
   "source": [
    "# input Issuer Name\n",
    "WebDriverWait(driver, 10).until(\n",
    "    EC.presence_of_element_located((By.CSS_SELECTOR, \"input[id=firscreener-issuer]\"))\n",
    ")\n",
    "inputElement = driver.find_element(By.ID, \"firscreener-issuer\")\n",
    "inputElement.send_keys(company_name)"
   ]
  },
  {
   "cell_type": "code",
   "execution_count": 52,
   "metadata": {},
   "outputs": [],
   "source": [
    "# input Symbol\n",
    "WebDriverWait(driver, 10).until(\n",
    "    EC.presence_of_element_located((By.CSS_SELECTOR, \"input[id=firscreener-cusip]\"))\n",
    ")\n",
    "inputElement = driver.find_element(By.ID, \"firscreener-cusip\")\n",
    "inputElement.send_keys(company_ticker)"
   ]
  },
  {
   "cell_type": "code",
   "execution_count": 53,
   "metadata": {},
   "outputs": [],
   "source": [
    "# click advanced search\n",
    "WebDriverWait(driver, 10).until(\n",
    "    EC.element_to_be_clickable((By.CSS_SELECTOR, \"a.ms-display-switcher.hide\"))\n",
    ").click()"
   ]
  },
  {
   "cell_type": "code",
   "execution_count": 54,
   "metadata": {},
   "outputs": [],
   "source": [
    "# input Coupon Frequency\n",
    "WebDriverWait(driver, 10).until(\n",
    "    EC.presence_of_element_located((By.CSS_SELECTOR, \"select[name=interestFrequency]\"))\n",
    ")\n",
    "Select(\n",
    "    (driver.find_elements(By.CSS_SELECTOR, \"select[name=interestFrequency]\"))[0]\n",
    ").select_by_visible_text(coupon_frequency)"
   ]
  },
  {
   "cell_type": "code",
   "execution_count": 55,
   "metadata": {},
   "outputs": [],
   "source": [
    "# click show results\n",
    "WebDriverWait(driver, 10).until(\n",
    "    EC.element_to_be_clickable((By.CSS_SELECTOR, \"input.button_blue[type=submit]\"))\n",
    ").click()"
   ]
  },
  {
   "cell_type": "code",
   "execution_count": 56,
   "metadata": {},
   "outputs": [
    {
     "data": {
      "text/plain": [
       "<selenium.webdriver.remote.webelement.WebElement (session=\"8698e89e38885f9bfd8608282435e759\", element=\"92bfcdce-8633-4a50-96dc-4026add17a5e\")>"
      ]
     },
     "execution_count": 56,
     "metadata": {},
     "output_type": "execute_result"
    }
   ],
   "source": [
    "# wait for results\n",
    "WebDriverWait(driver, 10).until(\n",
    "    EC.presence_of_element_located(\n",
    "        (By.CSS_SELECTOR, \".rtq-grid-row.rtq-grid-rzrow .rtq-grid-cell-ctn\")\n",
    "    )\n",
    ")"
   ]
  },
  {
   "cell_type": "code",
   "execution_count": 57,
   "metadata": {},
   "outputs": [],
   "source": [
    "# create DataFrame from scrape\n",
    "frames = []\n",
    "for page in range(1, 11):\n",
    "    bonds = []\n",
    "    WebDriverWait(driver, 10).until(\n",
    "        EC.presence_of_element_located(\n",
    "            (By.CSS_SELECTOR, (f\"a.qs-pageutil-btn[value='{str(page)}']\"))\n",
    "        )\n",
    "    )  # wait for page marker to be on expected page\n",
    "    time.sleep(2)\n",
    "\n",
    "    headers = [\n",
    "        title.text\n",
    "        for title in driver.find_elements(By.CSS_SELECTOR,\n",
    "            \".rtq-grid-row.rtq-grid-rzrow .rtq-grid-cell-ctn\"\n",
    "        )[1:]\n",
    "    ]\n",
    "\n",
    "    tablerows = driver.find_elements(By.CSS_SELECTOR,\n",
    "        \"div.rtq-grid-bd > div.rtq-grid-row\"\n",
    "    )\n",
    "    for tablerow in tablerows:\n",
    "        tablerowdata = tablerow.find_elements(By.CSS_SELECTOR, \"div.rtq-grid-cell\")\n",
    "        bond = [item.text for item in tablerowdata[1:]]\n",
    "        bonds.append(bond)\n",
    "\n",
    "        # Convert to DataFrame\n",
    "        df = pd.DataFrame(bonds, columns=headers)\n",
    "\n",
    "    frames.append(df)\n",
    "\n",
    "    try:\n",
    "        driver.find_element(By.CSS_SELECTOR, \"a.qs-pageutil-next\").click()\n",
    "    except:  # noqa E722\n",
    "        break\n",
    "\n",
    "bond_prices_df = pd.concat(frames)"
   ]
  },
  {
   "cell_type": "code",
   "execution_count": 58,
   "metadata": {},
   "outputs": [
    {
     "data": {
      "text/html": [
       "<div>\n",
       "<style scoped>\n",
       "    .dataframe tbody tr th:only-of-type {\n",
       "        vertical-align: middle;\n",
       "    }\n",
       "\n",
       "    .dataframe tbody tr th {\n",
       "        vertical-align: top;\n",
       "    }\n",
       "\n",
       "    .dataframe thead th {\n",
       "        text-align: right;\n",
       "    }\n",
       "</style>\n",
       "<table border=\"1\" class=\"dataframe\">\n",
       "  <thead>\n",
       "    <tr style=\"text-align: right;\">\n",
       "      <th></th>\n",
       "      <th>Issuer Name</th>\n",
       "      <th>Symbol</th>\n",
       "      <th>Callable</th>\n",
       "      <th>Sub-Product Type</th>\n",
       "      <th>Coupon</th>\n",
       "      <th>Maturity</th>\n",
       "      <th>Moody's®</th>\n",
       "      <th>S&amp;P</th>\n",
       "      <th>Price</th>\n",
       "      <th>Yield</th>\n",
       "    </tr>\n",
       "  </thead>\n",
       "  <tbody>\n",
       "    <tr>\n",
       "      <th>0</th>\n",
       "      <td>HESS CORP</td>\n",
       "      <td>HES.GH</td>\n",
       "      <td>Yes</td>\n",
       "      <td>Corporate Bond</td>\n",
       "      <td>6.000</td>\n",
       "      <td>01/15/2040</td>\n",
       "      <td>Baa3</td>\n",
       "      <td>BBB-</td>\n",
       "      <td>98.927</td>\n",
       "      <td>6.102</td>\n",
       "    </tr>\n",
       "    <tr>\n",
       "      <th>1</th>\n",
       "      <td>HESS CORP</td>\n",
       "      <td>HES.GI</td>\n",
       "      <td>Yes</td>\n",
       "      <td>Corporate Bond</td>\n",
       "      <td>5.600</td>\n",
       "      <td>02/15/2041</td>\n",
       "      <td>Baa3</td>\n",
       "      <td>BBB-</td>\n",
       "      <td>94.522</td>\n",
       "      <td>6.103</td>\n",
       "    </tr>\n",
       "    <tr>\n",
       "      <th>2</th>\n",
       "      <td>HESS CORP</td>\n",
       "      <td>HES4136877</td>\n",
       "      <td>Yes</td>\n",
       "      <td>Corporate Bond</td>\n",
       "      <td>3.500</td>\n",
       "      <td>07/15/2024</td>\n",
       "      <td>Baa3</td>\n",
       "      <td>BBB-</td>\n",
       "      <td>97.231</td>\n",
       "      <td>5.395</td>\n",
       "    </tr>\n",
       "    <tr>\n",
       "      <th>3</th>\n",
       "      <td>HESS CORP</td>\n",
       "      <td>HES4405829</td>\n",
       "      <td>Yes</td>\n",
       "      <td>Corporate Bond</td>\n",
       "      <td>4.300</td>\n",
       "      <td>04/01/2027</td>\n",
       "      <td>Baa3</td>\n",
       "      <td>BBB-</td>\n",
       "      <td>95.752</td>\n",
       "      <td>5.430</td>\n",
       "    </tr>\n",
       "    <tr>\n",
       "      <th>4</th>\n",
       "      <td>HESS CORP</td>\n",
       "      <td>HES4405830</td>\n",
       "      <td>Yes</td>\n",
       "      <td>Corporate Bond</td>\n",
       "      <td>5.800</td>\n",
       "      <td>04/01/2047</td>\n",
       "      <td>Baa3</td>\n",
       "      <td>BBB-</td>\n",
       "      <td>99.218</td>\n",
       "      <td>5.860</td>\n",
       "    </tr>\n",
       "    <tr>\n",
       "      <th>5</th>\n",
       "      <td>HESS MIDSTREAM OPERATIONS LP</td>\n",
       "      <td>HES5392919</td>\n",
       "      <td>Yes</td>\n",
       "      <td>Corporate Bond</td>\n",
       "      <td>5.500</td>\n",
       "      <td>10/15/2030</td>\n",
       "      <td>Ba2</td>\n",
       "      <td>BB+</td>\n",
       "      <td>91.473</td>\n",
       "      <td>6.933</td>\n",
       "    </tr>\n",
       "    <tr>\n",
       "      <th>6</th>\n",
       "      <td>HESS MIDSTREAM OPERATIONS LP</td>\n",
       "      <td>HES4567499</td>\n",
       "      <td>Yes</td>\n",
       "      <td>Corporate Bond</td>\n",
       "      <td>5.625</td>\n",
       "      <td>02/15/2026</td>\n",
       "      <td>WR</td>\n",
       "      <td>BB+</td>\n",
       "      <td>104.500</td>\n",
       "      <td>4.431</td>\n",
       "    </tr>\n",
       "    <tr>\n",
       "      <th>7</th>\n",
       "      <td>HESS MIDSTREAM OPERATIONS LP</td>\n",
       "      <td>HES4927355</td>\n",
       "      <td>Yes</td>\n",
       "      <td>Corporate Bond</td>\n",
       "      <td>5.625</td>\n",
       "      <td>02/15/2026</td>\n",
       "      <td></td>\n",
       "      <td>BB+</td>\n",
       "      <td>97.546</td>\n",
       "      <td>6.502</td>\n",
       "    </tr>\n",
       "    <tr>\n",
       "      <th>8</th>\n",
       "      <td>HESS MIDSTREAM OPERATIONS LP</td>\n",
       "      <td>HES5233164</td>\n",
       "      <td>Yes</td>\n",
       "      <td>Corporate Bond</td>\n",
       "      <td>4.250</td>\n",
       "      <td>02/15/2030</td>\n",
       "      <td>Ba2</td>\n",
       "      <td>BB+</td>\n",
       "      <td>85.135</td>\n",
       "      <td>6.927</td>\n",
       "    </tr>\n",
       "    <tr>\n",
       "      <th>9</th>\n",
       "      <td>HESS MIDSTREAM PARTNERS LP</td>\n",
       "      <td>HES4918686</td>\n",
       "      <td>Yes</td>\n",
       "      <td>Corporate Bond</td>\n",
       "      <td>5.125</td>\n",
       "      <td>06/15/2028</td>\n",
       "      <td>Ba2</td>\n",
       "      <td>BB+</td>\n",
       "      <td>93.560</td>\n",
       "      <td>6.546</td>\n",
       "    </tr>\n",
       "  </tbody>\n",
       "</table>\n",
       "</div>"
      ],
      "text/plain": [
       "                    Issuer Name      Symbol Callable Sub-Product Type Coupon  \\\n",
       "0                     HESS CORP      HES.GH      Yes   Corporate Bond  6.000   \n",
       "1                     HESS CORP      HES.GI      Yes   Corporate Bond  5.600   \n",
       "2                     HESS CORP  HES4136877      Yes   Corporate Bond  3.500   \n",
       "3                     HESS CORP  HES4405829      Yes   Corporate Bond  4.300   \n",
       "4                     HESS CORP  HES4405830      Yes   Corporate Bond  5.800   \n",
       "5  HESS MIDSTREAM OPERATIONS LP  HES5392919      Yes   Corporate Bond  5.500   \n",
       "6  HESS MIDSTREAM OPERATIONS LP  HES4567499      Yes   Corporate Bond  5.625   \n",
       "7  HESS MIDSTREAM OPERATIONS LP  HES4927355      Yes   Corporate Bond  5.625   \n",
       "8  HESS MIDSTREAM OPERATIONS LP  HES5233164      Yes   Corporate Bond  4.250   \n",
       "9    HESS MIDSTREAM PARTNERS LP  HES4918686      Yes   Corporate Bond  5.125   \n",
       "\n",
       "     Maturity Moody's®   S&P    Price  Yield  \n",
       "0  01/15/2040     Baa3  BBB-   98.927  6.102  \n",
       "1  02/15/2041     Baa3  BBB-   94.522  6.103  \n",
       "2  07/15/2024     Baa3  BBB-   97.231  5.395  \n",
       "3  04/01/2027     Baa3  BBB-   95.752  5.430  \n",
       "4  04/01/2047     Baa3  BBB-   99.218  5.860  \n",
       "5  10/15/2030      Ba2   BB+   91.473  6.933  \n",
       "6  02/15/2026       WR   BB+  104.500  4.431  \n",
       "7  02/15/2026            BB+   97.546  6.502  \n",
       "8  02/15/2030      Ba2   BB+   85.135  6.927  \n",
       "9  06/15/2028      Ba2   BB+   93.560  6.546  "
      ]
     },
     "execution_count": 58,
     "metadata": {},
     "output_type": "execute_result"
    }
   ],
   "source": [
    "bond_prices_df"
   ]
  },
  {
   "cell_type": "code",
   "execution_count": 59,
   "metadata": {},
   "outputs": [],
   "source": [
    "def bond_dataframe_filter(df):\n",
    "    df['Yield'].replace(\"\", np.nan, inplace=True)\n",
    "    df[\"Moody's®\"].replace({\"WR\": np.nan, \"\": np.nan}, inplace=True)\n",
    "    df[\"S&P\"].replace({\"NR\": np.nan, \"\": np.nan}, inplace=True)\n",
    "    df = df.dropna(subset=[\"Yield\"])\n",
    "    df = df.dropna(subset=[\"Moody's®\"])\n",
    "    df = df.dropna(subset=[\"S&P\"])\n",
    "    \n",
    "    df[\"Yield\"] = df[\"Yield\"].astype(float)\n",
    "    df[\"Coupon\"] = df[\"Coupon\"].astype(float)\n",
    "    df[\"Price\"] = df[\"Price\"].astype(float)\n",
    "    \n",
    "    now = dt.strptime(date.today().strftime(\"%m/%d/%Y\"), \"%m/%d/%Y\")\n",
    "    df[\"Maturity\"] = pd.to_datetime(df[\"Maturity\"]).dt.strftime(\"%m/%d/%Y\")\n",
    "    \n",
    "    daystillmaturity = []\n",
    "    yearstillmaturity = []\n",
    "    for maturity in df[\"Maturity\"]:\n",
    "        daystillmaturity.append((dt.strptime(maturity, \"%m/%d/%Y\") - now).days)\n",
    "        yearstillmaturity.append((dt.strptime(maturity, \"%m/%d/%Y\") - now).days / 360)\n",
    "    \n",
    "    df[\"Maturity\"] = pd.Series(daystillmaturity)\n",
    "    df[\"Maturity Years\"] = (round(pd.Series(yearstillmaturity) / 0.5) * 0.5)  # Better for Semi-Annual Payments\n",
    "    df[\"Maturity\"] = df[\"Maturity\"].astype(float)\n",
    "    years_mask = (df[\"Maturity Years\"] > 0) & (df[\"Maturity Years\"] <= 5)\n",
    "    \n",
    "    df = df.loc[years_mask]\n",
    "\n",
    "    return df\n"
   ]
  },
  {
   "cell_type": "code",
   "execution_count": 60,
   "metadata": {},
   "outputs": [
    {
     "data": {
      "text/html": [
       "<div>\n",
       "<style scoped>\n",
       "    .dataframe tbody tr th:only-of-type {\n",
       "        vertical-align: middle;\n",
       "    }\n",
       "\n",
       "    .dataframe tbody tr th {\n",
       "        vertical-align: top;\n",
       "    }\n",
       "\n",
       "    .dataframe thead th {\n",
       "        text-align: right;\n",
       "    }\n",
       "</style>\n",
       "<table border=\"1\" class=\"dataframe\">\n",
       "  <thead>\n",
       "    <tr style=\"text-align: right;\">\n",
       "      <th></th>\n",
       "      <th>Issuer Name</th>\n",
       "      <th>Symbol</th>\n",
       "      <th>Callable</th>\n",
       "      <th>Sub-Product Type</th>\n",
       "      <th>Coupon</th>\n",
       "      <th>Maturity</th>\n",
       "      <th>Moody's®</th>\n",
       "      <th>S&amp;P</th>\n",
       "      <th>Price</th>\n",
       "      <th>Yield</th>\n",
       "      <th>Maturity Years</th>\n",
       "    </tr>\n",
       "  </thead>\n",
       "  <tbody>\n",
       "    <tr>\n",
       "      <th>2</th>\n",
       "      <td>HESS CORP</td>\n",
       "      <td>HES4136877</td>\n",
       "      <td>Yes</td>\n",
       "      <td>Corporate Bond</td>\n",
       "      <td>3.5</td>\n",
       "      <td>565.0</td>\n",
       "      <td>Baa3</td>\n",
       "      <td>BBB-</td>\n",
       "      <td>97.231</td>\n",
       "      <td>5.395</td>\n",
       "      <td>1.5</td>\n",
       "    </tr>\n",
       "    <tr>\n",
       "      <th>3</th>\n",
       "      <td>HESS CORP</td>\n",
       "      <td>HES4405829</td>\n",
       "      <td>Yes</td>\n",
       "      <td>Corporate Bond</td>\n",
       "      <td>4.3</td>\n",
       "      <td>1555.0</td>\n",
       "      <td>Baa3</td>\n",
       "      <td>BBB-</td>\n",
       "      <td>95.752</td>\n",
       "      <td>5.430</td>\n",
       "      <td>4.5</td>\n",
       "    </tr>\n",
       "  </tbody>\n",
       "</table>\n",
       "</div>"
      ],
      "text/plain": [
       "  Issuer Name      Symbol Callable Sub-Product Type  Coupon  Maturity  \\\n",
       "2   HESS CORP  HES4136877      Yes   Corporate Bond     3.5     565.0   \n",
       "3   HESS CORP  HES4405829      Yes   Corporate Bond     4.3    1555.0   \n",
       "\n",
       "  Moody's®   S&P   Price  Yield  Maturity Years  \n",
       "2     Baa3  BBB-  97.231  5.395             1.5  \n",
       "3     Baa3  BBB-  95.752  5.430             4.5  "
      ]
     },
     "execution_count": 60,
     "metadata": {},
     "output_type": "execute_result"
    }
   ],
   "source": [
    "bond_df_result = bond_dataframe_filter(bond_prices_df)\n",
    "bond_df_result"
   ]
  },
  {
   "cell_type": "markdown",
   "metadata": {},
   "source": [
    "## Risk adjusted discount rate"
   ]
  },
  {
   "cell_type": "markdown",
   "metadata": {},
   "source": [
    "\\begin{equation*}\n",
    "BOND\\ PRICE = \\frac{ECF_1}{1+d}\\ +\\ \\frac{ECF_2}{(1+d)^2}\\ +\\ \\frac{ECF_3}{(1+d)^3}\n",
    "\\end{equation*}"
   ]
  },
  {
   "cell_type": "markdown",
   "metadata": {},
   "source": [
    "This discount rate includes risk free rate plus the risk premium associated with any bond (country + default risk premium)."
   ]
  },
  {
   "cell_type": "markdown",
   "metadata": {},
   "source": [
    "$ECF_1 = (P)*(Default\\ Payout)\\ +\\ (1-P)*(Coupon\\ Payment)$<br>\n",
    "$ECF_2 = (1-P)*\\{(P)\\ *(Default\\ Payout)\\ +\\ (1-P)*(Coupon\\ Payment)\\}$<br>\n",
    "$ECF_3 = (1-P)^2*\\{(P)\\ *(Default\\ Payout)\\ +\\ (1-P)*(Coupon\\ Payment\\ +\\ Principal)\\}$<br>\n",
    "\n",
    "$P = Probability\\ of\\ Default$<br>\n",
    "$Default\\ Payout = Principal\\ *\\ Recovery\\ Rate$<br>"
   ]
  },
  {
   "cell_type": "markdown",
   "metadata": {},
   "source": [
    "If we know the discounted rate, we can use to identify market implied default probability of any corporate bond which in turn will help up to estimate risk in investing in any company bond."
   ]
  },
  {
   "cell_type": "markdown",
   "metadata": {},
   "source": [
    "**_Risk-adjusted Discount Rate = Risk-free Interest Rate + Expected Risk Premium_**\n",
    "\n",
    "**_Expected Risk Premium = (Market Rate of Return - Risk-free Rate of Return) * Beta_**\n",
    "\n",
    "\n",
    "$$r_m = r_f\\ +(\\beta*MRP)$$<br>\n",
    "$r_m = Market\\ Rate\\ of\\ Return$<br>\n",
    "$r_f = Riskfree\\ Rate$<br>\n",
    "$\\beta = Beta$<br>\n",
    "$MRP = Market\\ Risk\\ Premium$<br>\n",
    "\n",
    "Beta can be approximated by selecting any proxy short term corporate bond"
   ]
  },
  {
   "cell_type": "code",
   "execution_count": 61,
   "metadata": {},
   "outputs": [],
   "source": [
    "# Ten-Year Risk-free Rate\n",
    "\n",
    "timespan = 100\n",
    "current_date = date.today()\n",
    "past_date = current_date - timedelta(days=timespan)"
   ]
  },
  {
   "cell_type": "code",
   "execution_count": 62,
   "metadata": {},
   "outputs": [
    {
     "name": "stdout",
     "output_type": "stream",
     "text": [
      "[*********************100%***********************]  1 of 1 completed\n"
     ]
    }
   ],
   "source": [
    "ten_year_risk_free_rate_df = yf.download(\"^TNX\", past_date, current_date)"
   ]
  },
  {
   "cell_type": "code",
   "execution_count": 63,
   "metadata": {},
   "outputs": [
    {
     "data": {
      "text/plain": [
       "0.03886999845504761"
      ]
     },
     "execution_count": 63,
     "metadata": {},
     "output_type": "execute_result"
    }
   ],
   "source": [
    "ten_year_risk_free_rate = (\n",
    "    ten_year_risk_free_rate_df.iloc[len(ten_year_risk_free_rate_df) - 1, 3]\n",
    ") / 100\n",
    "ten_year_risk_free_rate"
   ]
  },
  {
   "cell_type": "code",
   "execution_count": 64,
   "metadata": {},
   "outputs": [],
   "source": [
    "\"\"\" From ashwath damodran published country wise risk premium list, we can get\"\"\"\n",
    "# Market Risk Premium\n",
    "market_risk_premium = 0.0472\n",
    "# Market Equity Beta (its one only as we are comparing with itself)\n",
    "stock_market_beta = 1"
   ]
  },
  {
   "cell_type": "code",
   "execution_count": 65,
   "metadata": {},
   "outputs": [
    {
     "data": {
      "text/plain": [
       "0.0860699984550476"
      ]
     },
     "execution_count": 65,
     "metadata": {},
     "output_type": "execute_result"
    }
   ],
   "source": [
    "market_rate_of_return = ten_year_risk_free_rate + (stock_market_beta * market_risk_premium)\n",
    "market_rate_of_return"
   ]
  },
  {
   "cell_type": "code",
   "execution_count": 66,
   "metadata": {},
   "outputs": [
    {
     "data": {
      "text/plain": [
       "0.0038206383508816444"
      ]
     },
     "execution_count": 66,
     "metadata": {},
     "output_type": "execute_result"
    }
   ],
   "source": [
    "# One-Year Risk-free Rate\n",
    "one_year_risk_free_rate = (1 + ten_year_risk_free_rate) ** (1 / 10) - 1\n",
    "one_year_risk_free_rate"
   ]
  },
  {
   "cell_type": "code",
   "execution_count": 67,
   "metadata": {},
   "outputs": [],
   "source": [
    "bond_fund_ticker = \"VCSH\""
   ]
  },
  {
   "cell_type": "code",
   "execution_count": 68,
   "metadata": {},
   "outputs": [
    {
     "name": "stdout",
     "output_type": "stream",
     "text": [
      "[*********************100%***********************]  1 of 1 completed\n",
      "[*********************100%***********************]  1 of 1 completed\n"
     ]
    }
   ],
   "source": [
    "market_data = yf.download(\"SPY\", past_date, current_date)  # the market\n",
    "fund_data = yf.download(\"VCSH\", past_date, current_date)"
   ]
  },
  {
   "cell_type": "markdown",
   "metadata": {},
   "source": [
    "### Calculate beta using 2 approaches"
   ]
  },
  {
   "cell_type": "code",
   "execution_count": 69,
   "metadata": {},
   "outputs": [
    {
     "name": "stdout",
     "output_type": "stream",
     "text": [
      "covariance between fund and market:  8.5199898004917\n",
      "market variance:  195.2614218405008\n",
      "bond fund beta (using covariance/variance):  0.04363375888684889\n"
     ]
    }
   ],
   "source": [
    "fund_market_cov = fund_data[\"Adj Close\"].cov(market_data[\"Adj Close\"])\n",
    "print(\"covariance between fund and market: \", fund_market_cov)\n",
    "\n",
    "market_var = market_data[\"Adj Close\"].var()\n",
    "print(\"market variance: \", market_var)\n",
    "\n",
    "bond_fund_beta_cv = fund_market_cov / market_var\n",
    "print(\"bond fund beta (using covariance/variance): \", bond_fund_beta_cv)\n"
   ]
  },
  {
   "cell_type": "code",
   "execution_count": 70,
   "metadata": {},
   "outputs": [
    {
     "data": {
      "text/plain": [
       "0.04363375888684889"
      ]
     },
     "execution_count": 70,
     "metadata": {},
     "output_type": "execute_result"
    }
   ],
   "source": [
    "bond_beta = bond_fund_beta_cv\n",
    "bond_beta"
   ]
  },
  {
   "cell_type": "code",
   "execution_count": 71,
   "metadata": {},
   "outputs": [
    {
     "data": {
      "text/plain": [
       "0.003588848747382786"
      ]
     },
     "execution_count": 71,
     "metadata": {},
     "output_type": "execute_result"
    }
   ],
   "source": [
    "# Expected Risk Premium\n",
    "expected_risk_premium = (market_rate_of_return - one_year_risk_free_rate) * bond_beta\n",
    "expected_risk_premium"
   ]
  },
  {
   "cell_type": "code",
   "execution_count": 72,
   "metadata": {},
   "outputs": [
    {
     "data": {
      "text/plain": [
       "0.007409487098264431"
      ]
     },
     "execution_count": 72,
     "metadata": {},
     "output_type": "execute_result"
    }
   ],
   "source": [
    "risk_adjusted_discount_rate = one_year_risk_free_rate + expected_risk_premium\n",
    "risk_adjusted_discount_rate"
   ]
  },
  {
   "cell_type": "markdown",
   "metadata": {},
   "source": [
    "## Using SymPy : Solving for Probability of default \n",
    "\n",
    "We will use `SymPy` package to calculate the probability of default by equating future expected cash flows with the current price of the corporate bond when discounted at the risk-adjusted rate as explained above"
   ]
  },
  {
   "cell_type": "code",
   "execution_count": 73,
   "metadata": {},
   "outputs": [
    {
     "data": {
      "text/html": [
       "<div>\n",
       "<style scoped>\n",
       "    .dataframe tbody tr th:only-of-type {\n",
       "        vertical-align: middle;\n",
       "    }\n",
       "\n",
       "    .dataframe tbody tr th {\n",
       "        vertical-align: top;\n",
       "    }\n",
       "\n",
       "    .dataframe thead th {\n",
       "        text-align: right;\n",
       "    }\n",
       "</style>\n",
       "<table border=\"1\" class=\"dataframe\">\n",
       "  <thead>\n",
       "    <tr style=\"text-align: right;\">\n",
       "      <th></th>\n",
       "      <th>Issuer Name</th>\n",
       "      <th>Symbol</th>\n",
       "      <th>Callable</th>\n",
       "      <th>Sub-Product Type</th>\n",
       "      <th>Coupon</th>\n",
       "      <th>Maturity</th>\n",
       "      <th>Moody's®</th>\n",
       "      <th>S&amp;P</th>\n",
       "      <th>Price</th>\n",
       "      <th>Yield</th>\n",
       "      <th>Maturity Years</th>\n",
       "    </tr>\n",
       "  </thead>\n",
       "  <tbody>\n",
       "    <tr>\n",
       "      <th>2</th>\n",
       "      <td>HESS CORP</td>\n",
       "      <td>HES4136877</td>\n",
       "      <td>Yes</td>\n",
       "      <td>Corporate Bond</td>\n",
       "      <td>3.5</td>\n",
       "      <td>565.0</td>\n",
       "      <td>Baa3</td>\n",
       "      <td>BBB-</td>\n",
       "      <td>97.231</td>\n",
       "      <td>5.395</td>\n",
       "      <td>1.5</td>\n",
       "    </tr>\n",
       "    <tr>\n",
       "      <th>3</th>\n",
       "      <td>HESS CORP</td>\n",
       "      <td>HES4405829</td>\n",
       "      <td>Yes</td>\n",
       "      <td>Corporate Bond</td>\n",
       "      <td>4.3</td>\n",
       "      <td>1555.0</td>\n",
       "      <td>Baa3</td>\n",
       "      <td>BBB-</td>\n",
       "      <td>95.752</td>\n",
       "      <td>5.430</td>\n",
       "      <td>4.5</td>\n",
       "    </tr>\n",
       "  </tbody>\n",
       "</table>\n",
       "</div>"
      ],
      "text/plain": [
       "  Issuer Name      Symbol Callable Sub-Product Type  Coupon  Maturity  \\\n",
       "2   HESS CORP  HES4136877      Yes   Corporate Bond     3.5     565.0   \n",
       "3   HESS CORP  HES4405829      Yes   Corporate Bond     4.3    1555.0   \n",
       "\n",
       "  Moody's®   S&P   Price  Yield  Maturity Years  \n",
       "2     Baa3  BBB-  97.231  5.395             1.5  \n",
       "3     Baa3  BBB-  95.752  5.430             4.5  "
      ]
     },
     "execution_count": 73,
     "metadata": {},
     "output_type": "execute_result"
    }
   ],
   "source": [
    "bond_df_result"
   ]
  },
  {
   "cell_type": "code",
   "execution_count": 74,
   "metadata": {},
   "outputs": [],
   "source": [
    "principal_payment = 100\n",
    "recovery_rate = 0.40\n",
    "P = sp.symbols(\"P\")"
   ]
  },
  {
   "cell_type": "code",
   "execution_count": 75,
   "metadata": {},
   "outputs": [],
   "source": [
    "def calculate_bond_default_prob(coupon, maturity_years, bond_price, recovery_rate, principal, risk_adjusted_dr):\n",
    "    cash_flow_time = np.arange(0.5, maturity_years + 0.5, 0.5)\n",
    "    semi_annual_coupon = coupon / 2\n",
    "    cash_flow_values = np.array([])\n",
    "    \n",
    "    for i in cash_flow_time[:-1]:\n",
    "        cash_flow_values = np.append(cash_flow_values, (semi_annual_coupon/100)*principal)\n",
    "    cash_flow_values = np.append(cash_flow_values, (semi_annual_coupon/100)*principal + principal)\n",
    "    \n",
    "    prob_default_exp = 0\n",
    "    for i in range(len(cash_flow_time)):\n",
    "        discount_factor = np.power((1 + risk_adjusted_dr), cash_flow_time[i])\n",
    "        temp = (P * recovery_rate * cash_flow_values[i] + cash_flow_values[i]*(1-P))\n",
    "        if len(cash_flow_time) == 1:\n",
    "            prob_default_exp += temp / discount_factor\n",
    "        else:\n",
    "            if cash_flow_time[i] == 0.5:\n",
    "                prob_default_exp += temp / discount_factor\n",
    "            else:\n",
    "                prob_default_exp += (np.power((1-P), cash_flow_time[i-1]) * temp ) /discount_factor\n",
    "    prob_default_exp = prob_default_exp - bond_price\n",
    "    implied_prob_default = sp.solve(prob_default_exp, P)\n",
    "    implied_prob_default = round(float(implied_prob_default[0]) * 100, 2)\n",
    "\n",
    "    if implied_prob_default < 0:\n",
    "        return 0.0\n",
    "    else:\n",
    "        return implied_prob_default"
   ]
  },
  {
   "cell_type": "code",
   "execution_count": 79,
   "metadata": {},
   "outputs": [
    {
     "data": {
      "text/plain": [
       "2    4.26\n",
       "dtype: float64"
      ]
     },
     "execution_count": 79,
     "metadata": {},
     "output_type": "execute_result"
    }
   ],
   "source": [
    "bond_df_result.head(1).apply(\n",
    "    lambda row: calculate_bond_default_prob(\n",
    "        row[\"Coupon\"],\n",
    "        row[\"Maturity Years\"],\n",
    "        row[\"Price\"],\n",
    "        recovery_rate,\n",
    "        principal_payment,\n",
    "        risk_adjusted_discount_rate\n",
    "    ),\n",
    "    axis=1,\n",
    ")"
   ]
  },
  {
   "cell_type": "code",
   "execution_count": 80,
   "metadata": {},
   "outputs": [],
   "source": [
    "def incr(n):\n",
    "    return lambda x : x+n"
   ]
  },
  {
   "cell_type": "code",
   "execution_count": null,
   "metadata": {},
   "outputs": [],
   "source": []
  },
  {
   "cell_type": "code",
   "execution_count": null,
   "metadata": {},
   "outputs": [],
   "source": []
  }
 ],
 "metadata": {
  "kernelspec": {
   "display_name": "Python 3",
   "language": "python",
   "name": "python3"
  },
  "language_info": {
   "codemirror_mode": {
    "name": "ipython",
    "version": 3
   },
   "file_extension": ".py",
   "mimetype": "text/x-python",
   "name": "python",
   "nbconvert_exporter": "python",
   "pygments_lexer": "ipython3",
   "version": "3.7.3"
  }
 },
 "nbformat": 4,
 "nbformat_minor": 2
}
