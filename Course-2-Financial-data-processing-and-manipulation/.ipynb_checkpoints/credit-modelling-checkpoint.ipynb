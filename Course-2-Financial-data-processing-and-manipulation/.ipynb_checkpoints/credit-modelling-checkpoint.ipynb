{
 "cells": [
  {
   "cell_type": "markdown",
   "metadata": {},
   "source": [
    "### Computing PD using bond prices"
   ]
  },
  {
   "cell_type": "code",
   "execution_count": 1,
   "metadata": {},
   "outputs": [],
   "source": [
    "import time\n",
    "from datetime import date\n",
    "from datetime import datetime as dt\n",
    "\n",
    "import numpy as np\n",
    "import pandas as pd"
   ]
  },
  {
   "cell_type": "code",
   "execution_count": 2,
   "metadata": {},
   "outputs": [],
   "source": [
    "from selenium import webdriver\n",
    "from webdriver_manager.chrome import ChromeDriverManager\n",
    "from selenium.webdriver.chrome.service import Service\n",
    "from selenium.webdriver.chrome.options import Options\n",
    "from selenium.webdriver.common.by import By\n",
    "from selenium.webdriver.support.ui import Select, WebDriverWait\n",
    "from selenium.webdriver.support import expected_conditions as EC"
   ]
  },
  {
   "cell_type": "code",
   "execution_count": 3,
   "metadata": {},
   "outputs": [],
   "source": [
    "options = Options()\n",
    "options.add_argument(\"--headless\")\n",
    "options.add_argument(\"--no-sandbox\")\n",
    "options.add_argument(\"--disable-dev-shm-usage\")\n",
    "driver = webdriver.Chrome(\n",
    "    service=Service(ChromeDriverManager().install()), options=options\n",
    ")"
   ]
  },
  {
   "cell_type": "code",
   "execution_count": 4,
   "metadata": {},
   "outputs": [],
   "source": [
    "driver.get(\"http://finra-markets.morningstar.com/BondCenter/Results.jsp\")"
   ]
  },
  {
   "cell_type": "markdown",
   "metadata": {},
   "source": [
    "#### Define company name, company ticker and coupon frequency"
   ]
  },
  {
   "cell_type": "code",
   "execution_count": 5,
   "metadata": {},
   "outputs": [],
   "source": [
    "company_ticker = \"HES\"\n",
    "company_name = \"Hess\"\n",
    "coupon_frequency = \"Semi-Annual\""
   ]
  },
  {
   "cell_type": "code",
   "execution_count": 6,
   "metadata": {},
   "outputs": [],
   "source": [
    "# click agree\n",
    "WebDriverWait(driver, 10).until(\n",
    "    EC.element_to_be_clickable((By.CSS_SELECTOR, \".button_blue.agree\"))\n",
    ").click()"
   ]
  },
  {
   "cell_type": "code",
   "execution_count": 7,
   "metadata": {},
   "outputs": [],
   "source": [
    "# click edit search\n",
    "WebDriverWait(driver, 10).until(\n",
    "    EC.element_to_be_clickable((By.CSS_SELECTOR, \"a.qs-ui-btn.blue\"))\n",
    ").click()"
   ]
  },
  {
   "cell_type": "code",
   "execution_count": 8,
   "metadata": {},
   "outputs": [],
   "source": [
    "# input Issuer Name\n",
    "WebDriverWait(driver, 10).until(\n",
    "    EC.presence_of_element_located((By.CSS_SELECTOR, \"input[id=firscreener-issuer]\"))\n",
    ")\n",
    "inputElement = driver.find_element(By.ID, \"firscreener-issuer\")\n",
    "inputElement.send_keys(company_name)"
   ]
  },
  {
   "cell_type": "code",
   "execution_count": 9,
   "metadata": {},
   "outputs": [],
   "source": [
    "# input Symbol\n",
    "WebDriverWait(driver, 10).until(\n",
    "    EC.presence_of_element_located((By.CSS_SELECTOR, \"input[id=firscreener-cusip]\"))\n",
    ")\n",
    "inputElement = driver.find_element(By.ID, \"firscreener-cusip\")\n",
    "inputElement.send_keys(company_ticker)"
   ]
  },
  {
   "cell_type": "code",
   "execution_count": 10,
   "metadata": {},
   "outputs": [],
   "source": [
    "# click advanced search\n",
    "WebDriverWait(driver, 10).until(\n",
    "    EC.element_to_be_clickable((By.CSS_SELECTOR, \"a.ms-display-switcher.hide\"))\n",
    ").click()"
   ]
  },
  {
   "cell_type": "code",
   "execution_count": 11,
   "metadata": {},
   "outputs": [],
   "source": [
    "# input Coupon Frequency\n",
    "WebDriverWait(driver, 10).until(\n",
    "    EC.presence_of_element_located((By.CSS_SELECTOR, \"select[name=interestFrequency]\"))\n",
    ")\n",
    "Select(\n",
    "    (driver.find_elements(By.CSS_SELECTOR, \"select[name=interestFrequency]\"))[0]\n",
    ").select_by_visible_text(coupon_frequency)"
   ]
  },
  {
   "cell_type": "code",
   "execution_count": 12,
   "metadata": {},
   "outputs": [],
   "source": [
    "# click show results\n",
    "WebDriverWait(driver, 10).until(\n",
    "    EC.element_to_be_clickable((By.CSS_SELECTOR, \"input.button_blue[type=submit]\"))\n",
    ").click()"
   ]
  },
  {
   "cell_type": "code",
   "execution_count": 13,
   "metadata": {},
   "outputs": [
    {
     "data": {
      "text/plain": [
       "<selenium.webdriver.remote.webelement.WebElement (session=\"d32107d85b567f1ed7216281ef8babef\", element=\"3f33ab8a-6bfb-42de-a9ec-37e609f4f09f\")>"
      ]
     },
     "execution_count": 13,
     "metadata": {},
     "output_type": "execute_result"
    }
   ],
   "source": [
    "# wait for results\n",
    "WebDriverWait(driver, 10).until(\n",
    "    EC.presence_of_element_located(\n",
    "        (By.CSS_SELECTOR, \".rtq-grid-row.rtq-grid-rzrow .rtq-grid-cell-ctn\")\n",
    "    )\n",
    ")"
   ]
  },
  {
   "cell_type": "code",
   "execution_count": 14,
   "metadata": {},
   "outputs": [],
   "source": [
    "# create DataFrame from scrape\n",
    "frames = []\n",
    "for page in range(1, 11):\n",
    "    bonds = []\n",
    "    WebDriverWait(driver, 10).until(\n",
    "        EC.presence_of_element_located(\n",
    "            (By.CSS_SELECTOR, (f\"a.qs-pageutil-btn[value='{str(page)}']\"))\n",
    "        )\n",
    "    )  # wait for page marker to be on expected page\n",
    "    time.sleep(2)\n",
    "\n",
    "    headers = [\n",
    "        title.text\n",
    "        for title in driver.find_elements(By.CSS_SELECTOR,\n",
    "            \".rtq-grid-row.rtq-grid-rzrow .rtq-grid-cell-ctn\"\n",
    "        )[1:]\n",
    "    ]\n",
    "\n",
    "    tablerows = driver.find_elements(By.CSS_SELECTOR,\n",
    "        \"div.rtq-grid-bd > div.rtq-grid-row\"\n",
    "    )\n",
    "    for tablerow in tablerows:\n",
    "        tablerowdata = tablerow.find_elements(By.CSS_SELECTOR, \"div.rtq-grid-cell\")\n",
    "        bond = [item.text for item in tablerowdata[1:]]\n",
    "        bonds.append(bond)\n",
    "\n",
    "        # Convert to DataFrame\n",
    "        df = pd.DataFrame(bonds, columns=headers)\n",
    "\n",
    "    frames.append(df)\n",
    "\n",
    "    try:\n",
    "        driver.find_element(By.CSS_SELECTOR, \"a.qs-pageutil-next\").click()\n",
    "    except:  # noqa E722\n",
    "        break\n",
    "\n",
    "bond_prices_df = pd.concat(frames)"
   ]
  },
  {
   "cell_type": "code",
   "execution_count": null,
   "metadata": {},
   "outputs": [],
   "source": []
  },
  {
   "cell_type": "code",
   "execution_count": null,
   "metadata": {},
   "outputs": [],
   "source": []
  }
 ],
 "metadata": {
  "kernelspec": {
   "display_name": "Python 3",
   "language": "python",
   "name": "python3"
  },
  "language_info": {
   "codemirror_mode": {
    "name": "ipython",
    "version": 3
   },
   "file_extension": ".py",
   "mimetype": "text/x-python",
   "name": "python",
   "nbconvert_exporter": "python",
   "pygments_lexer": "ipython3",
   "version": "3.7.3"
  }
 },
 "nbformat": 4,
 "nbformat_minor": 2
}
