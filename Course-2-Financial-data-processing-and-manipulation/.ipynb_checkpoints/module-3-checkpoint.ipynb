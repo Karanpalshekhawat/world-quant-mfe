{
 "cells": [
  {
   "cell_type": "code",
   "execution_count": 16,
   "metadata": {},
   "outputs": [],
   "source": [
    "import datetime\n",
    "import math\n",
    "import numpy as np\n",
    "import pandas_datareader.data as web"
   ]
  },
  {
   "cell_type": "code",
   "execution_count": 5,
   "metadata": {},
   "outputs": [],
   "source": [
    "start = datetime.date.today() - datetime.timedelta(365 * 10)\n",
    "end = datetime.date.today()"
   ]
  },
  {
   "cell_type": "code",
   "execution_count": 6,
   "metadata": {},
   "outputs": [],
   "source": [
    "# if it gives \"RemoteDataError: No data fetched using 'YahooDailyReader'\" error, just clear your cache\n",
    "prices = web.DataReader([\"GE\"], \"yahoo\", start, end)[\"Adj Close\"]"
   ]
  },
  {
   "cell_type": "code",
   "execution_count": 9,
   "metadata": {},
   "outputs": [
    {
     "name": "stdout",
     "output_type": "stream",
     "text": [
      "With an initial investment of $13577.91, the cash return of this investment would be (83.020 - 135.779) * 100 = $-5275.925\n"
     ]
    }
   ],
   "source": [
    "initialPrice = prices.GE[0]\n",
    "finalPrice = prices.GE[-1]\n",
    "cashReturn = (finalPrice - initialPrice) * 100\n",
    "print(\n",
    "    \"With an initial investment of $%.2f, the cash return of this investment would be (%.3f - %.3f) * 100 = $%.3f\"\n",
    "    % (initialPrice * 100, finalPrice, initialPrice, cashReturn)\n",
    ")"
   ]
  },
  {
   "cell_type": "markdown",
   "metadata": {},
   "source": [
    "### Return on basket of assets"
   ]
  },
  {
   "cell_type": "code",
   "execution_count": 10,
   "metadata": {},
   "outputs": [
    {
     "name": "stdout",
     "output_type": "stream",
     "text": [
      "We have an initial investment in FB of $2675.00 and in CMG $28668.00\n"
     ]
    }
   ],
   "source": [
    "prices = web.DataReader([\"META\", \"CMG\"], \"yahoo\", start, end)[\"Adj Close\"]\n",
    "prices = prices.rename(columns = {'META': 'FB'})\n",
    "initialFB = prices.FB[0]\n",
    "initialCMG = prices.CMG[0]\n",
    "finalFB = prices.FB[-1]\n",
    "finalCMG = prices.CMG[-1]\n",
    "FBWeight = initialFB / (initialFB + initialCMG)\n",
    "CMGWeight = initialCMG / (initialFB + initialCMG)\n",
    "\n",
    "print(\n",
    "    \"We have an initial investment in FB of $%.2f and in CMG $%.2f\"\n",
    "    % (initialFB * 100, initialCMG * 100)\n",
    ")"
   ]
  },
  {
   "cell_type": "code",
   "execution_count": 11,
   "metadata": {},
   "outputs": [
    {
     "name": "stdout",
     "output_type": "stream",
     "text": [
      "This would make the weights 0.09 and 0.91 for FB and CMG respectively\n"
     ]
    }
   ],
   "source": [
    "print(\n",
    "    \"This would make the weights %.2f and %.2f for FB and CMG respectively\"\n",
    "    % (FBWeight, CMGWeight)\n",
    ")"
   ]
  },
  {
   "cell_type": "code",
   "execution_count": 12,
   "metadata": {},
   "outputs": [],
   "source": [
    "returnFB = 100 * (finalFB - initialFB) / initialFB\n",
    "returnCMG = 100 * (finalCMG - initialCMG) / initialCMG"
   ]
  },
  {
   "cell_type": "code",
   "execution_count": 14,
   "metadata": {},
   "outputs": [
    {
     "name": "stdout",
     "output_type": "stream",
     "text": [
      "This return over this period for Facebook is 362.02% and 440.66% for Chipotle\n"
     ]
    }
   ],
   "source": [
    "print(\n",
    "    \"This return over this period for Facebook is %.2f%% and %.2f%% for Chipotle\"\n",
    "    % (returnFB, returnCMG)\n",
    ")"
   ]
  },
  {
   "cell_type": "markdown",
   "metadata": {},
   "source": [
    "### Calculating Portoflio return\n",
    "\n",
    "#### It will be directly calculated as weighted mean of returns on individual security"
   ]
  },
  {
   "cell_type": "code",
   "execution_count": 15,
   "metadata": {},
   "outputs": [
    {
     "name": "stdout",
     "output_type": "stream",
     "text": [
      "Multiplying these individual returns by their weights gives 30.90 (FB) and 403.05 (CMG)\n"
     ]
    }
   ],
   "source": [
    "print(\n",
    "    \"Multiplying these individual returns by their weights gives %.2f (FB) and %.2f (CMG)\"\n",
    "    % (returnFB * FBWeight, returnCMG * CMGWeight)\n",
    ")"
   ]
  },
  {
   "cell_type": "markdown",
   "metadata": {},
   "source": [
    "### Calculating portfolio variance\n",
    "\n",
    "#### Apart from individual standard deviation, we also have to think about correlation parameter between 2 securities and use weights accordingly"
   ]
  },
  {
   "cell_type": "code",
   "execution_count": 22,
   "metadata": {},
   "outputs": [],
   "source": [
    "weights = np.array([FBWeight, CMGWeight])\n",
    "returns = prices.pct_change()\n",
    "covariance = 252 * returns.cov()  # annuallize"
   ]
  },
  {
   "cell_type": "code",
   "execution_count": 23,
   "metadata": {},
   "outputs": [
    {
     "name": "stdout",
     "output_type": "stream",
     "text": [
      "11.03%\n"
     ]
    }
   ],
   "source": [
    "variance = np.dot(weights.T, np.dot(covariance, weights))\n",
    "\n",
    "# Print the result\n",
    "print(str(np.round(variance, 4) * 100) + \"%\")"
   ]
  },
  {
   "cell_type": "code",
   "execution_count": 28,
   "metadata": {},
   "outputs": [
    {
     "data": {
      "text/plain": [
       "Symbols\n",
       "FB     0.145320\n",
       "CMG    0.121951\n",
       "dtype: float64"
      ]
     },
     "execution_count": 28,
     "metadata": {},
     "output_type": "execute_result"
    }
   ],
   "source": [
    "#individual variance\n",
    "returns.var()*252\n",
    "\n",
    "#overall variance has decreased due to correalation, diversification reduces risk"
   ]
  },
  {
   "cell_type": "code",
   "execution_count": 29,
   "metadata": {},
   "outputs": [
    {
     "data": {
      "text/html": [
       "<div>\n",
       "<style scoped>\n",
       "    .dataframe tbody tr th:only-of-type {\n",
       "        vertical-align: middle;\n",
       "    }\n",
       "\n",
       "    .dataframe tbody tr th {\n",
       "        vertical-align: top;\n",
       "    }\n",
       "\n",
       "    .dataframe thead th {\n",
       "        text-align: right;\n",
       "    }\n",
       "</style>\n",
       "<table border=\"1\" class=\"dataframe\">\n",
       "  <thead>\n",
       "    <tr style=\"text-align: right;\">\n",
       "      <th>Symbols</th>\n",
       "      <th>FB</th>\n",
       "      <th>CMG</th>\n",
       "    </tr>\n",
       "    <tr>\n",
       "      <th>Symbols</th>\n",
       "      <th></th>\n",
       "      <th></th>\n",
       "    </tr>\n",
       "  </thead>\n",
       "  <tbody>\n",
       "    <tr>\n",
       "      <th>FB</th>\n",
       "      <td>0.145320</td>\n",
       "      <td>0.046363</td>\n",
       "    </tr>\n",
       "    <tr>\n",
       "      <th>CMG</th>\n",
       "      <td>0.046363</td>\n",
       "      <td>0.121951</td>\n",
       "    </tr>\n",
       "  </tbody>\n",
       "</table>\n",
       "</div>"
      ],
      "text/plain": [
       "Symbols        FB       CMG\n",
       "Symbols                    \n",
       "FB       0.145320  0.046363\n",
       "CMG      0.046363  0.121951"
      ]
     },
     "execution_count": 29,
     "metadata": {},
     "output_type": "execute_result"
    }
   ],
   "source": [
    "covariance"
   ]
  },
  {
   "cell_type": "markdown",
   "metadata": {},
   "source": [
    "### Sharpe ratio is (Portfolio_return - RFR) / (Portfolio_std)"
   ]
  },
  {
   "cell_type": "code",
   "execution_count": 40,
   "metadata": {},
   "outputs": [
    {
     "data": {
      "text/plain": [
       "1.3065072903755177"
      ]
     },
     "execution_count": 40,
     "metadata": {},
     "output_type": "execute_result"
    }
   ],
   "source": [
    "#assuming 0 rfr\n",
    "wt_return = returnFB*FBWeight + returnCMG*CMGWeight\n",
    "return_over_1_year = wt_return / 10\n",
    "sharpe = return_over_1_year / (np.sqrt(variance)*100)\n",
    "sharpe"
   ]
  },
  {
   "cell_type": "markdown",
   "metadata": {},
   "source": [
    "### repeating above on crypto"
   ]
  },
  {
   "cell_type": "code",
   "execution_count": 41,
   "metadata": {},
   "outputs": [],
   "source": [
    "prices = web.DataReader([\"BTC-USD\", \"ETH-USD\"], \"yahoo\", start, end)[\"Adj Close\"]\n",
    "prices = prices.rename(columns={\"BTC-USD\": \"Bitcoin\", \"ETH-USD\": \"Ethereum\"})\n",
    "\n",
    "initialBTC = 5 * prices.Bitcoin[0]\n",
    "initialETH = 100 * prices.Ethereum[0]\n",
    "finalBTC = 10 * prices.Bitcoin[-1]\n",
    "finalETH = 100 * prices.Ethereum[-1]\n",
    "BTCWeight = initialBTC / (initialBTC + initialETH)\n",
    "ETHWeight = initialETH / (initialBTC + initialETH)"
   ]
  },
  {
   "cell_type": "code",
   "execution_count": 42,
   "metadata": {},
   "outputs": [
    {
     "name": "stdout",
     "output_type": "stream",
     "text": [
      "This would make the weights nan and nan for Bitcoin and Ethereum respectively\n"
     ]
    }
   ],
   "source": [
    "print(\n",
    "    \"This would make the weights %.2f and %.2f for Bitcoin and Ethereum respectively\"\n",
    "    % (BTCWeight, ETHWeight)\n",
    ")"
   ]
  },
  {
   "cell_type": "code",
   "execution_count": null,
   "metadata": {},
   "outputs": [],
   "source": []
  }
 ],
 "metadata": {
  "kernelspec": {
   "display_name": "Python 3",
   "language": "python",
   "name": "python3"
  },
  "language_info": {
   "codemirror_mode": {
    "name": "ipython",
    "version": 3
   },
   "file_extension": ".py",
   "mimetype": "text/x-python",
   "name": "python",
   "nbconvert_exporter": "python",
   "pygments_lexer": "ipython3",
   "version": "3.7.3"
  }
 },
 "nbformat": 4,
 "nbformat_minor": 2
}
