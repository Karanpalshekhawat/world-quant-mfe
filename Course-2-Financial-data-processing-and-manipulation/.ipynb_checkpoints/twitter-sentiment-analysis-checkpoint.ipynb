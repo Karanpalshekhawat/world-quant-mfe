{
 "cells": [
  {
   "cell_type": "code",
   "execution_count": 14,
   "metadata": {},
   "outputs": [],
   "source": [
    "import os\n",
    "import nltk\n",
    "import pandas as pd\n",
    "import plotly.express as px\n",
    "\n",
    "from datetime import datetime, timezone"
   ]
  },
  {
   "cell_type": "code",
   "execution_count": 2,
   "metadata": {},
   "outputs": [
    {
     "name": "stderr",
     "output_type": "stream",
     "text": [
      "[nltk_data] Downloading package punkt to\n",
      "[nltk_data]     /Users/karanpalsinghshekhawat/nltk_data...\n",
      "[nltk_data]   Package punkt is already up-to-date!\n"
     ]
    },
    {
     "data": {
      "text/plain": [
       "True"
      ]
     },
     "execution_count": 2,
     "metadata": {},
     "output_type": "execute_result"
    }
   ],
   "source": [
    "nltk.download(\"punkt\")"
   ]
  },
  {
   "cell_type": "code",
   "execution_count": 5,
   "metadata": {},
   "outputs": [],
   "source": [
    "from nrclex import NRCLex # it measures emotion or \"affect\" in a piece of text\n",
    "from twarc import Twarc2\n",
    "from twarc_csv import DataFrameConverter"
   ]
  },
  {
   "cell_type": "code",
   "execution_count": 20,
   "metadata": {},
   "outputs": [],
   "source": [
    "# Bearer_Token = os.environ.get(\"BEARER_TOKEN\")\n",
    "bt = \"AAAAAAAAAAAAAAAAAAAAACI8lAEAAAAA2FRtGjXGLTq91%2BiloRygWC3pGQA%3D20WnJycQXen654ZJBepkLIVP15UWBFd4QU4LmUpHJLwVZLmd69\""
   ]
  },
  {
   "cell_type": "code",
   "execution_count": 21,
   "metadata": {},
   "outputs": [],
   "source": [
    "client = Twarc2(bearer_token=bt)\n",
    "converter = DataFrameConverter()"
   ]
  },
  {
   "cell_type": "code",
   "execution_count": 22,
   "metadata": {},
   "outputs": [],
   "source": [
    "query = \"AAPL lang:en\""
   ]
  },
  {
   "cell_type": "code",
   "execution_count": 23,
   "metadata": {},
   "outputs": [],
   "source": [
    "start_time = datetime(2022, 4, 20, 0, 0, 0, 0, timezone.utc)\n",
    "end_time = datetime(2022, 4, 20, 1, 0, 0, 0, timezone.utc)"
   ]
  },
  {
   "cell_type": "code",
   "execution_count": 24,
   "metadata": {},
   "outputs": [],
   "source": [
    "search_results = client.search_recent(\n",
    "        query=query, start_time=start_time, end_time=end_time, max_results=50\n",
    "    )"
   ]
  },
  {
   "cell_type": "code",
   "execution_count": 26,
   "metadata": {},
   "outputs": [],
   "source": [
    "tweets = converter.process(search_results)"
   ]
  },
  {
   "cell_type": "code",
   "execution_count": null,
   "metadata": {},
   "outputs": [],
   "source": [
    "Tweets = converter.process(search_results)\n",
    "    Tweets_str = Tweets.to_string()\n",
    "\n",
    "    text_object = NRCLex(Tweets_str)\n",
    "    data = text_object.affect_frequencies\n",
    "\n",
    "    emotion_df = pd.DataFrame.from_dict(data, orient=\"index\")\n",
    "    emotion_df = emotion_df.reset_index()\n",
    "    emotion_df = emotion_df.rename(\n",
    "        columns={\"index\": \"Emotion Classification\", 0: \"Emotion Count\"}\n",
    "    )\n",
    "    emotion_df = emotion_df.sort_values(by=[\"Emotion Count\"], ascending=False)\n",
    "\n",
    "    emotion_df.drop(\n",
    "        emotion_df[emotion_df[\"Emotion Classification\"] == \"anticip\"].index,\n",
    "        inplace=True,\n",
    "    )  # This line just fixes a small cosmetic bug in the Twarc library\n",
    "\n",
    "    fig = px.bar(\n",
    "        emotion_df,\n",
    "        x=\"Emotion Count\",\n",
    "        y=\"Emotion Classification\",\n",
    "        color=\"Emotion Classification\",\n",
    "        orientation=\"h\",\n",
    "        width=800,\n",
    "        height=400,\n",
    "    )\n",
    "    fig.show()\n",
    "    \n",
    "## as of now my bearer token is not working but the approach is more or less similar"
   ]
  }
 ],
 "metadata": {
  "kernelspec": {
   "display_name": "Python 3",
   "language": "python",
   "name": "python3"
  },
  "language_info": {
   "codemirror_mode": {
    "name": "ipython",
    "version": 3
   },
   "file_extension": ".py",
   "mimetype": "text/x-python",
   "name": "python",
   "nbconvert_exporter": "python",
   "pygments_lexer": "ipython3",
   "version": "3.7.3"
  }
 },
 "nbformat": 4,
 "nbformat_minor": 2
}
