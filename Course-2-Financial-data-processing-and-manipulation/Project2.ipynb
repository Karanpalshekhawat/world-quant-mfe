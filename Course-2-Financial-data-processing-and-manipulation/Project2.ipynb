{
 "cells": [
  {
   "cell_type": "code",
   "execution_count": 20,
   "metadata": {},
   "outputs": [],
   "source": [
    "import pandas as pd\n",
    "import numpy as np\n",
    "import numpy_financial as nf"
   ]
  },
  {
   "cell_type": "code",
   "execution_count": 21,
   "metadata": {},
   "outputs": [],
   "source": [
    "def find_monthly_amount(principal, annual_rate, years):\n",
    "    \"\"\"\n",
    "    Computes monthly payment for a given loan_balance\n",
    "    \n",
    "    Args:\n",
    "        principal (float) : Loan balance\n",
    "        annual_rate (float) : applicable annualized interest rate\n",
    "        years (int) : number of years left in mortgage\n",
    "    \n",
    "    Returns:\n",
    "        emi amount (float)\n",
    "    \"\"\"\n",
    "    monthly_rate = annual_rate / 12\n",
    "    nper = years * 12\n",
    "    \n",
    "    return nf.pmt(monthly_rate, nper, -principal, 0, when='end')  "
   ]
  },
  {
   "cell_type": "code",
   "execution_count": 27,
   "metadata": {},
   "outputs": [],
   "source": [
    "def fixed_rate_mortgage_ammortization_schedule(principal, monthly_emi, rate, years):\n",
    "    \"\"\"\n",
    "    Computes a mortgage schedule\n",
    "    \n",
    "    Args:\n",
    "        principal (float) : Loan balance\n",
    "        monthly_emi (float) : monthly payout\n",
    "        rate (float) : annualized IR\n",
    "        years (int) : time frame\n",
    "        \n",
    "    Returns:\n",
    "        pandas DataFrame of a payment structure\n",
    "    \"\"\"\n",
    "    columns = ['Fixed Payment Amount', 'Principal Paydown', 'Interest Applied', 'Loan Balance']\n",
    "    df = pd.DataFrame(0, index=np.arange(years * 12 + 1), columns=columns)\n",
    "    df.iloc[0]['Loan Balance'] = principal\n",
    "    for i in range(1, len(df)):\n",
    "        df.loc[i, 'Fixed Payment Amount'] = monthly_emi\n",
    "        df.loc[i, 'Interest Applied'] = (rate / 12) * df.loc[i - 1, 'Loan Balance']\n",
    "        df.loc[i, 'Principal Paydown'] = df.loc[i, 'Fixed Payment Amount'] - df.loc[i, 'Interest Applied']\n",
    "        df.loc[i, 'Loan Balance'] = df.loc[i - 1, 'Loan Balance'] - df.loc[i, 'Principal Paydown']\n",
    "        \n",
    "    return df  "
   ]
  },
  {
   "cell_type": "code",
   "execution_count": 28,
   "metadata": {},
   "outputs": [],
   "source": [
    "principal = 1000000\n",
    "annual_rate = 0.04\n",
    "years_mortgage = 30\n",
    "monthly_emi = find_monthly_amount(principal, annual_rate, years_mortgage)\n",
    "df_30 = fixed_rate_mortgage_ammortization_schedule(principal, monthly_emi, annual_rate, years_mortgage)"
   ]
  },
  {
   "cell_type": "code",
   "execution_count": 30,
   "metadata": {},
   "outputs": [],
   "source": [
    "principal = 1000000\n",
    "annual_rate = 0.025\n",
    "years_mortgage = 20\n",
    "monthly_emi = find_monthly_amount(principal, annual_rate, years_mortgage)\n",
    "df_20 = fixed_rate_mortgage_ammortization_schedule(principal, monthly_emi, annual_rate, years_mortgage)"
   ]
  },
  {
   "cell_type": "code",
   "execution_count": 38,
   "metadata": {},
   "outputs": [],
   "source": [
    "ir_data = pd.read_csv('mortgage_rate.txt', sep=\"\\t\")"
   ]
  },
  {
   "cell_type": "code",
   "execution_count": 39,
   "metadata": {},
   "outputs": [
    {
     "data": {
      "text/html": [
       "<div>\n",
       "<style scoped>\n",
       "    .dataframe tbody tr th:only-of-type {\n",
       "        vertical-align: middle;\n",
       "    }\n",
       "\n",
       "    .dataframe tbody tr th {\n",
       "        vertical-align: top;\n",
       "    }\n",
       "\n",
       "    .dataframe thead th {\n",
       "        text-align: right;\n",
       "    }\n",
       "</style>\n",
       "<table border=\"1\" class=\"dataframe\">\n",
       "  <thead>\n",
       "    <tr style=\"text-align: right;\">\n",
       "      <th></th>\n",
       "      <th>Year counter</th>\n",
       "      <th>DATE</th>\n",
       "      <th>MORTGAGE30US</th>\n",
       "    </tr>\n",
       "  </thead>\n",
       "  <tbody>\n",
       "    <tr>\n",
       "      <th>0</th>\n",
       "      <td>1</td>\n",
       "      <td>1/5/1990</td>\n",
       "      <td>9.83</td>\n",
       "    </tr>\n",
       "    <tr>\n",
       "      <th>1</th>\n",
       "      <td>1</td>\n",
       "      <td>1/12/1990</td>\n",
       "      <td>9.80</td>\n",
       "    </tr>\n",
       "    <tr>\n",
       "      <th>2</th>\n",
       "      <td>1</td>\n",
       "      <td>1/19/1990</td>\n",
       "      <td>9.90</td>\n",
       "    </tr>\n",
       "    <tr>\n",
       "      <th>3</th>\n",
       "      <td>1</td>\n",
       "      <td>1/26/1990</td>\n",
       "      <td>10.05</td>\n",
       "    </tr>\n",
       "    <tr>\n",
       "      <th>4</th>\n",
       "      <td>2</td>\n",
       "      <td>2/2/1990</td>\n",
       "      <td>10.17</td>\n",
       "    </tr>\n",
       "    <tr>\n",
       "      <th>...</th>\n",
       "      <td>...</td>\n",
       "      <td>...</td>\n",
       "      <td>...</td>\n",
       "    </tr>\n",
       "    <tr>\n",
       "      <th>1613</th>\n",
       "      <td>372</td>\n",
       "      <td>12/3/2020</td>\n",
       "      <td>2.71</td>\n",
       "    </tr>\n",
       "    <tr>\n",
       "      <th>1614</th>\n",
       "      <td>372</td>\n",
       "      <td>12/10/2020</td>\n",
       "      <td>2.71</td>\n",
       "    </tr>\n",
       "    <tr>\n",
       "      <th>1615</th>\n",
       "      <td>372</td>\n",
       "      <td>12/17/2020</td>\n",
       "      <td>2.67</td>\n",
       "    </tr>\n",
       "    <tr>\n",
       "      <th>1616</th>\n",
       "      <td>372</td>\n",
       "      <td>12/24/2020</td>\n",
       "      <td>2.66</td>\n",
       "    </tr>\n",
       "    <tr>\n",
       "      <th>1617</th>\n",
       "      <td>372</td>\n",
       "      <td>12/31/2020</td>\n",
       "      <td>2.67</td>\n",
       "    </tr>\n",
       "  </tbody>\n",
       "</table>\n",
       "<p>1618 rows × 3 columns</p>\n",
       "</div>"
      ],
      "text/plain": [
       "      Year counter        DATE  MORTGAGE30US\n",
       "0                1    1/5/1990          9.83\n",
       "1                1   1/12/1990          9.80\n",
       "2                1   1/19/1990          9.90\n",
       "3                1   1/26/1990         10.05\n",
       "4                2    2/2/1990         10.17\n",
       "...            ...         ...           ...\n",
       "1613           372   12/3/2020          2.71\n",
       "1614           372  12/10/2020          2.71\n",
       "1615           372  12/17/2020          2.67\n",
       "1616           372  12/24/2020          2.66\n",
       "1617           372  12/31/2020          2.67\n",
       "\n",
       "[1618 rows x 3 columns]"
      ]
     },
     "execution_count": 39,
     "metadata": {},
     "output_type": "execute_result"
    }
   ],
   "source": [
    "ir_data"
   ]
  },
  {
   "cell_type": "code",
   "execution_count": null,
   "metadata": {},
   "outputs": [],
   "source": []
  }
 ],
 "metadata": {
  "kernelspec": {
   "display_name": "Python 3",
   "language": "python",
   "name": "python3"
  },
  "language_info": {
   "codemirror_mode": {
    "name": "ipython",
    "version": 3
   },
   "file_extension": ".py",
   "mimetype": "text/x-python",
   "name": "python",
   "nbconvert_exporter": "python",
   "pygments_lexer": "ipython3",
   "version": "3.7.3"
  }
 },
 "nbformat": 4,
 "nbformat_minor": 2
}
