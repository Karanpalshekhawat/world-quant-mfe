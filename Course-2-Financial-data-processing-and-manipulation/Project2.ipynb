{
 "cells": [
  {
   "cell_type": "code",
   "execution_count": 20,
   "metadata": {},
   "outputs": [],
   "source": [
    "import pandas as pd\n",
    "import numpy as np\n",
    "import numpy_financial as nf"
   ]
  },
  {
   "cell_type": "code",
   "execution_count": 21,
   "metadata": {},
   "outputs": [],
   "source": [
    "def find_monthly_amount(principal, annual_rate, years):\n",
    "    \"\"\"\n",
    "    Computes monthly payment for a given loan_balance\n",
    "    \n",
    "    Args:\n",
    "        principal (float) : Loan balance\n",
    "        annual_rate (float) : applicable annualized interest rate\n",
    "        years (int) : number of years left in mortgage\n",
    "    \n",
    "    Returns:\n",
    "        emi amount (float)\n",
    "    \"\"\"\n",
    "    monthly_rate = annual_rate / 12\n",
    "    nper = years * 12\n",
    "    \n",
    "    return nf.pmt(monthly_rate, nper, -principal, 0, when='end')  "
   ]
  },
  {
   "cell_type": "code",
   "execution_count": 27,
   "metadata": {},
   "outputs": [],
   "source": [
    "def fixed_rate_mortgage_ammortization_schedule(principal, monthly_emi, rate, years):\n",
    "    \"\"\"\n",
    "    Computes a mortgage schedule\n",
    "    \n",
    "    Args:\n",
    "        principal (float) : Loan balance\n",
    "        monthly_emi (float) : monthly payout\n",
    "        rate (float) : annualized IR\n",
    "        years (int) : time frame\n",
    "        \n",
    "    Returns:\n",
    "        pandas DataFrame of a payment structure\n",
    "    \"\"\"\n",
    "    columns = ['Fixed Payment Amount', 'Principal Paydown', 'Interest Applied', 'Loan Balance']\n",
    "    df = pd.DataFrame(0, index=np.arange(years * 12 + 1), columns=columns)\n",
    "    df.iloc[0]['Loan Balance'] = principal\n",
    "    for i in range(1, len(df)):\n",
    "        df.loc[i, 'Fixed Payment Amount'] = monthly_emi\n",
    "        df.loc[i, 'Interest Applied'] = (rate / 12) * df.loc[i - 1, 'Loan Balance']\n",
    "        df.loc[i, 'Principal Paydown'] = df.loc[i, 'Fixed Payment Amount'] - df.loc[i, 'Interest Applied']\n",
    "        df.loc[i, 'Loan Balance'] = df.loc[i - 1, 'Loan Balance'] - df.loc[i, 'Principal Paydown']\n",
    "        \n",
    "    return df  "
   ]
  },
  {
   "cell_type": "code",
   "execution_count": 28,
   "metadata": {},
   "outputs": [],
   "source": []
  },
  {
   "cell_type": "code",
   "execution_count": 30,
   "metadata": {},
   "outputs": [],
   "source": []
  },
  {
   "cell_type": "code",
   "execution_count": 40,
   "metadata": {},
   "outputs": [],
   "source": [
    "git_raw_cont = \"https://raw.githubusercontent.com/Karanpalshekhawat/world-quant-mfe/main/Course-2-Financial-data-processing-and-manipulation/mortgage_rate.txt\""
   ]
  },
  {
   "cell_type": "code",
   "execution_count": 41,
   "metadata": {},
   "outputs": [],
   "source": [
    "ir_data = pd.read_csv(git_raw_cont, sep=\"\\t\")"
   ]
  },
  {
   "cell_type": "code",
   "execution_count": 48,
   "metadata": {},
   "outputs": [],
   "source": [
    "def check_switch(i, fixed):\n",
    "    if i == 1:\n",
    "        return True\n",
    "    elif i <= fixed*12:\n",
    "        return False\n",
    "    elif i % 12 == 1:\n",
    "        return True\n",
    "    else:\n",
    "        return False"
   ]
  },
  {
   "cell_type": "code",
   "execution_count": 90,
   "metadata": {},
   "outputs": [],
   "source": [
    "def adjusted_rate_mortgage_ammortization_schedule(principal, ir_data, fixed_years, total_years, margin):\n",
    "    \"\"\"\n",
    "    Computes a mortgage schedule\n",
    "    \n",
    "    Args:\n",
    "        principal (float) : Loan balance\n",
    "        ir_data (float) : interest rate data to look up annulaized rate\n",
    "        fixed_years (int) : number of years where the interest rate is fixed\n",
    "        total_years (int) : full term years\n",
    "        margin (float) :  top up on interest rate\n",
    "           \n",
    "    Returns:\n",
    "        pandas DataFrame of a payment structure\n",
    "    \"\"\"\n",
    "    columns = ['Fixed Payment Amount', 'Principal Paydown', 'Interest Applied', 'Loan Balance', 'Interest rate applied']\n",
    "    df = pd.DataFrame(0, index=np.arange(total_years * 12 + 1), columns=columns)\n",
    "    df.iloc[0]['Loan Balance'] = principal\n",
    "    for i in range(1, len(df)):\n",
    "        switch = check_switch(i, fixed_years)\n",
    "        if switch:\n",
    "            rate = (ir_data[ir_data['Year counter'] == i].iloc[0]['MORTGAGE30US'] + margin) / 100\n",
    "            monthly_emi = find_monthly_amount(df.loc[i - 1, 'Loan Balance'], rate, (total_years * 12 + 1 - i) / 12)\n",
    "        df.loc[i, 'Fixed Payment Amount'] = monthly_emi\n",
    "        df.loc[i, 'Interest rate applied'] = rate\n",
    "        df.loc[i, 'Interest Applied'] = (rate / 12) * df.loc[i - 1, 'Loan Balance']\n",
    "        df.loc[i, 'Principal Paydown'] = df.loc[i, 'Fixed Payment Amount'] - df.loc[i, 'Interest Applied']\n",
    "        df.loc[i, 'Loan Balance'] = df.loc[i - 1, 'Loan Balance'] - df.loc[i, 'Principal Paydown']\n",
    "        \n",
    "    return df"
   ]
  },
  {
   "cell_type": "code",
   "execution_count": 95,
   "metadata": {},
   "outputs": [],
   "source": [
    "principal = 1000000\n",
    "annual_rate = 0.04\n",
    "years_mortgage = 30\n",
    "monthly_emi = find_monthly_amount(principal, annual_rate, years_mortgage)\n",
    "df_fixed_30 = fixed_rate_mortgage_ammortization_schedule(principal, monthly_emi, annual_rate, years_mortgage)"
   ]
  },
  {
   "cell_type": "code",
   "execution_count": 96,
   "metadata": {},
   "outputs": [],
   "source": [
    "principal = 1000000\n",
    "margin = 0.005\n",
    "years_mortgage = 30\n",
    "fixed_years = 7\n",
    "df_arm_30 = adjusted_rate_mortgage_ammortization_schedule(principal, ir_data, fixed_years, years_mortgage, margin)"
   ]
  },
  {
   "cell_type": "code",
   "execution_count": 97,
   "metadata": {},
   "outputs": [],
   "source": [
    "principal = 1000000\n",
    "annual_rate = 0.025\n",
    "years_mortgage = 20\n",
    "monthly_emi = find_monthly_amount(principal, annual_rate, years_mortgage)\n",
    "df_fixed_20 = fixed_rate_mortgage_ammortization_schedule(principal, monthly_emi, annual_rate, years_mortgage)"
   ]
  },
  {
   "cell_type": "code",
   "execution_count": 99,
   "metadata": {},
   "outputs": [],
   "source": [
    "df_fixed_30.to_excel('Fixed_30_years_ammortization_python_output.xlsx')\n",
    "df_fixed_20.to_excel('Fixed_20_years_ammortization_python_output.xlsx')\n",
    "df_arm_30.to_excel('Adjusted_30_years_ammortization_python_output.xlsx')"
   ]
  },
  {
   "cell_type": "code",
   "execution_count": null,
   "metadata": {},
   "outputs": [],
   "source": []
  }
 ],
 "metadata": {
  "kernelspec": {
   "display_name": "Python 3",
   "language": "python",
   "name": "python3"
  },
  "language_info": {
   "codemirror_mode": {
    "name": "ipython",
    "version": 3
   },
   "file_extension": ".py",
   "mimetype": "text/x-python",
   "name": "python",
   "nbconvert_exporter": "python",
   "pygments_lexer": "ipython3",
   "version": "3.7.3"
  }
 },
 "nbformat": 4,
 "nbformat_minor": 2
}
